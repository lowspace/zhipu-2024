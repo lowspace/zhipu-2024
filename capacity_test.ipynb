{
 "cells": [
  {
   "cell_type": "code",
   "execution_count": 2,
   "metadata": {},
   "outputs": [
    {
     "name": "stdout",
     "output_type": "stream",
     "text": [
      "CompletionMessage(content='这是一个经典的逻辑问题，需要仔细规划每一步来确保所有物品都能安全过河。以下是详细的步骤：\\n\\n1. **第一步**：农夫首先带羊过河。\\n   - 左岸：狼、白菜\\n   - 右岸：羊\\n\\n2. **第二步**：农夫回到左岸，不带任何物品。\\n   - 左岸：狼、白菜\\n   - 右岸：羊\\n\\n3. **第三步**：农夫带狼过河。\\n   - 左岸：白菜\\n   - 右岸：羊、狼\\n\\n4. **第四步**：农夫将羊带回左岸。\\n   - 左岸：羊、白菜\\n   - 右岸：狼\\n\\n5. **第五步**：农夫带白菜过河。\\n   - 左岸：羊\\n   - 右岸：狼、白菜\\n\\n6. **第六步**：农夫回到左岸，不带任何物品。\\n   - 左岸：羊\\n   - 右岸：狼、白菜\\n\\n7. **第七步**：农夫最后带羊过河。\\n   - 左岸：无\\n   - 右岸：狼、羊、白菜\\n\\n通过以上步骤，农夫成功地将狼、羊和白菜都带过了河，且没有违反任何规则（狼和羊没有单独相处，羊和白菜也没有单独相处）。\\n\\n希望这个解答对你有帮助！如果有其他问题，欢迎继续提问。', role='assistant', tool_calls=None)\n"
     ]
    }
   ],
   "source": [
    "from zhipuai import ZhipuAI\n",
    "client = ZhipuAI(api_key=\"1430f2573b273bebdf21c8d68c91d3d6.71llzxJFa9x2Z6ex\") # 填写您自己的APIKey\n",
    "response = client.chat.completions.create(\n",
    "    model=\"glm-4-plus\",  # 填写需要调用的模型编码\n",
    "    messages=[\n",
    "        {\"role\": \"system\", \"content\": \"你是一个乐于解答各种问题的助手，你的任务是为用户提供专业、准确、有见地的建议。\"},\n",
    "        {\"role\": \"user\", \"content\": \"农夫需要把狼、羊和白菜都带过河，但每次只能带一样物品，而且狼和羊不能单独相处，羊和白菜也不能单独相处，问农夫该如何过河。\"}\n",
    "    ],\n",
    ")\n",
    "print(response.choices[0].message)"
   ]
  }
 ],
 "metadata": {
  "kernelspec": {
   "display_name": "llm_api",
   "language": "python",
   "name": "python3"
  },
  "language_info": {
   "codemirror_mode": {
    "name": "ipython",
    "version": 3
   },
   "file_extension": ".py",
   "mimetype": "text/x-python",
   "name": "python",
   "nbconvert_exporter": "python",
   "pygments_lexer": "ipython3",
   "version": "3.10.14"
  }
 },
 "nbformat": 4,
 "nbformat_minor": 2
}

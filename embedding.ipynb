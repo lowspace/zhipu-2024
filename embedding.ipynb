{
 "cells": [
  {
   "cell_type": "markdown",
   "metadata": {},
   "source": [
    "# Init"
   ]
  },
  {
   "cell_type": "code",
   "execution_count": 1,
   "metadata": {},
   "outputs": [],
   "source": [
    "import sys\n",
    "import os\n",
    "import json\n",
    "import time\n",
    "import re\n",
    "\n",
    "from tqdm import tqdm\n",
    "\n",
    "cwd = os.getcwd()\n",
    "os.chdir(cwd)\n",
    "sys.path.append('tools')\n",
    "\n",
    "import chat\n",
    "import parse_data\n",
    "import ner"
   ]
  },
  {
   "cell_type": "code",
   "execution_count": 2,
   "metadata": {},
   "outputs": [
    {
     "name": "stdout",
     "output_type": "stream",
     "text": [
      "Cosine Similarity: 0.9746318461970762\n"
     ]
    }
   ],
   "source": [
    "import numpy as np\n",
    "\n",
    "def cosine_similarity(vec1, vec2):\n",
    "    # Compute the dot product of the vectors\n",
    "    dot_product = np.dot(vec1, vec2)\n",
    "    # Compute the magnitude (norm) of each vector\n",
    "    norm_vec1 = np.linalg.norm(vec1)\n",
    "    norm_vec2 = np.linalg.norm(vec2)\n",
    "    # Return the cosine similarity\n",
    "    return dot_product / (norm_vec1 * norm_vec2)\n",
    "\n",
    "# Example\n",
    "vector1 = np.array([1, 2, 3])\n",
    "vector2 = np.array([4, 5, 6])\n",
    "similarity = cosine_similarity(vector1, vector2)\n",
    "print(f\"Cosine Similarity: {similarity}\")"
   ]
  },
  {
   "cell_type": "markdown",
   "metadata": {},
   "source": [
    "# Test: Table Description & Query"
   ]
  },
  {
   "cell_type": "code",
   "execution_count": 3,
   "metadata": {},
   "outputs": [],
   "source": [
    "tables = {\n",
    "    \"ConstantDB\": {\n",
    "        \"intro\": \"作为常量库，包含各种基础性、标准化的参照表，如证券主表（记录股票、基金、债券等基础信息）、系统常量表（各种常量分类）、国家城市代码表、交易日表等。\"\n",
    "    },\n",
    "    \"AStockBasicInfoDB\": {\n",
    "        \"intro\": \"主要收录 A 股上市公司的基础信息，如公司概况、名称变更、经营范围与行业变更等，帮助用户快速了解公司基本背景。\"\n",
    "    },\n",
    "    \"AStockIndustryDB\": {\n",
    "        \"intro\": \"聚焦 A 股上市公司的行业划分、概念板块、行业衍生指标以及行业估值、财务指标等，能反映公司所处行业、行业变动以及行业层面的综合表现。\"\n",
    "    },\n",
    "    \"AStockOperationsDB\": {\n",
    "        \"intro\": \"记录 A 股上市公司在供应链端的供销数据、人力资源数据等，反映企业在业务运营层面的情况，包括供应商、客户信息、职工构成等。\"\n",
    "    },\n",
    "    \"AStockShareholderDB\": {\n",
    "        \"intro\": \"涵盖 A 股上市公司股东与股本结构、实际控制人、股权变动、股东大会出席情况等治理层面的信息，用于跟踪公司所有权结构及其历史变动。\"\n",
    "    },\n",
    "    \"AStockFinanceDB\": {\n",
    "        \"intro\": \"着重于 A 股上市公司的财务报表与融资分红数据，包括资产负债表、利润表、现金流量表、增发配股分红、主营业务构成等财务核心信息。\"\n",
    "    },\n",
    "    \"AStockMarketQuotesDB\": {\n",
    "        \"intro\": \"存储 A 股市场行情相关数据，包括日行情、成交量指标、资金流向指标、技术形态等，为分析股价走势、交易活跃度和资金进出提供依据。\"\n",
    "    },\n",
    "    \"AStockEventsDB\": {\n",
    "        \"intro\": \"收录 A 股上市公司在公告、临时公告中披露的重大事件，如担保、借贷、诉讼仲裁、委托理财、资产重组、重大合同等。\"\n",
    "    },\n",
    "    \"HKStockDB\": {\n",
    "        \"intro\": \"专门用于港股（香港上市公司）相关的基础信息与数据，包括公司概况、员工变动、港股行情表现等。\"\n",
    "    },\n",
    "    \"USStockDB\": {\n",
    "        \"intro\": \"面向美国市场上市公司的基础信息和交易行情，包含公司概况、股票每日收盘行情等。\"\n",
    "    },\n",
    "    \"PublicFundDB\": {\n",
    "        \"intro\": \"公募基金相关数据库，记录基金概况、产品名称、管理人概况、基金分红等，适用于各种公募基金研究和投资分析。\"\n",
    "    },\n",
    "    \"CreditDB\": {\n",
    "        \"intro\": \"专注于违规惩处信息，记录相关主体（个人、机构）在证券市场的处罚信息，包括处罚机构、违规类型、涉及金额等。\"\n",
    "    },\n",
    "    \"IndexDB\": {\n",
    "        \"intro\": \"收录市场上主要指数的基础信息和成份数据，如指数发布机构、计算方法、成份股列表及其变动历史。\"\n",
    "    },\n",
    "    \"InstitutionDB\": {\n",
    "        \"intro\": \"包含市场主要机构（证券公司、信托公司、保险公司等）的基本信息，以及聚源舆情与事件体系相关的配套表，帮助用户研究机构背景或事件舆情。\"\n",
    "    }\n",
    "}"
   ]
  },
  {
   "cell_type": "code",
   "execution_count": 4,
   "metadata": {},
   "outputs": [],
   "source": [
    "from zhipuai import ZhipuAI\n",
    "\n",
    "api_key = chat.load_api_key()\n",
    "\n",
    "def compute_embedding(text: str) -> list:\n",
    "    client = ZhipuAI(api_key=api_key) \n",
    "    response = client.embeddings.create(\n",
    "        model=\"embedding-3\", #填写需要调用的模型编码\n",
    "        input=[\n",
    "            text,\n",
    "        ],\n",
    "    )\n",
    "    res = json.loads(response.to_json())['data'][0]['embedding']\n",
    "\n",
    "    return res"
   ]
  },
  {
   "cell_type": "code",
   "execution_count": 5,
   "metadata": {},
   "outputs": [],
   "source": [
    "for k, v in tables.items():\n",
    "    text = v['intro']\n",
    "    tables[k]['embedding'] = compute_embedding(text)"
   ]
  },
  {
   "cell_type": "code",
   "execution_count": 6,
   "metadata": {},
   "outputs": [],
   "source": [
    "query = \"化工纳入过多少个子类概念？\"\n",
    "e = compute_embedding(query)"
   ]
  },
  {
   "cell_type": "code",
   "execution_count": 7,
   "metadata": {},
   "outputs": [],
   "source": [
    "# {query: {embedding: , top_10: ,}}\n",
    "cases = {}"
   ]
  },
  {
   "cell_type": "code",
   "execution_count": 8,
   "metadata": {},
   "outputs": [],
   "source": [
    "def run_test(query: str):\n",
    "\n",
    "    e = compute_embedding(query)\n",
    "\n",
    "    for k, v in tables.items():\n",
    "        tables[k]['similarity'] = cosine_similarity(tables[k]['embedding'], e)\n",
    "\n",
    "    # 1. Sort by 'similarity' in descending order\n",
    "    sorted_data = sorted(\n",
    "        tables.items(), \n",
    "        key=lambda item: item[1]['similarity'], \n",
    "        reverse=True\n",
    "    )\n",
    "\n",
    "    # 2. Slice the top 10\n",
    "    top_10 = sorted_data[:10]\n",
    "    top_10_res = []\n",
    "\n",
    "    # 3. Display the table name and its intro\n",
    "    for table_name, info in top_10:\n",
    "        top_10_res.append(f\"{table_name}: {info['intro']} (similarity={info['similarity']})\")\n",
    "\n",
    "    cases.update({query: {\"embedding\": e, \"top_10\": top_10_res}})\n",
    "\n",
    "    print('\\n'.join(top_10_res))\n",
    "\n",
    "def show_case(data: dict, top: int):\n",
    "\n",
    "    for k, v in data.items():\n",
    "        tmp = '\\n'.join(v['top_10'][:top])\n",
    "        print(f\"{k}:\\n{tmp}\\n\")"
   ]
  },
  {
   "cell_type": "code",
   "execution_count": 9,
   "metadata": {},
   "outputs": [
    {
     "name": "stdout",
     "output_type": "stream",
     "text": [
      "USStockDB: 面向美国市场上市公司的基础信息和交易行情，包含公司概况、股票每日收盘行情等。 (similarity=0.3784781831258849)\n",
      "AStockOperationsDB: 记录 A 股上市公司在供应链端的供销数据、人力资源数据等，反映企业在业务运营层面的情况，包括供应商、客户信息、职工构成等。 (similarity=0.3463383196265334)\n",
      "AStockFinanceDB: 着重于 A 股上市公司的财务报表与融资分红数据，包括资产负债表、利润表、现金流量表、增发配股分红、主营业务构成等财务核心信息。 (similarity=0.3442859793662114)\n",
      "AStockBasicInfoDB: 主要收录 A 股上市公司的基础信息，如公司概况、名称变更、经营范围与行业变更等，帮助用户快速了解公司基本背景。 (similarity=0.3344667722486298)\n",
      "AStockShareholderDB: 涵盖 A 股上市公司股东与股本结构、实际控制人、股权变动、股东大会出席情况等治理层面的信息，用于跟踪公司所有权结构及其历史变动。 (similarity=0.33085064862278246)\n",
      "AStockMarketQuotesDB: 存储 A 股市场行情相关数据，包括日行情、成交量指标、资金流向指标、技术形态等，为分析股价走势、交易活跃度和资金进出提供依据。 (similarity=0.3273826957838641)\n",
      "HKStockDB: 专门用于港股（香港上市公司）相关的基础信息与数据，包括公司概况、员工变动、港股行情表现等。 (similarity=0.3159575666689483)\n",
      "IndexDB: 收录市场上主要指数的基础信息和成份数据，如指数发布机构、计算方法、成份股列表及其变动历史。 (similarity=0.30971171338450704)\n",
      "AStockIndustryDB: 聚焦 A 股上市公司的行业划分、概念板块、行业衍生指标以及行业估值、财务指标等，能反映公司所处行业、行业变动以及行业层面的综合表现。 (similarity=0.28534446126465113)\n",
      "AStockEventsDB: 收录 A 股上市公司在公告、临时公告中披露的重大事件，如担保、借贷、诉讼仲裁、委托理财、资产重组、重大合同等。 (similarity=0.27592186152861337)\n"
     ]
    }
   ],
   "source": [
    "run_test('深科技在2021年12月24日的交易数据如何?具体包括收盘价、成交量、换手率，保留2位小数。')"
   ]
  },
  {
   "cell_type": "code",
   "execution_count": 10,
   "metadata": {},
   "outputs": [
    {
     "name": "stdout",
     "output_type": "stream",
     "text": [
      "深科技在2021年12月24日的交易数据如何?具体包括收盘价、成交量、换手率，保留2位小数。:\n",
      "USStockDB: 面向美国市场上市公司的基础信息和交易行情，包含公司概况、股票每日收盘行情等。 (similarity=0.3784781831258849)\n",
      "AStockOperationsDB: 记录 A 股上市公司在供应链端的供销数据、人力资源数据等，反映企业在业务运营层面的情况，包括供应商、客户信息、职工构成等。 (similarity=0.3463383196265334)\n",
      "AStockFinanceDB: 着重于 A 股上市公司的财务报表与融资分红数据，包括资产负债表、利润表、现金流量表、增发配股分红、主营业务构成等财务核心信息。 (similarity=0.3442859793662114)\n",
      "AStockBasicInfoDB: 主要收录 A 股上市公司的基础信息，如公司概况、名称变更、经营范围与行业变更等，帮助用户快速了解公司基本背景。 (similarity=0.3344667722486298)\n",
      "AStockShareholderDB: 涵盖 A 股上市公司股东与股本结构、实际控制人、股权变动、股东大会出席情况等治理层面的信息，用于跟踪公司所有权结构及其历史变动。 (similarity=0.33085064862278246)\n",
      "\n"
     ]
    }
   ],
   "source": [
    "show_case(cases, 5)"
   ]
  },
  {
   "cell_type": "markdown",
   "metadata": {},
   "source": [
    "# TEST: Query & Market"
   ]
  },
  {
   "cell_type": "code",
   "execution_count": 3,
   "metadata": {},
   "outputs": [],
   "source": [
    "from zhipuai import ZhipuAI\n",
    "\n",
    "api_key = chat.load_api_key()\n",
    "\n",
    "def compute_embedding(text: str) -> list:\n",
    "    client = ZhipuAI(api_key=api_key) \n",
    "    response = client.embeddings.create(\n",
    "        model=\"embedding-3\", #填写需要调用的模型编码\n",
    "        input=[\n",
    "            text,\n",
    "        ],\n",
    "    )\n",
    "    res = json.loads(response.to_json())['data'][0]['embedding']\n",
    "\n",
    "    return res"
   ]
  },
  {
   "cell_type": "code",
   "execution_count": 6,
   "metadata": {},
   "outputs": [
    {
     "data": {
      "text/plain": [
       "0.526263222125305"
      ]
     },
     "execution_count": 6,
     "metadata": {},
     "output_type": "execute_result"
    },
    {
     "data": {
      "text/plain": [
       "0.6100846185343104"
      ]
     },
     "execution_count": 6,
     "metadata": {},
     "output_type": "execute_result"
    },
    {
     "data": {
      "text/plain": [
       "0.5660880718358094"
      ]
     },
     "execution_count": 6,
     "metadata": {},
     "output_type": "execute_result"
    }
   ],
   "source": [
    "us = compute_embedding('US，美股，美国')\n",
    "hk = compute_embedding('HK，港股，香港')\n",
    "cn = compute_embedding('CN，A股，中国')\n",
    "\n",
    "query = compute_embedding('波司登在港股的股票代码是什么？')\n",
    "\n",
    "cosine_similarity(us, query)\n",
    "\n",
    "cosine_similarity(hk, query)\n",
    "\n",
    "cosine_similarity(cn, query)"
   ]
  },
  {
   "cell_type": "code",
   "execution_count": 8,
   "metadata": {},
   "outputs": [],
   "source": [
    "import numpy as np\n",
    "\n",
    "# 使用 savez 存储多个数组，并为每个数组指定名字\n",
    "np.savez('embeddings.npz', CN=cn, US=us, HK=hk)"
   ]
  },
  {
   "cell_type": "code",
   "execution_count": 3,
   "metadata": {},
   "outputs": [
    {
     "data": {
      "text/plain": [
       "'HK'"
      ]
     },
     "execution_count": 3,
     "metadata": {},
     "output_type": "execute_result"
    }
   ],
   "source": [
    "ner.match_market_through_embedding('波司登在港股的股票代码是什么？')"
   ]
  }
 ],
 "metadata": {
  "kernelspec": {
   "display_name": "llm_api",
   "language": "python",
   "name": "python3"
  },
  "language_info": {
   "codemirror_mode": {
    "name": "ipython",
    "version": 3
   },
   "file_extension": ".py",
   "mimetype": "text/x-python",
   "name": "python",
   "nbconvert_exporter": "python",
   "pygments_lexer": "ipython3",
   "version": "3.10.14"
  }
 },
 "nbformat": 4,
 "nbformat_minor": 2
}

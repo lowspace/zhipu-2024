{
 "cells": [
  {
   "cell_type": "markdown",
   "metadata": {},
   "source": [
    "# Init"
   ]
  },
  {
   "cell_type": "code",
   "execution_count": 1,
   "metadata": {},
   "outputs": [],
   "source": [
    "import sys\n",
    "import os\n",
    "import json\n",
    "import time\n",
    "import re\n",
    "\n",
    "from tqdm import tqdm\n",
    "\n",
    "cwd = os.getcwd()\n",
    "os.chdir(cwd)\n",
    "sys.path.append('tools')\n",
    "\n",
    "import chat\n",
    "import parse_data\n",
    "import sql"
   ]
  },
  {
   "cell_type": "code",
   "execution_count": 2,
   "metadata": {},
   "outputs": [],
   "source": [
    "question_path = os.path.join(cwd, 'data' + os.sep + 'question-b.json')\n",
    "\n",
    "questions = parse_data.read_json(question_path)\n",
    "# sort the questions by tid\n",
    "questions = sorted(questions, key=lambda x: int(x['tid'].split('-')[-1]))"
   ]
  },
  {
   "cell_type": "markdown",
   "metadata": {},
   "source": [
    "# NER"
   ]
  },
  {
   "cell_type": "markdown",
   "metadata": {},
   "source": [
    "## TOOL"
   ]
  },
  {
   "cell_type": "code",
   "execution_count": 3,
   "metadata": {},
   "outputs": [],
   "source": [
    "def sub_select_content(query: str) -> str:\n",
    "    reg_p = re.compile('(?<=SELECT )\\w+(?= FROM)')\n",
    "    res = re.sub(reg_p, '*', query)\n",
    "\n",
    "    return res"
   ]
  },
  {
   "cell_type": "markdown",
   "metadata": {},
   "source": [
    "## Craft Prompt"
   ]
  },
  {
   "cell_type": "code",
   "execution_count": 4,
   "metadata": {},
   "outputs": [],
   "source": [
    "system_prompt = \"\"\n",
    "\n",
    "version = 'v2.2.1'\n",
    "task = 'ner'\n",
    "\n",
    "prompt_dir = os.path.join(cwd, 'prompt')\n",
    "fname = f'{task}-stage_1-{version}.md'\n",
    "ner_prompt_fpath = os.path.join(prompt_dir, fname)\n",
    "ner_valid_prompt_fpath = os.path.join(prompt_dir, 'ner-validation-v1.0.0.md')\n",
    "\n",
    "with open(ner_prompt_fpath, 'r') as f:\n",
    "    ner_prompt_template = ''.join(f.readlines())\n",
    "\n",
    "with open(ner_valid_prompt_fpath, 'r') as f:\n",
    "    ner_valid_prompt_template = ''.join(f.readlines())\n",
    "\n",
    "def make_ner_prompt(conversation_turn: dict) -> str:\n",
    "\n",
    "    query = conversation_turn['team'][0]['question']\n",
    "\n",
    "    prompt = ner_prompt_template + query\n",
    "\n",
    "    return prompt\n",
    "\n",
    "def make_ner_valid_prompt(question: dict) -> str:\n",
    "\n",
    "    query = question['team'][0]['question']\n",
    "    ner_result = question['ner']['stage_1']['result']\n",
    "    ner_sql_result = question['ner']['stage_1']['sql']\n",
    "\n",
    "    # use the number of potential ner sql queries to determine whether to include raw query\n",
    "    l = max((len(v) for v in ner_sql_result.values()), default=1)\n",
    "\n",
    "    if l == 3:\n",
    "        tmp = {\n",
    "            \"query\": query,\n",
    "            \"ner_result\": ner_result,\n",
    "            \"ner_sql_result\": ner_sql_result\n",
    "        }\n",
    "    else:\n",
    "        tmp = {\n",
    "            \"ner_result\": ner_result,\n",
    "            \"ner_sql_result\": ner_sql_result\n",
    "        } \n",
    "\n",
    "    prompt = ner_valid_prompt_template + json.dumps(tmp, ensure_ascii=False, indent=2)\n",
    "\n",
    "    return prompt"
   ]
  },
  {
   "cell_type": "markdown",
   "metadata": {},
   "source": [
    "## GLM"
   ]
  },
  {
   "cell_type": "code",
   "execution_count": 5,
   "metadata": {},
   "outputs": [],
   "source": [
    "model = 'glm_4_plus'"
   ]
  },
  {
   "cell_type": "markdown",
   "metadata": {},
   "source": [
    "### Test"
   ]
  },
  {
   "cell_type": "code",
   "execution_count": 19,
   "metadata": {},
   "outputs": [
    {
     "name": "stdout",
     "output_type": "stream",
     "text": [
      "{'prompt_tokens': 924, 'completion_tokens': 105, 'total_tokens': 1029}\n",
      "```json\n",
      "{\n",
      "    \"reasoning_process_cot\": \"从问题中可以看出，查询的是在特定日期（2021-12-21）A股市场中创出月度新高的公司及其证券代码。虽然问题中没有直接提及具体的公司名称和代码，但可以推断出需要识别的实体类型包括上市公司名称和代码。由于问题中没有提供具体的公司名称和代码，无法直接识别出具体的实体，但可以明确需要识别的实体类型。\",\n",
      "    \"result\": []\n",
      "}\n",
      "```\n"
     ]
    }
   ],
   "source": [
    "query = make_ner_prompt(questions[51])\n",
    "\n",
    "history = []\n",
    "\n",
    "start_time = time.time()\n",
    "message = chat.create_message(query, history=history, system_prompt=system_prompt, temperature=0.7, top_p=0.9, response_format='text')\n",
    "end_time = time.time()\n",
    "\n",
    "execution_time = end_time - start_time\n",
    "usage = chat.get_token_usage(message, True)\n",
    "content = chat.get_content(message, True)\n",
    "history = chat.build_history(history, message=message)\n",
    "\n",
    "t = questions[0].copy()\n",
    "t['ner_result'] = {}\n",
    "t['ner_result']['stage_1'] = json.loads(content.strip('`json'))\n",
    "t['token_usage'] = {}\n",
    "t['token_usage']['ner-stage_1'] = usage\n",
    "t['time_usage'] = {}\n",
    "t['time_usage']['ner-stage_1'] = f\"{execution_time:.2f}s\"\n",
    "t = [t]\n",
    "\n",
    "saved_path = os.path.join(cwd, 'answer_tmp' + os.sep + f'stage_1-{model}-{task}-test-{version}.json')\n",
    "parse_data.write_json(t, saved_path)"
   ]
  },
  {
   "cell_type": "markdown",
   "metadata": {},
   "source": [
    "### ALL\n",
    "\n",
    "Bad cases:\n",
    "\n",
    "27:28 博时基金公司成立于？用XXXX年XX月XX日回复我\n",
    "\n",
    "40:41 嘉实致元42个月定期债券基金的管理经理是谁？\n",
    "\n",
    "52:53 南方亨元债券A在2019年的分红次数是多少？每次分红的派现比例是多少？\n",
    "\n",
    "63:64 博时基金公司成立于？用XXXX年XX月XX日回复我\n",
    "\n",
    "78:79 Huazhu Group Ltd.这家公司在美股英文名称是什么？"
   ]
  },
  {
   "cell_type": "code",
   "execution_count": 21,
   "metadata": {},
   "outputs": [
    {
     "name": "stderr",
     "output_type": "stream",
     "text": [
      " 27%|██▋       | 27/100 [01:40<04:32,  3.73s/it]"
     ]
    },
    {
     "name": "stdout",
     "output_type": "stream",
     "text": [
      "====NER Validation===\n",
      "{'reasoning_process_cot': \"从问题中可以看出，'博时基金公司'是一个基金公司名称，因此需要识别为基金公司名称实体。问题中未提及其他实体，如上市公司名称、股票代码、基金名称或行业名称。\", 'result': [{'基金公司名称': '博时基金公司'}], 'sql': {'基金公司名称:博时基金公司': [{'query': \"SELECT * FROM InstitutionDB.LC_InstiArchive WHERE '博时基金公司' IN (ChiName, AbbrChiName, NameChiSpelling, EngName, AbbrEngName)\", 'result': []}]}}\n",
      "### **输出**\n",
      "\n",
      "```json\n",
      "[\n",
      "  {\n",
      "    \"potential_reason_cot_thinking\": \"原始 NER 结果中的 '博时基金公司' 可能存在名称不完整或拼写错误，导致在数据库中未能匹配到相关记录。考虑可能的名称变体或简称。\",\n",
      "    \"sql_query\": \"SELECT * FROM InstitutionDB.LC_InstiArchive WHERE '博时基金' IN (ChiName, AbbrChiName, NameChiSpelling, EngName, AbbrEngName)\",\n",
      "    \"sql_explanation\": \"调整查询条件，将 '博时基金公司' 改为 '博时基金'，以涵盖可能的简称或变体名称，从而提高匹配成功率。\"\n",
      "  },\n",
      "  {\n",
      "    \"potential_reason_cot_thinking\": \"数据库中可能存在不同的名称格式，如全称、简称或英文名称。尝试使用模糊匹配来增加匹配范围。\",\n",
      "    \"sql_query\": \"SELECT * FROM InstitutionDB.LC_InstiArchive WHERE ChiName LIKE '%博时基金%' OR AbbrChiName LIKE '%博时基金%' OR NameChiSpelling LIKE '%博时基金%' OR EngName LIKE '%Boshi Fund%' OR AbbrEngName LIKE '%Boshi Fund%'\",\n",
      "    \"sql_explanation\": \"使用模糊匹配（LIKE）来查找包含 '博时基金' 或其英文名称 'Boshi Fund' 的记录，以涵盖更多可能的名称格式。\"\n",
      "  },\n",
      "  {\n",
      "    \"potential_reason_cot_thinking\": \"考虑到金融机构可能存在多个分支机构或子公司，尝试查找包含 '博时' 的相关机构。\",\n",
      "    \"sql_query\": \"SELECT * FROM InstitutionDB.LC_InstiArchive WHERE ChiName LIKE '%博时%' OR AbbrChiName LIKE '%博时%' OR NameChiSpelling LIKE '%博时%' OR EngName LIKE '%Boshi%' OR AbbrEngName LIKE '%Boshi%'\",\n",
      "    \"sql_explanation\": \"扩展查询条件，查找包含 '博时' 或 'Boshi' 的所有相关机构，以覆盖可能的分支机构或子公司。\"\n",
      "  }\n",
      "]\n",
      "```\n",
      "\n",
      "### **解释**\n",
      "\n",
      "1. **第一条记录**：\n",
      "   - **可能的原因**：原始 NER 结果中的 '博时基金公司' 可能存在名称不完整或拼写错误，导致在数据库中未能匹配到相关记录。\n",
      "   - **SQL 查询**：将 '博时基金公司' 改为 '博时基金'，以涵盖可能的简称或变体名称。\n",
      "   - **SQL 解释**：通过调整查询条件，提高匹配成功率。\n",
      "\n",
      "2. **第二条记录**：\n",
      "   - **可能的原因**：数据库中可能存在不同的名称格式，如全称、简称或英文名称。\n",
      "   - **SQL 查询**：使用模糊匹配（LIKE）来查找包含 '博时基金' 或其英文名称 'Boshi Fund' 的记录。\n",
      "   - **SQL 解释**：通过模糊匹配，增加匹配范围，涵盖更多可能的名称格式。\n",
      "\n",
      "3. **第三条记录**：\n",
      "   - **可能的原因**：考虑到金融机构可能存在多个分支机构或子公司。\n",
      "   - **SQL 查询**：查找包含 '博时' 或 'Boshi' 的所有相关机构。\n",
      "   - **SQL 解释**：扩展查询条件，覆盖可能的分支机构或子公司，以提高匹配的全面性。\n",
      "----JSON parsing error-----\n",
      "### **输出**\n",
      "\n",
      "```json\n",
      "[\n",
      "  {\n",
      "    \"potential_reason_cot_thinking\": \"原 NER 结果中的 '博时基金公司' 可能存在名称不统一或简称、全称不一致的情况，导致在数据库中未能匹配到相关记录。需要尝试使用更通用的名称或简称进行查询。\",\n",
      "    \"sql_query\": \"SELECT * FROM InstitutionDB.LC_InstiArchive WHERE '博时' IN (ChiName, AbbrChiName, NameChiSpelling, EngName, AbbrEngName)\",\n",
      "    \"sql_explanation\": \"调整查询条件，使用 '博时' 作为关键词进行模糊匹配，覆盖可能的简称或全称不一致的情况，以提高查询命中率。\"\n",
      "  },\n",
      "  {\n",
      "    \"potential_reason_cot_thinking\": \"可能存在数据库中记录的名称与 NER 结果不完全一致的情况，例如使用了全称而非简称。尝试使用更具体的关键词组合进行查询。\",\n",
      "    \"sql_query\": \"SELECT * FROM InstitutionDB.LC_InstiArchive WHERE '博时基金管理有限公司' IN (ChiName, AbbrChiName, NameChiSpelling, EngName, AbbrEngName)\",\n",
      "    \"sql_explanation\": \"使用 '博时基金管理有限公司' 作为关键词，覆盖可能的全称记录，确保能够匹配到数据库中的相关实体。\"\n",
      "  },\n",
      "  {\n",
      "    \"potential_reason_cot_thinking\": \"NER 结果可能存在拼写错误或格式问题，尝试使用相似度匹配或模糊查询来提高匹配率。\",\n",
      "    \"sql_query\": \"SELECT * FROM InstitutionDB.LC_InstiArchive WHERE ChiName LIKE '%博时%' OR AbbrChiName LIKE '%博时%' OR NameChiSpelling LIKE '%博时%' OR EngName LIKE '%Boshi%' OR AbbrEngName LIKE '%Boshi%'\",\n",
      "    \"sql_explanation\": \"使用模糊查询，涵盖所有包含 '博时' 或其英文对应 'Boshi' 的记录，以应对可能的拼写错误或格式问题。\"\n",
      "  }\n",
      "]\n",
      "```\n",
      "\n",
      "### **解释**\n",
      "\n",
      "1. **第一条记录**：\n",
      "   - **可能的原因**：NER 结果中的 '博时基金公司' 可能存在名称不统一或简称、全称不一致的情况。\n",
      "   - **SQL 查询**：使用 '博时' 作为关键词进行模糊匹配，覆盖可能的简称或全称不一致的情况。\n",
      "   - **SQL 解释**：通过模糊匹配提高查询命中率。\n",
      "\n",
      "2. **第二条记录**：\n",
      "   - **可能的原因**：数据库中记录的名称与 NER 结果不完全一致，例如使用了全称而非简称。\n",
      "   - **SQL 查询**：使用 '博时基金管理有限公司' 作为关键词，覆盖可能的全称记录。\n",
      "   - **SQL 解释**：确保能够匹配到数据库中的相关实体。\n",
      "\n",
      "3. **第三条记录**：\n",
      "   - **可能的原因**：NER 结果可能存在拼写错误或格式问题。\n",
      "   - **SQL 查询**：使用模糊查询，涵盖所有包含 '博时' 或其英文对应 'Boshi' 的记录。\n",
      "   - **SQL 解释**：应对可能的拼写错误或格式问题，提高匹配率。\n",
      "----JSON parsing error-----\n",
      "### **输出**\n",
      "\n",
      "```json\n",
      "[\n",
      "  {\n",
      "    \"potential_reason_cot_thinking\": \"NER 识别的 '博时基金公司' 可能存在名称不完整或别名未记录的情况，导致在数据库中未找到匹配记录。可以尝试使用模糊匹配或检查是否存在别名。\",\n",
      "    \"sql_query\": \"SELECT * FROM InstitutionDB.LC_InstiArchive WHERE ChiName LIKE '%博时%' OR AbbrChiName LIKE '%博时%' OR NameChiSpelling LIKE '%博时%' OR EngName LIKE '%Boshi%' OR AbbrEngName LIKE '%Boshi%'\",\n",
      "    \"sql_explanation\": \"此查询通过模糊匹配 '博时' 和 'Boshi' 来扩大搜索范围，以便找到可能存在的别名或部分名称匹配的记录。\"\n",
      "  },\n",
      "  {\n",
      "    \"potential_reason_cot_thinking\": \"数据库中可能存在名称相似但略有差异的记录，例如 '博时基金管理有限公司'。可以尝试使用更广泛的匹配条件。\",\n",
      "    \"sql_query\": \"SELECT * FROM InstitutionDB.LC_InstiArchive WHERE ChiName LIKE '%博时基金%' OR AbbrChiName LIKE '%博时基金%' OR NameChiSpelling LIKE '%博时基金%' OR EngName LIKE '%Boshi Fund%' OR AbbrEngName LIKE '%Boshi Fund%'\",\n",
      "    \"sql_explanation\": \"此查询通过扩展名称 '博时基金' 来匹配更广泛的记录，包括可能的全称或包含 '基金' 的别名。\"\n",
      "  },\n",
      "  {\n",
      "    \"potential_reason_cot_thinking\": \"NER 识别的名称可能存在拼写错误或格式问题，可以尝试使用音似或形似的匹配方式。\",\n",
      "    \"sql_query\": \"SELECT * FROM InstitutionDB.LC_InstiArchive WHERE SOUNDEX(ChiName) = SOUNDEX('博时基金公司') OR SOUNDEX(AbbrChiName) = SOUNDEX('博时基金公司')\",\n",
      "    \"sql_explanation\": \"此查询使用 SOUNDEX 函数进行音似匹配，以找到发音相近的记录，从而解决可能的拼写错误问题。\"\n",
      "  }\n",
      "]\n",
      "```\n",
      "\n",
      "### **解释**\n",
      "\n",
      "1. **模糊匹配**：通过在 SQL 查询中使用 `LIKE` 语句，可以扩大搜索范围，捕捉到名称中包含“博时”或“Boshi”的记录，从而解决名称不完整或别名未记录的问题。\n",
      "\n",
      "2. **扩展名称匹配**：考虑到数据库中可能存在更详细的名称（如“博时基金管理有限公司”），通过扩展名称进行匹配，可以找到更精确的记录。\n",
      "\n",
      "3. **音似匹配**：使用 `SOUNDEX` 函数进行音似匹配，可以有效解决由于拼写错误或格式问题导致的匹配失败。\n",
      "\n",
      "这些调整后的 SQL 查询能够更全面地覆盖可能的匹配情况，提高查询成功率。\n",
      "----JSON parsing error-----\n",
      "### **输出**\n",
      "\n",
      "```json\n",
      "[\n",
      "  {\n",
      "    \"potential_reason_cot_thinking\": \"原始 NER 结果中的 '博时基金公司' 可能存在名称不完整或格式不一致的问题，导致在数据库中未能匹配到相关记录。需要考虑可能的名称变体或简称。\",\n",
      "    \"sql_query\": \"SELECT * FROM InstitutionDB.LC_InstiArchive WHERE '博时基金管理有限公司' IN (ChiName, AbbrChiName, NameChiSpelling, EngName, AbbrEngName) OR '博时基金' IN (ChiName, AbbrChiName, NameChiSpelling, EngName, AbbrEngName)\",\n",
      "    \"sql_explanation\": \"调整查询条件，增加 '博时基金管理有限公司' 和 '博时基金' 作为可能的匹配项，以覆盖更多名称变体和简称情况，提高查询命中率。\"\n",
      "  },\n",
      "  {\n",
      "    \"potential_reason_cot_thinking\": \"数据库中可能存在名称相似但略有差异的记录，例如由于拼写错误或简称使用不一致导致未能匹配。\",\n",
      "    \"sql_query\": \"SELECT * FROM InstitutionDB.LC_InstiArchive WHERE ChiName LIKE '%博时%' OR AbbrChiName LIKE '%博时%' OR NameChiSpelling LIKE '%博时%' OR EngName LIKE '%Boshi%' OR AbbrEngName LIKE '%Boshi%'\",\n",
      "    \"sql_explanation\": \"使用模糊匹配查询，通过包含 '博时' 或 'Boshi' 的关键词来扩大搜索范围，以捕捉名称中包含这些关键字的记录，增加匹配的可能性。\"\n",
      "  }\n",
      "]\n",
      "```\n",
      "\n",
      "### **解释**\n",
      "\n",
      "1. **第一条记录**：\n",
      "   - **可能的原因**：原始 NER 结果中的 '博时基金公司' 可能存在名称不完整或格式不一致的问题，导致在数据库中未能匹配到相关记录。\n",
      "   - **SQL 查询**：增加了 '博时基金管理有限公司' 和 '博时基金' 作为可能的匹配项，以覆盖更多名称变体和简称情况。\n",
      "   - **SQL 解释**：通过增加更多的名称变体和简称，提高查询命中率。\n",
      "\n",
      "2. **第二条记录**：\n",
      "   - **可能的原因**：数据库中可能存在名称相似但略有差异的记录，例如由于拼写错误或简称使用不一致导致未能匹配。\n",
      "   - **SQL 查询**：使用模糊匹配查询，通过包含 '博时' 或 'Boshi' 的关键词来扩大搜索范围。\n",
      "   - **SQL 解释**：模糊匹配可以捕捉名称中包含这些关键字的记录，增加匹配的可能性。\n",
      "----JSON parsing error-----\n",
      "### **输出**\n",
      "\n",
      "```json\n",
      "[\n",
      "  {\n",
      "    \"potential_reason_cot_thinking\": \"原始 NER 结果中的 '博时基金公司' 可能存在名称不完整或拼写错误，导致在数据库中无法匹配到相应的实体。常见的金融机构名称可能包含全称、简称、英文名称等多种形式，需要进一步确认。\",\n",
      "    \"sql_query\": \"SELECT * FROM InstitutionDB.LC_InstiArchive WHERE '博时基金管理有限公司' IN (ChiName, AbbrChiName, NameChiSpelling, EngName, AbbrEngName) OR '博时基金' IN (ChiName, AbbrChiName, NameChiSpelling, EngName, AbbrEngName)\",\n",
      "    \"sql_explanation\": \"调整查询条件，尝试使用更常见的全称 '博时基金管理有限公司' 和简称 '博时基金' 进行匹配，以增加查询到正确实体的可能性。\"\n",
      "  },\n",
      "  {\n",
      "    \"potential_reason_cot_thinking\": \"数据库中的实体名称可能使用了不同的拼写或简称形式，原始查询条件未能覆盖所有可能的匹配项。需要扩展查询条件以包括更多可能的名称变体。\",\n",
      "    \"sql_query\": \"SELECT * FROM InstitutionDB.LC_InstiArchive WHERE 'BoShi Fund' IN (EngName, AbbrEngName) OR 'BSFund' IN (EngName, AbbrEngName)\",\n",
      "    \"sql_explanation\": \"增加英文名称和英文简称的查询条件，以覆盖可能的英文命名变体，提高匹配成功率。\"\n",
      "  },\n",
      "  {\n",
      "    \"potential_reason_cot_thinking\": \"数据库中的实体名称可能包含特殊字符或空格，导致原始查询条件无法精确匹配。需要对查询条件进行模糊匹配处理。\",\n",
      "    \"sql_query\": \"SELECT * FROM InstitutionDB.LC_InstiArchive WHERE ChiName LIKE '%博时基金%' OR AbbrChiName LIKE '%博时基金%' OR EngName LIKE '%BoShi Fund%' OR AbbrEngName LIKE '%BSFund%'\",\n",
      "    \"sql_explanation\": \"使用模糊匹配（LIKE）查询条件，以包含名称中可能存在的特殊字符或空格，提高查询的灵活性。\"\n",
      "  }\n",
      "]\n",
      "```\n",
      "\n",
      "### **解释**\n",
      "\n",
      "1. **潜在原因分析**：\n",
      "   - 原始 NER 结果中的名称可能不完整或存在拼写错误。\n",
      "   - 数据库中的实体名称可能使用了不同的拼写或简称形式。\n",
      "   - 数据库中的实体名称可能包含特殊字符或空格。\n",
      "\n",
      "2. **SQL 查询调整**：\n",
      "   - 尝试使用更常见的全称和简称进行匹配。\n",
      "   - 增加英文名称和英文简称的查询条件。\n",
      "   - 使用模糊匹配以提高查询的灵活性。\n",
      "\n",
      "通过这些调整，可以提高查询到正确实体的概率，确保生成的 SQL 查询更加有效。\n",
      "----JSON parsing error-----\n",
      "```json\n",
      "[\n",
      "  {\n",
      "    \"potential_reason_cot_thinking\": \"原始 NER 结果中的 '博时基金公司' 可能存在名称不完整或简称使用的情况，导致在数据库中未能匹配到相关记录。需要考虑可能的完整名称或官方简称。\",\n",
      "    \"sql_query\": \"SELECT * FROM InstitutionDB.LC_InstiArchive WHERE '博时基金管理有限公司' IN (ChiName, AbbrChiName, NameChiSpelling, EngName, AbbrEngName)\",\n",
      "    \"sql_explanation\": \"调整查询条件为 '博时基金管理有限公司'，这是博时基金公司可能的完整官方名称，以增加匹配数据库中记录的概率。\"\n",
      "  },\n",
      "  {\n",
      "    \"potential_reason_cot_thinking\": \"NER 结果可能使用了公司的常用简称，而数据库中存储的是全称或不同简称。尝试使用公司常见的简称进行查询。\",\n",
      "    \"sql_query\": \"SELECT * FROM InstitutionDB.LC_InstiArchive WHERE '博时基金' IN (ChiName, AbbrChiName, NameChiSpelling, EngName, AbbrEngName)\",\n",
      "    \"sql_explanation\": \"使用 '博时基金' 这一简称进行查询，覆盖数据库中可能存在的简称记录。\"\n",
      "  },\n",
      "  {\n",
      "    \"potential_reason_cot_thinking\": \"NER 结果可能存在中英文混合或拼音错误的情况，尝试使用公司英文名称或拼音进行查询。\",\n",
      "    \"sql_query\": \"SELECT * FROM InstitutionDB.LC_InstiArchive WHERE 'Boshi Fund' IN (ChiName, AbbrChiName, NameChiSpelling, EngName, AbbrEngName)\",\n",
      "    \"sql_explanation\": \"使用 'Boshi Fund' 这一可能的英文名称进行查询，以应对中英文混合或拼音错误的情况。\"\n",
      "  }\n",
      "]\n",
      "```\n"
     ]
    },
    {
     "name": "stderr",
     "output_type": "stream",
     "text": [
      " 33%|███▎      | 33/100 [03:39<09:47,  8.77s/it]"
     ]
    },
    {
     "name": "stdout",
     "output_type": "stream",
     "text": [
      "====NER Validation===\n",
      "{'reasoning_process_cot': \"分析当前查询内容，'在线教育' 是一个实体。接着，分析其可能的属性：'在线教育' 可以是一个行业名称，也可以是一个概念。结合查询内容，问题是在讨论 '在线教育' 属于科技概念的哪个分支，这表明 '在线教育' 在这里是作为一个行业名称被提及。因此，'在线教育' 应被识别为 '行业名称'。问题中还提到了 '科技概念' 的英文名称，但这不属于需要识别的五大类实体之一，所以无需识别。\", 'result': [{'行业名称': '在线教育'}], 'sql': {'行业名称:在线教育': [{'query': \"SELECT FirstIndustryCode AS 一级行业代码, SecondIndustryCode AS 二级行业代码, ThirdIndustryCode AS 三级行业代码, FourthIndustryCode AS 四级行业代码, FirstIndustryName AS 一级行业名称, SecondIndustryName AS 二级行业名称, ThirdIndustryName AS 三级行业名称, FourthIndustryName AS 四级行业名称 FROM AStockIndustryDB.LC_ExgIndustry WHERE '在线教育' IN (FirstIndustryName, SecondIndustryName, ThirdIndustryName, FourthIndustryName)\", 'result': []}]}}\n",
      "```json\n",
      "[\n",
      "  {\n",
      "    \"potential_reason_cot_thinking\": \"由于原始 NER 结果 '在线教育' 在数据库查询中未返回任何结果，可能的原因是该行业名称在数据库中使用了不同的表述或分类。需要调整 NER 结果以匹配数据库中的实际行业名称。\",\n",
      "    \"sql_query\": \"SELECT FirstIndustryCode AS 一级行业代码, SecondIndustryCode AS 二级行业代码, ThirdIndustryCode AS 三级行业代码, FourthIndustryCode AS 四级行业代码, FirstIndustryName AS 一级行业名称, SecondIndustryName AS 二级行业名称, ThirdIndustryName AS 三级行业名称, FourthIndustryName AS 四级行业名称 FROM AStockIndustryDB.LC_ExgIndustry WHERE '教育' IN (FirstIndustryName, SecondIndustryName, ThirdIndustryName, FourthIndustryName)\",\n",
      "    \"sql_explanation\": \"调整后的 SQL 查询将 '在线教育' 改为更通用的 '教育'，以增加匹配数据库中相关行业名称的可能性。这样可以获取包含 '教育' 的所有行业代码和名称信息。\"\n",
      "  },\n",
      "  {\n",
      "    \"potential_reason_cot_thinking\": \"另一个可能的原因是 '在线教育' 被归类在更具体的子行业中，例如 '互联网教育' 或 '远程教育'。因此，尝试使用这些可能的替代名称进行查询。\",\n",
      "    \"sql_query\": \"SELECT FirstIndustryCode AS 一级行业代码, SecondIndustryCode AS 二级行业代码, ThirdIndustryCode AS 三级行业代码, FourthIndustryCode AS 四级行业代码, FirstIndustryName AS 一级行业名称, SecondIndustryName AS 二级行业名称, ThirdIndustryName AS 三级行业名称, FourthIndustryName AS 四级行业名称 FROM AStockIndustryDB.LC_ExgIndustry WHERE '互联网教育' IN (FirstIndustryName, SecondIndustryName, ThirdIndustryName, FourthIndustryName) OR '远程教育' IN (FirstIndustryName, SecondIndustryName, ThirdIndustryName, FourthIndustryName)\",\n",
      "    \"sql_explanation\": \"此 SQL 查询使用了 '互联网教育' 和 '远程教育' 作为替代名称，以覆盖数据库中可能存在的不同表述，从而提高查询的准确性。\"\n",
      "  }\n",
      "]\n",
      "```\n"
     ]
    },
    {
     "name": "stderr",
     "output_type": "stream",
     "text": [
      " 40%|████      | 40/100 [04:17<04:07,  4.13s/it]"
     ]
    },
    {
     "name": "stdout",
     "output_type": "stream",
     "text": [
      "====NER Validation===\n",
      "{'reasoning_process_cot': '从当前查询中，可以看出涉及到一个基金名称‘嘉实致元42个月定期债券基金’，问题询问的是该基金的管理经理是谁。‘嘉实致元42个月定期债券基金’是一个基金名称，而查询中并未提及其他实体，如上市公司名称、股票代码、基金公司名称或行业名称。', 'result': [{'基金名称': '嘉实致元42个月定期债券基金'}], 'sql': {'基金名称:嘉实致元42个月定期债券基金': [{'query': \"SELECT * FROM PublicFundDB.MF_FundProdName WHERE DisclName = '嘉实致元42个月定期债券基金' LIMIT 1\", 'result': []}, {'query': \"SELECT * FROM ConstantDB.SecuMain WHERE '嘉实致元42个月定期债券基金' IN (ChiName, ChiNameAbbr, EngName, EngNameAbbr, SecuAbbr, ChiSpelling) LIMIT 1\", 'result': []}]}}\n",
      "```json\n",
      "[\n",
      "  {\n",
      "    \"potential_reason_cot_thinking\": \"原始 NER 结果 '嘉实致元42个月定期债券基金' 在数据库中未能匹配到相应实体，可能是因为名称存在细微差异或数据库中未收录该基金。考虑可能的名称变体或缩写。\",\n",
      "    \"sql_query\": \"SELECT * FROM PublicFundDB.MF_FundProdName WHERE DisclName LIKE '%嘉实致元42个月%' LIMIT 1\",\n",
      "    \"sql_explanation\": \"使用 LIKE 语句模糊匹配基金名称，增加匹配灵活性，尝试找到包含 '嘉实致元42个月' 的基金名称。\"\n",
      "  },\n",
      "  {\n",
      "    \"potential_reason_cot_thinking\": \"基金名称可能存在简称或不同表述，尝试在更广泛的证券主表中查找相似名称。\",\n",
      "    \"sql_query\": \"SELECT * FROM ConstantDB.SecuMain WHERE ChiName LIKE '%嘉实致元42个月%' OR ChiNameAbbr LIKE '%嘉实致元42个月%' OR EngName LIKE '%Jia Shi Zhi Yuan 42 Months%' OR EngNameAbbr LIKE '%JSZY42M%' OR SecuAbbr LIKE '%JSZY42M%' OR ChiSpelling LIKE '%Jia Shi Zhi Yuan 42 Yue%' LIMIT 1\",\n",
      "    \"sql_explanation\": \"在证券主表中使用多个字段进行模糊匹配，涵盖中文名称、简称、英文名称及其缩写和拼音，以提高匹配成功率。\"\n",
      "  },\n",
      "  {\n",
      "    \"potential_reason_cot_thinking\": \"考虑到基金名称中可能包含特殊字符或空格，尝试去除这些字符后进行匹配。\",\n",
      "    \"sql_query\": \"SELECT * FROM PublicFundDB.MF_FundProdName WHERE REPLACE(REPLACE(DisclName, ' ', ''), '个月', '') = '嘉实致元42定期债券基金' LIMIT 1\",\n",
      "    \"sql_explanation\": \"使用 REPLACE 函数去除名称中的空格和'个月'字样，尝试标准化名称后进行精确匹配。\"\n",
      "  }\n",
      "]\n",
      "```\n"
     ]
    },
    {
     "name": "stderr",
     "output_type": "stream",
     "text": [
      " 58%|█████▊    | 58/100 [05:35<02:50,  4.07s/it]"
     ]
    },
    {
     "name": "stdout",
     "output_type": "stream",
     "text": [
      "====NER Validation===\n",
      "{'reasoning_process_cot': '从问题中可以看出，询问的是在2022年期间进行公司名称全称变更的公司及其代码。这里涉及到两个实体类型：上市公司名称和代码。虽然具体公司名称和代码未在问题中明确提及，但问题的意图是查找这些信息。因此，我们需要识别出问题中隐含的实体类型，即上市公司名称和代码。', 'result': [{'上市公司名称': '公司名称全称变更的公司'}, {'代码': '公司代码'}], 'sql': {'上市公司名称:公司名称全称变更的公司': [{'query': \"SELECT * FROM ConstantDB.SecuMain WHERE '公司名称全称变更的公司' IN (ChiName, ChiNameAbbr, EngName, EngNameAbbr, SecuAbbr, ChiSpelling)\", 'result': []}, {'query': \"SELECT * FROM ConstantDB.HK_SecuMain WHERE '公司名称全称变更的公司' IN (ChiName, ChiNameAbbr, EngName, EngNameAbbr, SecuAbbr, ChiSpelling)\", 'result': []}, {'query': \"SELECT * FROM ConstantDB.US_SecuMain WHERE '公司名称全称变更的公司' IN (SecuCode, SecuAbbr, ChiSpelling, EngName, ChiName)\", 'result': []}], '代码:公司代码': [{'query': None, 'result': None}]}}\n",
      "```json\n",
      "[\n",
      "  {\n",
      "    \"potential_reason_cot_thinking\": \"原始 NER 结果中的 '公司名称全称变更的公司' 是一个模糊的描述，无法直接用于数据库查询。需要将其转换为具体的公司名称或相关字段。\",\n",
      "    \"sql_query\": \"SELECT SecuCode, ChiName, ChiNameAbbr FROM ConstantDB.SecuMain WHERE SecuCode IN (SELECT SecuCode FROM ConstantDB.SecuMain WHERE ChiName != ChiNameAbbr AND UpdateTime BETWEEN '2022-01-01' AND '2022-12-31')\",\n",
      "    \"sql_explanation\": \"首先从 SecuMain 表中筛选出在 2022 年期间公司名称（ChiName）和简称（ChiNameAbbr）不一致的记录，这表示公司名称发生了变更。然后通过 SecuCode 关联查询出这些公司的代码和名称信息。\"\n",
      "  },\n",
      "  {\n",
      "    \"potential_reason_cot_thinking\": \"考虑到可能存在不同市场的公司名称变更，需要扩展查询范围到香港和美国市场的数据库表。\",\n",
      "    \"sql_query\": \"SELECT SecuCode, ChiName, ChiNameAbbr FROM ConstantDB.HK_SecuMain WHERE SecuCode IN (SELECT SecuCode FROM ConstantDB.HK_SecuMain WHERE ChiName != ChiNameAbbr AND UpdateTime BETWEEN '2022-01-01' AND '2022-12-31') UNION SELECT SecuCode, ChiName, ChiNameAbbr FROM ConstantDB.US_SecuMain WHERE SecuCode IN (SELECT SecuCode FROM ConstantDB.US_SecuMain WHERE ChiName != ChiNameAbbr AND UpdateTime BETWEEN '2022-01-01' AND '2022-12-31')\",\n",
      "    \"sql_explanation\": \"分别从香港（HK_SecuMain）和美国（US_SecuMain）市场的数据库表中筛选出在 2022 年期间公司名称和简称不一致的记录，并通过 UNION 操作合并结果，以获取所有市场的公司名称变更信息。\"\n",
      "  }\n",
      "]\n",
      "```\n",
      "Request failed: 500 Server Error: Internal Server Error for url: https://comm.chatglm.cn/finglm2/api/query\n",
      "Request failed: 500 Server Error: Internal Server Error for url: https://comm.chatglm.cn/finglm2/api/query\n",
      "### **输出**\n",
      "\n",
      "```json\n",
      "[\n",
      "  {\n",
      "    \"potential_reason_cot_thinking\": \"原始查询中的 '公司名称全称变更的公司' 是一个动态描述，无法直接用于数据库查询。需要转换为具体的公司名称或使用变更记录表来查询。\",\n",
      "    \"sql_query\": \"SELECT a.SecuCode, a.ChiName, b.NewChiName FROM ConstantDB.SecuMain a JOIN ConstantDB.NameChangeHistory b ON a.SecuCode = b.SecuCode WHERE b.ChangeDate BETWEEN '2022-01-01' AND '2022-12-31'\",\n",
      "    \"sql_explanation\": \"首先从 SecuMain 表中获取公司代码和公司名称，然后通过 NameChangeHistory 表关联查询在2022年期间有名称变更记录的公司，并获取其新的公司名称。\"\n",
      "  },\n",
      "  {\n",
      "    \"potential_reason_cot_thinking\": \"考虑到公司代码可能在不同的数据库表中，需要确保查询覆盖所有相关表。\",\n",
      "    \"sql_query\": \"SELECT a.SecuCode, a.ChiName, b.NewChiName FROM ConstantDB.HK_SecuMain a JOIN ConstantDB.HK_NameChangeHistory b ON a.SecuCode = b.SecuCode WHERE b.ChangeDate BETWEEN '2022-01-01' AND '2022-12-31'\",\n",
      "    \"sql_explanation\": \"针对香港市场的公司，从 HK_SecuMain 表中获取公司代码和公司名称，然后通过 HK_NameChangeHistory 表关联查询在2022年期间有名称变更记录的公司，并获取其新的公司名称。\"\n",
      "  },\n",
      "  {\n",
      "    \"potential_reason_cot_thinking\": \"美国市场的公司也可能存在名称变更，需要同样进行查询。\",\n",
      "    \"sql_query\": \"SELECT a.SecuCode, a.ChiName, b.NewChiName FROM ConstantDB.US_SecuMain a JOIN ConstantDB.US_NameChangeHistory b ON a.SecuCode = b.SecuCode WHERE b.ChangeDate BETWEEN '2022-01-01' AND '2022-12-31'\",\n",
      "    \"sql_explanation\": \"针对美国市场的公司，从 US_SecuMain 表中获取公司代码和公司名称，然后通过 US_NameChangeHistory 表关联查询在2022年期间有名称变更记录的公司，并获取其新的公司名称。\"\n",
      "  }\n",
      "]\n",
      "```\n",
      "\n",
      "### **解释**\n",
      "\n",
      "1. **潜在原因推理（CoT）**:\n",
      "   - 原始查询中的 \"公司名称全称变更的公司\" 是一个动态描述，无法直接用于数据库查询。需要转换为具体的公司名称或使用变更记录表来查询。\n",
      "   - 考虑到公司代码可能在不同的数据库表中，需要确保查询覆盖所有相关表。\n",
      "   - 美国市场的公司也可能存在名称变更，需要同样进行查询。\n",
      "\n",
      "2. **SQL 查询**:\n",
      "   - 针对主市场（假设为内地市场），从 `SecuMain` 表中获取公司代码和公司名称，然后通过 `NameChangeHistory` 表关联查询在2022年期间有名称变更记录的公司，并获取其新的公司名称。\n",
      "   - 针对香港市场，从 `HK_SecuMain` 表中获取公司代码和公司名称，然后通过 `HK_NameChangeHistory` 表关联查询在2022年期间有名称变更记录的公司，并获取其新的公司名称。\n",
      "   - 针对美国市场，从 `US_SecuMain` 表中获取公司代码和公司名称，然后通过 `US_NameChangeHistory` 表关联查询在2022年期间有名称变更记录的公司，并获取其新的公司名称。\n",
      "\n",
      "3. **SQL 解释**:\n",
      "   - 每个查询都通过关联主表和变更历史表来获取在指定时间段内发生名称变更的公司信息，包括公司代码、原公司名称和新公司名称。这样可以确保覆盖不同市场的数据。\n",
      "----JSON parsing error-----\n",
      "```json\n",
      "[\n",
      "  {\n",
      "    \"potential_reason_cot_thinking\": \"原始 NER 结果中的 '公司名称全称变更的公司' 是一个模糊的描述，无法直接用于数据库查询。需要将其转换为具体的公司名称或相关字段。\",\n",
      "    \"sql_query\": \"SELECT SecuCode, ChiName FROM ConstantDB.SecuMain WHERE UpdateDate BETWEEN '2022-01-01' AND '2022-12-31' AND ChiName != OldChiName\",\n",
      "    \"sql_explanation\": \"此查询从 SecuMain 表中选取 2022 年期间公司名称发生变更的公司的代码（SecuCode）和最新公司名称（ChiName），其中 UpdateDate 字段用于筛选2022年内的记录，ChiName 和 OldChiName 字段的比较用于确定名称是否变更。\"\n",
      "  },\n",
      "  {\n",
      "    \"potential_reason_cot_thinking\": \"考虑到可能存在多个数据库表存储公司信息，需要分别在港股和美股的主要信息表中查询。\",\n",
      "    \"sql_query\": \"SELECT SecuCode, ChiName FROM ConstantDB.HK_SecuMain WHERE UpdateDate BETWEEN '2022-01-01' AND '2022-12-31' AND ChiName != OldChiName UNION SELECT SecuCode, ChiName FROM ConstantDB.US_SecuMain WHERE UpdateDate BETWEEN '2022-01-01' AND '2022-12-31' AND ChiName != OldChiName\",\n",
      "    \"sql_explanation\": \"此查询分别从港股（HK_SecuMain）和美股（US_SecuMain）表中选取 2022 年期间公司名称发生变更的公司的代码和最新公司名称，并使用 UNION 操作合并结果，确保涵盖所有市场。\"\n",
      "  }\n",
      "]\n",
      "```\n",
      "Request failed: 500 Server Error: Internal Server Error for url: https://comm.chatglm.cn/finglm2/api/query\n",
      "Request failed: 500 Server Error: Internal Server Error for url: https://comm.chatglm.cn/finglm2/api/query\n",
      "### **输出**\n",
      "\n",
      "```json\n",
      "[\n",
      "  {\n",
      "    \"potential_reason_cot_thinking\": \"原始 NER 结果中的 '公司名称全称变更的公司' 是一个模糊的描述，无法直接用于数据库查询。需要将其具体化为在特定年份内进行名称变更的公司。\",\n",
      "    \"sql_query\": \"SELECT SecuCode, ChiName, NewChiName FROM ChangeLogDB.CompanyNameChange WHERE ChangeYear = 2022\",\n",
      "    \"sql_explanation\": \"此查询从 ChangeLogDB 数据库的 CompanyNameChange 表中选取 2022 年进行名称变更的公司的代码（SecuCode）、原名称（ChiName）和新名称（NewChiName）。\"\n",
      "  },\n",
      "  {\n",
      "    \"potential_reason_cot_thinking\": \"原始 NER 结果中的 '公司代码' 是一个通用术语，需要明确其在数据库中的具体字段名称。通常公司代码在金融数据库中称为 SecuCode。\",\n",
      "    \"sql_query\": \"SELECT SecuCode FROM ChangeLogDB.CompanyNameChange WHERE ChangeYear = 2022\",\n",
      "    \"sql_explanation\": \"此查询从 ChangeLogDB 数据库的 CompanyNameChange 表中选取 2022 年进行名称变更的公司的代码（SecuCode）。\"\n",
      "  }\n",
      "]\n",
      "```\n",
      "\n",
      "### **解释**\n",
      "\n",
      "1. **潜在原因（CoT 思考）**:\n",
      "   - **公司名称全称变更的公司**: 原始 NER 结果中的描述过于模糊，无法直接用于数据库查询。需要将其具体化为在特定年份内进行名称变更的公司。\n",
      "   - **公司代码**: 原始 NER 结果中的术语需要明确其在数据库中的具体字段名称。\n",
      "\n",
      "2. **SQL 查询**:\n",
      "   - 第一个查询选取 2022 年进行名称变更的公司的代码、原名称和新名称。\n",
      "   - 第二个查询仅选取 2022 年进行名称变更的公司的代码。\n",
      "\n",
      "3. **SQL 解释**:\n",
      "   - 解释了每个查询的具体作用和选取的字段，确保查询结果符合用户的需求。\n",
      "----JSON parsing error-----\n",
      "```json\n",
      "[\n",
      "  {\n",
      "    \"potential_reason_cot_thinking\": \"原始NER结果中的'公司名称全称变更的公司'是一个模糊的描述，无法直接用于数据库查询。需要将其转换为具体的公司名称或相关字段。\",\n",
      "    \"sql_query\": \"SELECT SecuCode, ChiName FROM ConstantDB.SecuMain WHERE UpdateTime BETWEEN '2022-01-01' AND '2022-12-31' AND ChiName != OldChiName\",\n",
      "    \"sql_explanation\": \"该查询从SecuMain表中选取2022年期间更新过的公司代码（SecuCode）和公司名称（ChiName），并且要求新旧公司名称不同，以识别出进行名称变更的公司。\"\n",
      "  },\n",
      "  {\n",
      "    \"potential_reason_cot_thinking\": \"考虑到可能存在多个数据库表存储公司信息，需要确保查询覆盖所有相关表。\",\n",
      "    \"sql_query\": \"SELECT SecuCode, ChiName FROM ConstantDB.HK_SecuMain WHERE UpdateTime BETWEEN '2022-01-01' AND '2022-12-31' AND ChiName != OldChiName UNION SELECT SecuCode, ChiName FROM ConstantDB.US_SecuMain WHERE UpdateTime BETWEEN '2022-01-01' AND '2022-12-31' AND ChiName != OldChiName\",\n",
      "    \"sql_explanation\": \"该查询分别从HK_SecuMain和US_SecuMain表中选取2022年期间更新过的公司代码（SecuCode）和公司名称（ChiName），并且要求新旧公司名称不同，然后将结果合并，以确保覆盖所有可能的公司信息。\"\n",
      "  }\n",
      "]\n",
      "```\n",
      "Request failed: 500 Server Error: Internal Server Error for url: https://comm.chatglm.cn/finglm2/api/query\n",
      "Request failed: 500 Server Error: Internal Server Error for url: https://comm.chatglm.cn/finglm2/api/query\n",
      "```json\n",
      "[\n",
      "  {\n",
      "    \"potential_reason_cot_thinking\": \"原始查询中的'公司名称全称变更的公司'是一个模糊的描述，无法直接用于数据库查询。需要将其转换为具体的公司名称或相关字段。\",\n",
      "    \"sql_query\": \"SELECT SecuCode, ChiName FROM ConstantDB.SecuMain WHERE UpdateTime BETWEEN '2022-01-01' AND '2022-12-31' AND ChiName != OldChiName\",\n",
      "    \"sql_explanation\": \"此查询从SecuMain表中选取2022年间更新过公司名称（ChiName字段与OldChiName字段不一致）的公司的代码（SecuCode）和当前公司名称（ChiName）。\"\n",
      "  },\n",
      "  {\n",
      "    \"potential_reason_cot_thinking\": \"考虑到可能存在多个数据库表存储公司信息，需要确保查询覆盖所有相关表。\",\n",
      "    \"sql_query\": \"SELECT SecuCode, ChiName FROM ConstantDB.HK_SecuMain WHERE UpdateTime BETWEEN '2022-01-01' AND '2022-12-31' AND ChiName != OldChiName UNION SELECT SecuCode, ChiName FROM ConstantDB.US_SecuMain WHERE UpdateTime BETWEEN '2022-01-01' AND '2022-12-31' AND ChiName != OldChiName\",\n",
      "    \"sql_explanation\": \"此查询联合了HK_SecuMain和US_SecuMain表，选取2022年间更新过公司名称的公司的代码和当前公司名称，确保涵盖不同市场的公司信息。\"\n",
      "  }\n",
      "]\n",
      "```\n",
      "Request failed: 500 Server Error: Internal Server Error for url: https://comm.chatglm.cn/finglm2/api/query\n",
      "Request failed: 500 Server Error: Internal Server Error for url: https://comm.chatglm.cn/finglm2/api/query\n",
      "```json\n",
      "[\n",
      "  {\n",
      "    \"potential_reason_cot_thinking\": \"原始查询中的'公司名称全称变更的公司'是一个模糊的描述，无法直接用于数据库查询。需要将其转换为具体的公司名称或相关字段。\",\n",
      "    \"sql_query\": \"SELECT SecuCode, ChiName, ChiNameAbbr FROM ConstantDB.SecuMain WHERE UpdateDate BETWEEN '2022-01-01' AND '2022-12-31' AND (ChiName != ChiNameAbbr OR ChiName != EngName)\",\n",
      "    \"sql_explanation\": \"此查询从SecuMain表中选取在2022年间更新过的公司代码、中文名称和中文名称缩写，并通过比较中文名称和缩写或英文名称是否不同来筛选出可能进行了名称变更的公司。\"\n",
      "  },\n",
      "  {\n",
      "    \"potential_reason_cot_thinking\": \"考虑到公司名称变更可能涉及多个数据库表，需要联合查询以获取准确信息。\",\n",
      "    \"sql_query\": \"SELECT a.SecuCode, a.ChiName, b.NewChiName FROM ConstantDB.SecuMain a JOIN ConstantDB.NameChangeHistory b ON a.SecuCode = b.SecuCode WHERE b.ChangeDate BETWEEN '2022-01-01' AND '2022-12-31'\",\n",
      "    \"sql_explanation\": \"此查询通过联合SecuMain表和NameChangeHistory表，选取在2022年间发生名称变更的公司代码、原中文名称和新中文名称。\"\n",
      "  }\n",
      "]\n",
      "```\n",
      "Request failed: 500 Server Error: Internal Server Error for url: https://comm.chatglm.cn/finglm2/api/query\n",
      "Request failed: 500 Server Error: Internal Server Error for url: https://comm.chatglm.cn/finglm2/api/query\n",
      "```json\n",
      "[\n",
      "  {\n",
      "    \"potential_reason_cot_thinking\": \"原始 NER 结果中的 '公司名称全称变更的公司' 是一个模糊的描述，无法直接用于数据库查询。需要将其转换为具体的公司名称或相关字段。\",\n",
      "    \"sql_query\": \"SELECT SecuCode, ChiName FROM ConstantDB.SecuMain WHERE UpdateTime BETWEEN '2022-01-01' AND '2022-12-31' AND ChiName != OldChiName\",\n",
      "    \"sql_explanation\": \"该查询从 SecuMain 表中选取 2022 年期间公司名称发生变更的公司的代码（SecuCode）和变更后的中文名称（ChiName）。其中，UpdateTime 字段用于筛选 2022 年内的记录，ChiName 和 OldChiName 字段的比较用于确定公司名称是否发生变更。\"\n",
      "  },\n",
      "  {\n",
      "    \"potential_reason_cot_thinking\": \"考虑到可能存在不同市场的公司，需要扩展查询范围到香港和美国市场的公司数据表。\",\n",
      "    \"sql_query\": \"SELECT SecuCode, ChiName FROM ConstantDB.HK_SecuMain WHERE UpdateTime BETWEEN '2022-01-01' AND '2022-12-31' AND ChiName != OldChiName UNION SELECT SecuCode, ChiName FROM ConstantDB.US_SecuMain WHERE UpdateTime BETWEEN '2022-01-01' AND '2022-12-31' AND ChiName != OldChiName\",\n",
      "    \"sql_explanation\": \"该查询分别从香港市场（HK_SecuMain）和美国市场（US_SecuMain）的公司数据表中选取 2022 年期间公司名称发生变更的公司的代码（SecuCode）和变更后的中文名称（ChiName），并通过 UNION 操作合并结果。\"\n",
      "  }\n",
      "]\n",
      "```\n",
      "Request failed: 500 Server Error: Internal Server Error for url: https://comm.chatglm.cn/finglm2/api/query\n"
     ]
    },
    {
     "name": "stderr",
     "output_type": "stream",
     "text": [
      " 59%|█████▉    | 59/100 [07:19<23:16, 34.05s/it]"
     ]
    },
    {
     "name": "stdout",
     "output_type": "stream",
     "text": [
      "Request failed: 500 Server Error: Internal Server Error for url: https://comm.chatglm.cn/finglm2/api/query\n",
      "====FAILED===\n",
      "====NER Validation===\n"
     ]
    },
    {
     "name": "stderr",
     "output_type": "stream",
     "text": [
      " 63%|██████▎   | 63/100 [07:33<06:33, 10.63s/it]"
     ]
    },
    {
     "name": "stdout",
     "output_type": "stream",
     "text": [
      "====NER Validation===\n",
      "{'reasoning_process_cot': \"从问题中可以看出，'博时基金公司'是一个基金公司名称，因此需要识别为基金公司名称实体。问题中未提及其他实体，如上市公司名称、股票代码、基金名称或行业名称。\", 'result': [{'基金公司名称': '博时基金公司'}], 'sql': {'基金公司名称:博时基金公司': [{'query': \"SELECT * FROM InstitutionDB.LC_InstiArchive WHERE '博时基金公司' IN (ChiName, AbbrChiName, NameChiSpelling, EngName, AbbrEngName)\", 'result': []}]}}\n",
      "### **输出**\n",
      "\n",
      "```json\n",
      "[\n",
      "  {\n",
      "    \"potential_reason_cot_thinking\": \"NER 结果中的 '博时基金公司' 可能存在名称不完整或简称未被识别的情况。在金融数据库中，机构名称可能以全称、简称、拼音或英文名称存在。因此，需要检查所有可能的名称形式。\",\n",
      "    \"sql_query\": \"SELECT * FROM InstitutionDB.LC_InstiArchive WHERE '博时基金公司' IN (ChiName, AbbrChiName, NameChiSpelling, EngName, AbbrEngName) OR '博时' IN (ChiName, AbbrChiName, NameChiSpelling, EngName, AbbrEngName)\",\n",
      "    \"sql_explanation\": \"此查询扩展了原始查询，增加了对 '博时' 这一简称的搜索，以覆盖更多可能的名称匹配情况。这样可以提高找到正确机构信息的概率。\"\n",
      "  },\n",
      "  {\n",
      "    \"potential_reason_cot_thinking\": \"NER 结果可能存在名称拼写错误或格式不一致的情况。在金融数据库中，机构名称可能存在多种拼写或格式变体。因此，需要使用模糊匹配来提高检索准确性。\",\n",
      "    \"sql_query\": \"SELECT * FROM InstitutionDB.LC_InstiArchive WHERE ChiName LIKE '%博时%' OR AbbrChiName LIKE '%博时%' OR NameChiSpelling LIKE '%boshi%' OR EngName LIKE '%Boshi%' OR AbbrEngName LIKE '%Boshi%'\",\n",
      "    \"sql_explanation\": \"此查询使用了模糊匹配（LIKE 语句），允许在机构名称的任意位置匹配 '博时' 或其拼音、英文名称的变体，从而提高检索的灵活性和准确性。\"\n",
      "  }\n",
      "]\n",
      "```\n",
      "\n",
      "### **解释**\n",
      "\n",
      "1. **第一条推理和查询**：\n",
      "   - **可能的原因**：NER 结果中的 '博时基金公司' 可能存在名称不完整或简称未被识别的情况。\n",
      "   - **SQL 查询**：扩展了原始查询，增加了对 '博时' 这一简称的搜索。\n",
      "   - **SQL 解释**：通过增加对简称的搜索，覆盖更多可能的名称匹配情况，提高找到正确机构信息的概率。\n",
      "\n",
      "2. **第二条推理和查询**：\n",
      "   - **可能的原因**：NER 结果可能存在名称拼写错误或格式不一致的情况。\n",
      "   - **SQL 查询**：使用模糊匹配（LIKE 语句），允许在机构名称的任意位置匹配 '博时' 或其拼音、英文名称的变体。\n",
      "   - **SQL 解释**：模糊匹配提高了检索的灵活性和准确性，能够更好地处理名称变体和拼写错误。\n",
      "----JSON parsing error-----\n",
      "### **输出**\n",
      "\n",
      "```json\n",
      "[\n",
      "  {\n",
      "    \"potential_reason_cot_thinking\": \"可能的原因是原始 NER 结果中的 '博时基金公司' 名称在数据库中不存在或名称有误。可能需要检查是否存在别称或简称。\",\n",
      "    \"sql_query\": \"SELECT * FROM InstitutionDB.LC_InstiArchive WHERE '博时基金' IN (ChiName, AbbrChiName, NameChiSpelling, EngName, AbbrEngName)\",\n",
      "    \"sql_explanation\": \"调整查询条件，将 '博时基金公司' 改为 '博时基金'，以涵盖可能的简称或别称匹配。\"\n",
      "  },\n",
      "  {\n",
      "    \"potential_reason_cot_thinking\": \"可能的原因是数据库中的名称使用了全称或包含其他字符，如 '博时基金管理有限公司'。\",\n",
      "    \"sql_query\": \"SELECT * FROM InstitutionDB.LC_InstiArchive WHERE '博时基金管理有限公司' IN (ChiName, AbbrChiName, NameChiSpelling, EngName, AbbrEngName)\",\n",
      "    \"sql_explanation\": \"扩展查询条件，使用 '博时基金管理有限公司' 以匹配数据库中可能的全称记录。\"\n",
      "  },\n",
      "  {\n",
      "    \"potential_reason_cot_thinking\": \"可能的原因是数据库中的名称使用了不同的拼写或格式，如 '博时基金管理公司'。\",\n",
      "    \"sql_query\": \"SELECT * FROM InstitutionDB.LC_InstiArchive WHERE '博时基金管理公司' IN (ChiName, AbbrChiName, NameChiSpelling, EngName, AbbrEngName)\",\n",
      "    \"sql_explanation\": \"调整查询条件，使用 '博时基金管理公司' 以匹配数据库中可能的不同拼写或格式记录。\"\n",
      "  }\n",
      "]\n",
      "```\n",
      "\n",
      "### **解释**\n",
      "\n",
      "1. **可能的原因**：\n",
      "   - 原始 NER 结果中的 '博时基金公司' 名称在数据库中不存在或名称有误。\n",
      "   - 数据库中的名称使用了全称或包含其他字符。\n",
      "   - 数据库中的名称使用了不同的拼写或格式。\n",
      "\n",
      "2. **SQL 查询调整**：\n",
      "   - 将 '博时基金公司' 改为 '博时基金'，以涵盖可能的简称或别称匹配。\n",
      "   - 使用 '博时基金管理有限公司' 以匹配数据库中可能的全称记录。\n",
      "   - 使用 '博时基金管理公司' 以匹配数据库中可能的不同拼写或格式记录。\n",
      "\n",
      "通过这些调整，可以更全面地覆盖数据库中可能存在的不同名称形式，提高查询的准确性。\n",
      "----JSON parsing error-----\n",
      "### **输出**\n",
      "\n",
      "```json\n",
      "[\n",
      "  {\n",
      "    \"potential_reason_cot_thinking\": \"原始 NER 结果中的 '博时基金公司' 可能存在名称不完整或拼写错误，导致在数据库中无法匹配到相关实体。需要尝试使用更常见的名称或简称进行查询。\",\n",
      "    \"sql_query\": \"SELECT * FROM InstitutionDB.LC_InstiArchive WHERE '博时基金' IN (ChiName, AbbrChiName, NameChiSpelling, EngName, AbbrEngName)\",\n",
      "    \"sql_explanation\": \"调整查询条件，将 '博时基金公司' 改为更常见的 '博时基金'，以增加匹配到数据库中实体的可能性。\"\n",
      "  },\n",
      "  {\n",
      "    \"potential_reason_cot_thinking\": \"数据库中可能存储的是该基金公司的全称或英文名称，尝试使用全称或英文名称进行查询。\",\n",
      "    \"sql_query\": \"SELECT * FROM InstitutionDB.LC_InstiArchive WHERE '博时基金管理有限公司' IN (ChiName, AbbrChiName, NameChiSpelling, EngName, AbbrEngName)\",\n",
      "    \"sql_explanation\": \"使用 '博时基金管理有限公司' 作为查询条件，以匹配数据库中可能存储的全称实体。\"\n",
      "  },\n",
      "  {\n",
      "    \"potential_reason_cot_thinking\": \"数据库中可能存储的是该基金公司的英文名称或简称，尝试使用英文名称或简称进行查询。\",\n",
      "    \"sql_query\": \"SELECT * FROM InstitutionDB.LC_InstiArchive WHERE 'Bosera Asset Management Co., Ltd.' IN (ChiName, AbbrChiName, NameChiSpelling, EngName, AbbrEngName)\",\n",
      "    \"sql_explanation\": \"使用 'Bosera Asset Management Co., Ltd.' 作为查询条件，以匹配数据库中可能存储的英文名称实体。\"\n",
      "  },\n",
      "  {\n",
      "    \"potential_reason_cot_thinking\": \"数据库中可能存储的是该基金公司的简称或拼音，尝试使用简称或拼音进行查询。\",\n",
      "    \"sql_query\": \"SELECT * FROM InstitutionDB.LC_InstiArchive WHERE 'Bosera' IN (ChiName, AbbrChiName, NameChiSpelling, EngName, AbbrEngName)\",\n",
      "    \"sql_explanation\": \"使用 'Bosera' 作为查询条件，以匹配数据库中可能存储的简称或拼音实体。\"\n",
      "  }\n",
      "]\n",
      "```\n",
      "\n",
      "### **解释**\n",
      "\n",
      "1. **调整名称**：原始 NER 结果中的 '博时基金公司' 可能存在名称不完整或拼写错误，尝试使用更常见的 '博时基金' 进行查询。\n",
      "2. **使用全称**：数据库中可能存储的是该基金公司的全称，使用 '博时基金管理有限公司' 进行查询。\n",
      "3. **使用英文名称**：数据库中可能存储的是该基金公司的英文名称，使用 'Bosera Asset Management Co., Ltd.' 进行查询。\n",
      "4. **使用简称或拼音**：数据库中可能存储的是该基金公司的简称或拼音，使用 'Bosera' 进行查询。\n",
      "\n",
      "通过这些调整，可以增加在数据库中匹配到相关实体的可能性。\n",
      "----JSON parsing error-----\n",
      "### **输出**\n",
      "\n",
      "```json\n",
      "[\n",
      "  {\n",
      "    \"potential_reason_cot_thinking\": \"原始 NER 结果中的 '博时基金公司' 可能存在名称不完整或简称未识别的情况，导致在数据库中未能匹配到相关记录。可以尝试使用更广泛的模糊匹配或考虑公司名称的全称和常见简称。\",\n",
      "    \"sql_query\": \"SELECT * FROM InstitutionDB.LC_InstiArchive WHERE ChiName LIKE '%博时%' OR AbbrChiName LIKE '%博时%' OR NameChiSpelling LIKE '%boshi%' OR EngName LIKE '%Boshi%' OR AbbrEngName LIKE '%Boshi%'\",\n",
      "    \"sql_explanation\": \"该 SQL 查询通过使用 LIKE 操作符进行模糊匹配，扩大了搜索范围，涵盖了包含 '博时' 的中文名称、简称、拼音以及英文名称和简称，以提高匹配成功率。\"\n",
      "  },\n",
      "  {\n",
      "    \"potential_reason_cot_thinking\": \"数据库中可能存在名称相似但略有差异的记录，例如 '博时基金管理有限公司' 或 '博时基金管理公司'。可以通过调整查询条件来匹配这些相似的名称。\",\n",
      "    \"sql_query\": \"SELECT * FROM InstitutionDB.LC_InstiArchive WHERE ChiName IN ('博时基金管理有限公司', '博时基金管理公司') OR AbbrChiName IN ('博时基金', '博时')\",\n",
      "    \"sql_explanation\": \"该 SQL 查询通过列举可能的完整名称和简称，直接在 IN 子句中进行匹配，以覆盖数据库中可能存在的不同表述形式。\"\n",
      "  }\n",
      "]\n",
      "```\n",
      "\n",
      "### **解释**\n",
      "\n",
      "1. **第一条记录**：\n",
      "   - **可能的原因**：原始 NER 结果中的 '博时基金公司' 可能存在名称不完整或简称未识别的情况，导致在数据库中未能匹配到相关记录。\n",
      "   - **SQL 查询**：使用 `LIKE` 操作符进行模糊匹配，扩大搜索范围，涵盖包含 '博时' 的各种名称形式。\n",
      "   - **SQL 解释**：通过模糊匹配，提高匹配成功率，确保不因名称细微差异而漏掉相关记录。\n",
      "\n",
      "2. **第二条记录**：\n",
      "   - **可能的原因**：数据库中可能存在名称相似但略有差异的记录，例如 '博时基金管理有限公司' 或 '博时基金管理公司'。\n",
      "   - **SQL 查询**：列举可能的完整名称和简称，直接在 `IN` 子句中进行匹配。\n",
      "   - **SQL 解释**：通过列举常见变体，确保覆盖数据库中可能存在的不同表述形式，提高查询准确性。\n",
      "----JSON parsing error-----\n",
      "### **输出**\n",
      "\n",
      "```json\n",
      "[\n",
      "  {\n",
      "    \"potential_reason_cot_thinking\": \"原始 NER 结果中的 '博时基金公司' 可能存在名称不完整或简称未识别的情况，导致在数据库中未能匹配到相关记录。可以考虑使用模糊匹配或查询相关联的简称和全称。\",\n",
      "    \"sql_query\": \"SELECT * FROM InstitutionDB.LC_InstiArchive WHERE ChiName LIKE '%博时%' OR AbbrChiName LIKE '%博时%' OR NameChiSpelling LIKE '%boshi%' OR EngName LIKE '%Boshi%' OR AbbrEngName LIKE '%Boshi%'\",\n",
      "    \"sql_explanation\": \"该 SQL 查询通过使用模糊匹配（LIKE 操作符）来增加匹配的可能性，涵盖了中文名称、中文简称、拼音、英文名称和英文简称，以提高找到 '博时基金公司' 相关记录的几率。\"\n",
      "  },\n",
      "  {\n",
      "    \"potential_reason_cot_thinking\": \"数据库中可能存在名称的细微差异，如多字、少字或顺序不同。可以尝试使用更宽松的匹配条件。\",\n",
      "    \"sql_query\": \"SELECT * FROM InstitutionDB.LC_InstiArchive WHERE SOUNDEX(ChiName) = SOUNDEX('博时基金公司') OR SOUNDEX(AbbrChiName) = SOUNDEX('博时基金公司')\",\n",
      "    \"sql_explanation\": \"该 SQL 查询使用 SOUNDEX 函数来匹配发音相似的名称，这样可以捕捉到名称拼写略有差异但发音相近的记录。\"\n",
      "  },\n",
      "  {\n",
      "    \"potential_reason_cot_thinking\": \"可能存在数据库中记录的名称与 NER 结果不完全一致的情况，如使用了全称或官方名称。可以尝试查询包含关键字的记录。\",\n",
      "    \"sql_query\": \"SELECT * FROM InstitutionDB.LC_InstiArchive WHERE ChiName LIKE '%博时基金%' OR AbbrChiName LIKE '%博时基金%' OR EngName LIKE '%Boshi Fund%' OR AbbrEngName LIKE '%Boshi Fund%'\",\n",
      "    \"sql_explanation\": \"该 SQL 查询通过增加关键字 '基金' 来匹配更完整的名称，涵盖中文名称、中文简称、英文名称和英文简称，以提高找到相关记录的几率。\"\n",
      "  }\n",
      "]\n",
      "```\n",
      "\n",
      "### **解释**\n",
      "\n",
      "1. **模糊匹配**：第一个 SQL 查询使用 `LIKE` 操作符进行模糊匹配，覆盖了多种可能的名称形式，增加了匹配的成功率。\n",
      "2. **发音相似匹配**：第二个 SQL 查询使用 `SOUNDEX` 函数，匹配发音相似的名称，适用于名称拼写略有差异的情况。\n",
      "3. **关键字匹配**：第三个 SQL 查询增加了关键字 '基金'，适用于数据库中记录的是更完整的名称或官方名称的情况。\n",
      "\n",
      "通过这些调整，可以提高从数据库中准确找到 '博时基金公司' 相关记录的概率。\n",
      "----JSON parsing error-----\n"
     ]
    },
    {
     "name": "stderr",
     "output_type": "stream",
     "text": [
      " 64%|██████▍   | 64/100 [09:06<21:15, 35.42s/it]"
     ]
    },
    {
     "name": "stdout",
     "output_type": "stream",
     "text": [
      "```json\n",
      "[\n",
      "  {\n",
      "    \"potential_reason_cot_thinking\": \"原始 NER 结果中的 '博时基金公司' 在数据库中未找到匹配项，可能是因为名称存在差异或数据库中未收录该实体。需要调整名称以匹配数据库中的实体。\",\n",
      "    \"sql_query\": \"SELECT * FROM InstitutionDB.LC_InstiArchive WHERE '博时基金管理有限公司' IN (ChiName, AbbrChiName, NameChiSpelling, EngName, AbbrEngName)\",\n",
      "    \"sql_explanation\": \"将 '博时基金公司' 调整为 '博时基金管理有限公司'，因为数据库中可能使用全称。这样可以提高查询匹配的概率。\"\n",
      "  },\n",
      "  {\n",
      "    \"potential_reason_cot_thinking\": \"原始 NER 结果中的 '博时基金公司' 可能存在简称或别称，数据库中可能使用不同的名称形式。\",\n",
      "    \"sql_query\": \"SELECT * FROM InstitutionDB.LC_InstiArchive WHERE '博时基金' IN (ChiName, AbbrChiName, NameChiSpelling, EngName, AbbrEngName)\",\n",
      "    \"sql_explanation\": \"尝试使用简称 '博时基金' 进行查询，以覆盖数据库中可能存在的简称或别称形式。\"\n",
      "  },\n",
      "  {\n",
      "    \"potential_reason_cot_thinking\": \"原始 NER 结果中的 '博时基金公司' 可能存在拼音或英文简称，数据库中可能使用这些形式。\",\n",
      "    \"sql_query\": \"SELECT * FROM InstitutionDB.LC_InstiArchive WHERE 'Boshi Fund' IN (ChiName, AbbrChiName, NameChiSpelling, EngName, AbbrEngName)\",\n",
      "    \"sql_explanation\": \"尝试使用英文简称 'Boshi Fund' 进行查询，以覆盖数据库中可能存在的英文或拼音形式。\"\n",
      "  }\n",
      "]\n",
      "```\n"
     ]
    },
    {
     "name": "stderr",
     "output_type": "stream",
     "text": [
      " 78%|███████▊  | 78/100 [09:57<01:27,  3.99s/it]"
     ]
    },
    {
     "name": "stdout",
     "output_type": "stream",
     "text": [
      "====NER Validation===\n",
      "{'reasoning_process_cot': \"从问题中可以看出，'Huazhu Group Ltd.'是一个上市公司名称，因为它提到了'公司'并且询问的是该公司的美股英文名称。因此，需要将'Huazhu Group Ltd.'识别为上市公司名称实体。\", 'result': [{'上市公司名称': 'Huazhu Group Ltd.'}], 'sql': {'上市公司名称:Huazhu Group Ltd.': [{'query': \"SELECT * FROM ConstantDB.SecuMain WHERE 'Huazhu Group Ltd.' IN (ChiName, ChiNameAbbr, EngName, EngNameAbbr, SecuAbbr, ChiSpelling)\", 'result': []}, {'query': \"SELECT * FROM ConstantDB.HK_SecuMain WHERE 'Huazhu Group Ltd.' IN (ChiName, ChiNameAbbr, EngName, EngNameAbbr, SecuAbbr, ChiSpelling)\", 'result': []}, {'query': \"SELECT * FROM ConstantDB.US_SecuMain WHERE 'Huazhu Group Ltd.' IN (SecuCode, SecuAbbr, ChiSpelling, EngName, ChiName)\", 'result': []}]}}\n",
      "```json\n",
      "[\n",
      "  {\n",
      "    \"potential_reason_cot_thinking\": \"原始 NER 结果中的 'Huazhu Group Ltd.' 可能是中文名称或简称，而数据库中可能存储的是其英文名称或简称。因此，需要尝试不同的字段组合来匹配该实体。\",\n",
      "    \"sql_query\": \"SELECT EngName FROM ConstantDB.US_SecuMain WHERE ChiName = 'Huazhu Group Ltd.' OR ChiNameAbbr = 'Huazhu Group Ltd.' OR EngNameAbbr = 'Huazhu Group Ltd.' OR SecuAbbr = 'Huazhu Group Ltd.' OR ChiSpelling = 'Huazhu Group Ltd.'\",\n",
      "    \"sql_explanation\": \"此查询尝试在美股主表（US_SecuMain）中查找与 'Huazhu Group Ltd.' 相匹配的英文名称（EngName），考虑了中文名称、中文名称简称、英文名称简称、证券简称和中文拼音等多个字段，以增加匹配成功的可能性。\"\n",
      "  },\n",
      "  {\n",
      "    \"potential_reason_cot_thinking\": \"考虑到公司名称可能存在不同的书写方式或缩写，进一步扩展查询条件，包括可能的英文名称缩写。\",\n",
      "    \"sql_query\": \"SELECT EngName FROM ConstantDB.US_SecuMain WHERE EngName LIKE '%Huazhu Group%' OR EngNameAbbr LIKE '%HGL%'\",\n",
      "    \"sql_explanation\": \"此查询通过模糊匹配的方式，查找包含 'Huazhu Group' 的英文名称或包含 'HGL' 的英文名称缩写，以覆盖更多可能的名称变体。\"\n",
      "  },\n",
      "  {\n",
      "    \"potential_reason_cot_thinking\": \"如果 'Huazhu Group Ltd.' 是一个误识别的名称，可能需要考虑其全称或其他相关名称在数据库中的记录。\",\n",
      "    \"sql_query\": \"SELECT EngName FROM ConstantDB.US_SecuMain WHERE ChiName LIKE '%华住集团%' OR EngName LIKE '%HuaZhu Group%'\",\n",
      "    \"sql_explanation\": \"此查询通过模糊匹配中文名称 '华住集团' 和英文名称 'HuaZhu Group'，尝试找到与 'Huazhu Group Ltd.' 相关的正确记录。\"\n",
      "  }\n",
      "]\n",
      "```\n",
      "Request failed: 500 Server Error: Internal Server Error for url: https://comm.chatglm.cn/finglm2/api/query\n",
      "Request failed: 500 Server Error: Internal Server Error for url: https://comm.chatglm.cn/finglm2/api/query\n",
      "### **输出**\n",
      "\n",
      "```json\n",
      "[\n",
      "  {\n",
      "    \"potential_reason_cot_thinking\": \"Huazhu Group Ltd. 可能是一个在多个数据库中都没有直接匹配的名称，可能是因为名称的拼写或格式有所不同。需要尝试使用不同的字段和可能的变体进行查询。\",\n",
      "    \"sql_query\": \"SELECT EngName FROM ConstantDB.US_SecuMain WHERE ChiName = '华住集团' OR ChiNameAbbr = '华住' OR EngNameAbbr = 'HUAZHU' OR SecuAbbr = 'HUAZHU'\",\n",
      "    \"sql_explanation\": \"由于直接使用 'Huazhu Group Ltd.' 查询没有结果，尝试使用华住集团的中文名称、简称及其英文简称和证券简称进行查询，以找到其在美股的英文名称。\"\n",
      "  },\n",
      "  {\n",
      "    \"potential_reason_cot_thinking\": \"可能 'Huazhu Group Ltd.' 在数据库中的记录使用了不同的名称格式，例如全称或简称有所不同。可以尝试使用模糊匹配来查找相关记录。\",\n",
      "    \"sql_query\": \"SELECT EngName FROM ConstantDB.US_SecuMain WHERE EngName LIKE '%Huazhu%' OR ChiName LIKE '%华住%'\",\n",
      "    \"sql_explanation\": \"使用模糊匹配来查找包含 'Huazhu' 或 '华住' 的记录，以找到正确的英文名称。\"\n",
      "  },\n",
      "  {\n",
      "    \"potential_reason_cot_thinking\": \"考虑到公司名称可能存在翻译或注册名称的差异，尝试查询其可能的中文名称对应的美股英文名称。\",\n",
      "    \"sql_query\": \"SELECT EngName FROM ConstantDB.US_SecuMain WHERE ChiName = '华住集团有限公司'\",\n",
      "    \"sql_explanation\": \"直接查询 '华住集团有限公司' 的英文名称，以确认其在美股的注册英文名称。\"\n",
      "  }\n",
      "]\n",
      "```\n",
      "\n",
      "### **解释**\n",
      "\n",
      "1. **第一条 SQL 查询**：\n",
      "   - **潜在原因**：原始查询没有结果可能是因为名称格式或拼写差异。\n",
      "   - **SQL 查询**：尝试使用华住集团的中文名称、简称及其英文简称和证券简称进行查询。\n",
      "   - **解释**：通过多种可能的名称变体来增加匹配成功的概率。\n",
      "\n",
      "2. **第二条 SQL 查询**：\n",
      "   - **潜在原因**：数据库中可能使用了不同的名称格式。\n",
      "   - **SQL 查询**：使用模糊匹配来查找包含 'Huazhu' 或 '华住' 的记录。\n",
      "   - **解释**：模糊匹配可以捕捉到名称中的部分关键字，提高查找的灵活性。\n",
      "\n",
      "3. **第三条 SQL 查询**：\n",
      "   - **潜在原因**：公司名称可能存在翻译或注册名称的差异。\n",
      "   - **SQL 查询**：直接查询 '华住集团有限公司' 的英文名称。\n",
      "   - **解释**：通过查询完整的中文名称来确认其在美股的注册英文名称。\n",
      "----JSON parsing error-----\n",
      "### **输出**\n",
      "\n",
      "```json\n",
      "[\n",
      "  {\n",
      "    \"potential_reason_cot_thinking\": \"Huazhu Group Ltd. 可能是一个中文名称，而在数据库中存储的是其英文名称。我们需要尝试使用其可能的英文名称进行查询。\",\n",
      "    \"sql_query\": \"SELECT EngName FROM ConstantDB.US_SecuMain WHERE ChiName = 'Huazhu Group Ltd.' OR ChiNameAbbr = 'Huazhu Group Ltd.'\",\n",
      "    \"sql_explanation\": \"此查询尝试在美股数据库（US_SecuMain）中查找与 'Huazhu Group Ltd.' 相匹配的中文名称或简称，并返回其英文名称（EngName）。\"\n",
      "  },\n",
      "  {\n",
      "    \"potential_reason_cot_thinking\": \"可能数据库中的名称使用了不同的拼写或缩写形式，我们可以尝试使用模糊匹配来查找相关信息。\",\n",
      "    \"sql_query\": \"SELECT EngName FROM ConstantDB.US_SecuMain WHERE ChiName LIKE '%Huazhu Group Ltd.%' OR ChiNameAbbr LIKE '%Huazhu Group Ltd.%'\",\n",
      "    \"sql_explanation\": \"此查询使用模糊匹配（LIKE）在美股数据库中查找包含 'Huazhu Group Ltd.' 的中文名称或简称，并返回其英文名称。\"\n",
      "  },\n",
      "  {\n",
      "    \"potential_reason_cot_thinking\": \"考虑到可能存在翻译或录入错误，我们可以尝试查找包含相似关键词的公司名称。\",\n",
      "    \"sql_query\": \"SELECT EngName FROM ConstantDB.US_SecuMain WHERE ChiName LIKE '%Huazhu%' OR ChiNameAbbr LIKE '%Huazhu%'\",\n",
      "    \"sql_explanation\": \"此查询进一步放宽匹配条件，查找包含 'Huazhu' 的中文名称或简称，并返回其英文名称，以覆盖可能的翻译或录入错误。\"\n",
      "  }\n",
      "]\n",
      "```\n",
      "\n",
      "### **解释**\n",
      "\n",
      "1. **第一条 SQL 查询**：\n",
      "   - **原因**：假设 'Huazhu Group Ltd.' 是中文名称，数据库中可能存储其英文名称。\n",
      "   - **查询**：在美股数据库中查找与 'Huazhu Group Ltd.' 相匹配的中文名称或简称，返回英文名称。\n",
      "\n",
      "2. **第二条 SQL 查询**：\n",
      "   - **原因**：数据库中的名称可能使用了不同的拼写或缩写形式。\n",
      "   - **查询**：使用模糊匹配查找包含 'Huazhu Group Ltd.' 的中文名称或简称，返回英文名称。\n",
      "\n",
      "3. **第三条 SQL 查询**：\n",
      "   - **原因**：考虑到可能的翻译或录入错误。\n",
      "   - **查询**：进一步放宽匹配条件，查找包含 'Huazhu' 的中文名称或简称，返回英文名称。\n",
      "\n",
      "这些查询逐步放宽匹配条件，以提高找到正确英文名称的概率。\n",
      "----JSON parsing error-----\n",
      "```json\n",
      "[\n",
      "  {\n",
      "    \"potential_reason_cot_thinking\": \"可能的原因是，'Huazhu Group Ltd.' 这个名称在数据库中的字段（如ChiName, ChiNameAbbr, EngName等）中不直接存在，可能需要考虑名称的变体或缩写。\",\n",
      "    \"sql_query\": \"SELECT EngName FROM ConstantDB.US_SecuMain WHERE ChiName = '华住集团' OR ChiNameAbbr = '华住' OR EngNameAbbr = 'HGL' OR SecuAbbr = 'HGL'\",\n",
      "    \"sql_explanation\": \"此查询尝试通过华住集团的中文名称、中文名称缩写、英文名称缩写或证券简称来查找其在美股的英文名称。这样可以覆盖可能的名称变体。\"\n",
      "  },\n",
      "  {\n",
      "    \"potential_reason_cot_thinking\": \"另一个可能的原因是，公司名称在不同数据库表中可能有不同的表示方式，需要尝试更多的字段匹配。\",\n",
      "    \"sql_query\": \"SELECT EngName FROM ConstantDB.US_SecuMain WHERE ChiName LIKE '%华住%' OR EngName LIKE '%Huazhu%' OR SecuAbbr LIKE '%HGL%'\",\n",
      "    \"sql_explanation\": \"此查询使用模糊匹配来查找包含'华住'、'Huazhu'或'HGL'的记录，以增加找到正确英文名称的可能性。\"\n",
      "  },\n",
      "  {\n",
      "    \"potential_reason_cot_thinking\": \"还可能是数据库中的记录有拼写错误或不一致，需要考虑可能的拼写变体。\",\n",
      "    \"sql_query\": \"SELECT EngName FROM ConstantDB.US_SecuMain WHERE SOUNDEX(ChiName) = SOUNDEX('华住集团') OR SOUNDEX(EngName) = SOUNDEX('Huazhu Group Ltd.')\",\n",
      "    \"sql_explanation\": \"此查询使用SOUNDEX函数来匹配发音相似的记录，以应对可能的拼写错误或不一致。\"\n",
      "  }\n",
      "]\n",
      "```\n",
      "Request failed: 500 Server Error: Internal Server Error for url: https://comm.chatglm.cn/finglm2/api/query\n"
     ]
    },
    {
     "name": "stderr",
     "output_type": "stream",
     "text": [
      "100%|██████████| 100/100 [12:18<00:00,  7.38s/it]\n"
     ]
    }
   ],
   "source": [
    "answers = []\n",
    "ner_max_tried = 6\n",
    "\n",
    "for question in tqdm(questions[:]):\n",
    "    \n",
    "    query = make_ner_prompt(question)\n",
    "\n",
    "    history = []\n",
    "    tried = 0\n",
    "\n",
    "    while tried < ner_max_tried:\n",
    "        start_time = time.time()\n",
    "        message = chat.create_message(query, history=history, system_prompt=system_prompt, temperature=0.1, top_p=1, response_format='text')\n",
    "        end_time = time.time()\n",
    "\n",
    "        execution_time = end_time - start_time\n",
    "        usage = chat.get_token_usage(message, False)\n",
    "        content = chat.get_content(message, False)\n",
    "\n",
    "        res = question.copy()\n",
    "        res['ner'] = {}\n",
    "        try:\n",
    "            res['ner']['stage_1'] = json.loads(content.strip('`json'))\n",
    "            break\n",
    "        except:\n",
    "            print(f\"JSON parsing error: {query}\")\n",
    "            tried += 1\n",
    "\n",
    "    res['token_usage'] = {}\n",
    "    res['token_usage']['ner-stage_1'] = usage\n",
    "    res['time_usage'] = {}\n",
    "    res['time_usage']['ner-stage_1'] = f\"{execution_time:.2f}s\"\n",
    "\n",
    "    # obtain sql results\n",
    "    res['ner']['stage_1'] = sql.process_ner_res(res['ner']['stage_1'])\n",
    "\n",
    "    # check results\n",
    "    ner = res['ner']['stage_1'] # Extract the 'stage_1' data from the 'ner' key\n",
    "    ner_result = res['ner']['stage_1']['result'] # Extract the 'result' from 'stage_1'\n",
    "\n",
    "    # Check if all `result` fields in the `sql` data are empty\n",
    "    all_results_empty = True  # Assume initially that all `result` fields are empty\n",
    "\n",
    "    # Iterate through the `sql` dictionary in the `ner` object\n",
    "    for key, queries in ner.get('sql', {}).items():\n",
    "        for query_info in queries:  # Iterate through each query info in the list\n",
    "            if query_info.get('result'):  # Check if the `result` field is not empty\n",
    "                all_results_empty = False\n",
    "                break  # Exit the loop immediately if a non-empty `result` is found\n",
    "        if not all_results_empty:\n",
    "            break  # Exit the outer loop if a non-empty `result` is found\n",
    "\n",
    "    # If all `result` fields are empty and `ner_result` is not empty\n",
    "    if all_results_empty and ner_result:\n",
    "        tried = 0\n",
    "\n",
    "        print('====NER Validation===')\n",
    "        print(ner)\n",
    "\n",
    "        while tried < ner_max_tried:\n",
    "            query = make_ner_valid_prompt(res)\n",
    "            history = []\n",
    "            message = chat.create_message(query, history=history, system_prompt=system_prompt, temperature=0.7, top_p=0.9, response_format='text')\n",
    "            content = chat.get_content(message, True)\n",
    "\n",
    "            try:\n",
    "                # JSON Format doesn't count a fail\n",
    "                tmp_res = json.loads(content.strip('`json'))\n",
    "            except:\n",
    "                print(\"----JSON parsing error-----\")\n",
    "                continue\n",
    "\n",
    "            sql_queries = [i['sql_query'] for i in tmp_res]\n",
    "            \n",
    "            for sql_query in sql_queries:\n",
    "                sql_query = sub_select_content(sql_query)\n",
    "                sql_res = sql.get_data_from_sql_query(sql_query)\n",
    "\n",
    "                if sql_res:\n",
    "                    break\n",
    "            \n",
    "            if sql_res:\n",
    "                break\n",
    "            else:\n",
    "                tried += 1\n",
    "\n",
    "        if sql_res:\n",
    "            kv = list(ner['sql'].keys())[0]\n",
    "            res['ner']['stage_1']['sql'][kv].append({\n",
    "                \"query\": sql_query,\n",
    "                \"result\": sql_res\n",
    "            })\n",
    "        else:\n",
    "            print('====FAILED===')\n",
    "            print('====NER Validation===')\n",
    "            pass\n",
    "        \n",
    "    answers.append(res)\n",
    "\n",
    "saved_path = os.path.join(cwd, 'answer_tmp' + os.sep + f'stage_1-{model}-{task}-{version}.json')\n",
    "parse_data.write_json(answers, saved_path)"
   ]
  },
  {
   "cell_type": "markdown",
   "metadata": {},
   "source": [
    "## Check Results"
   ]
  },
  {
   "cell_type": "code",
   "execution_count": 25,
   "metadata": {},
   "outputs": [
    {
     "name": "stdout",
     "output_type": "stream",
     "text": [
      "{'id': 'tttt----59----15-3-1', 'question': '2022年之间 哪些公司进行公司名称全称变更，公司代码是什么？'}\n",
      "{'reasoning_process_cot': '从问题中可以看出，询问的是在2022年期间进行公司名称全称变更的公司及其代码。这里涉及到两个实体类型：上市公司名称和代码。虽然具体公司名称和代码未在问题中明确提及，但问题的意图是查找这些信息。因此，我们需要识别出问题中隐含的实体类型，即上市公司名称和代码。', 'result': [{'上市公司名称': '公司名称全称变更的公司'}, {'代码': '公司代码'}], 'sql': {'上市公司名称:公司名称全称变更的公司': [{'query': \"SELECT * FROM ConstantDB.SecuMain WHERE '公司名称全称变更的公司' IN (ChiName, ChiNameAbbr, EngName, EngNameAbbr, SecuAbbr, ChiSpelling)\", 'result': []}, {'query': \"SELECT * FROM ConstantDB.HK_SecuMain WHERE '公司名称全称变更的公司' IN (ChiName, ChiNameAbbr, EngName, EngNameAbbr, SecuAbbr, ChiSpelling)\", 'result': []}, {'query': \"SELECT * FROM ConstantDB.US_SecuMain WHERE '公司名称全称变更的公司' IN (SecuCode, SecuAbbr, ChiSpelling, EngName, ChiName)\", 'result': []}], '代码:公司代码': [{'query': None, 'result': None}]}}\n",
      "\n"
     ]
    }
   ],
   "source": [
    "answer_dir = os.path.join(cwd, 'answer_tmp')\n",
    "fname = f'stage_1-{model}-{task}-{version}-HF.json'\n",
    "fpath = os.path.join(answer_dir, fname)\n",
    "\n",
    "data = parse_data.read_json(fpath)\n",
    "\n",
    "for i in data[:]:  # Iterate through each element in the data list\n",
    "    ner = i['ner']['stage_1']  # Extract the 'stage_1' data from the 'ner' key\n",
    "    ner_result = i['ner']['stage_1']['result']  # Extract the 'result' from 'stage_1'\n",
    "\n",
    "    # Check if all `result` fields in the `sql` data are empty\n",
    "    all_results_empty = True  # Assume initially that all `result` fields are empty\n",
    "\n",
    "    # Iterate through the `sql` dictionary in the `ner` object\n",
    "    for key, queries in ner.get('sql', {}).items():\n",
    "        for query_info in queries:  # Iterate through each query info in the list\n",
    "            if query_info.get('result'):  # Check if the `result` field is not empty\n",
    "                all_results_empty = False\n",
    "                break  # Exit the loop immediately if a non-empty `result` is found\n",
    "        if not all_results_empty:\n",
    "            break  # Exit the outer loop if a non-empty `result` is found\n",
    "\n",
    "    # If all `result` fields are empty and `ner_result` is not empty\n",
    "    if all_results_empty and ner_result:\n",
    "        print(i['team'][0])  # Print the first element of the 'team' list\n",
    "        print(ner)  # Print the 'ner' object\n",
    "        print()  # Print an empty line for separation"
   ]
  },
  {
   "cell_type": "markdown",
   "metadata": {},
   "source": [
    "# Market"
   ]
  },
  {
   "cell_type": "code",
   "execution_count": 78,
   "metadata": {},
   "outputs": [],
   "source": [
    "question_path = os.path.join(cwd, 'answer_tmp' + os.sep + 'stage_1-glm_4_plus-ner-v2.2.1-HF.json')\n",
    "\n",
    "questions = parse_data.read_json(question_path)\n",
    "# sort the questions by tid\n",
    "questions = sorted(questions, key=lambda x: int(x['tid'].split('-')[-1]))"
   ]
  },
  {
   "cell_type": "markdown",
   "metadata": {},
   "source": [
    "## Tool"
   ]
  },
  {
   "cell_type": "code",
   "execution_count": 79,
   "metadata": {},
   "outputs": [],
   "source": [
    "def parse_database_and_table(query: str) -> dict:\n",
    "    \"\"\"\n",
    "    Parse the given SQL query to return the database and table names in a dictionary.\n",
    "    \n",
    "    Args:\n",
    "    - query (str): The SQL query to parse.\n",
    "    \n",
    "    Returns:\n",
    "    - dict: A dictionary with 'database' and 'table' keys.\n",
    "    \"\"\"\n",
    "\n",
    "    pattern = r'FROM\\s+([a-zA-Z0-9_]+)\\.([a-zA-Z0-9_]+)'\n",
    "    match = re.search(pattern, query, re.IGNORECASE)\n",
    "    \n",
    "    if match:\n",
    "        database = match.group(1)\n",
    "        table = match.group(2)\n",
    "        return {'database': database, 'table': table}\n",
    "    \n",
    "    return {}"
   ]
  },
  {
   "cell_type": "markdown",
   "metadata": {},
   "source": [
    "## Craft Prompt"
   ]
  },
  {
   "cell_type": "code",
   "execution_count": 119,
   "metadata": {},
   "outputs": [],
   "source": [
    "system_prompt = \"\"\n",
    "\n",
    "version = 'v1.0.0'\n",
    "task = 'market_classifier'\n",
    "\n",
    "prompt_dir = os.path.join(cwd, 'prompt')\n",
    "market_fname = 'market_classifier-v1.0.0.md'\n",
    "fpath = os.path.join(prompt_dir, market_fname)\n",
    "\n",
    "with open(fpath, 'r') as f:\n",
    "    market_prompt_template = ''.join(f.readlines())\n",
    "\n",
    "def make_prompt_market(data: dict) -> str:\n",
    "\n",
    "    prompt = market_prompt_template\n",
    "\n",
    "    # replace query\n",
    "    query = data['team'][0]['question']\n",
    "    reg_p = re.compile('<Current Query>')\n",
    "    prompt = re.sub(reg_p, query, prompt)\n",
    "\n",
    "    # NER Result\n",
    "    if data['ner']['stage_1']['result']:\n",
    "        ner_res = data['ner']['stage_1']['sql']\n",
    "        ner_res = json.dumps(ner_res, ensure_ascii=False, indent=2)\n",
    "        reg_p = re.compile('<给出的信息>')\n",
    "        prompt = re.sub(reg_p, ner_res, prompt)\n",
    "    else:\n",
    "        reg_p = re.compile('\\n<给出的信息>\\n')\n",
    "        prompt = re.sub(reg_p, '', prompt)\n",
    "        reg_p = re.compile('\\n## \\*\\*给出的信息\\*\\*\\n')\n",
    "        prompt = re.sub(reg_p, '', prompt)\n",
    "        pass\n",
    "\n",
    "    return prompt"
   ]
  },
  {
   "cell_type": "code",
   "execution_count": 123,
   "metadata": {},
   "outputs": [],
   "source": [
    "for i in questions:\n",
    "    try:\n",
    "        tmp = make_prompt_market(i)\n",
    "    except:\n",
    "        print(i)"
   ]
  },
  {
   "cell_type": "markdown",
   "metadata": {
    "notebookRunGroups": {
     "groupValue": "2"
    }
   },
   "source": [
    "## GLM"
   ]
  },
  {
   "cell_type": "code",
   "execution_count": 127,
   "metadata": {},
   "outputs": [
    {
     "name": "stderr",
     "output_type": "stream",
     "text": [
      "  0%|          | 0/100 [00:00<?, ?it/s]"
     ]
    },
    {
     "name": "stdout",
     "output_type": "stream",
     "text": [
      "---NOT ONE---\n",
      "{}\n"
     ]
    },
    {
     "name": "stderr",
     "output_type": "stream",
     "text": [
      "  2%|▏         | 2/100 [00:06<05:04,  3.10s/it]"
     ]
    },
    {
     "name": "stdout",
     "output_type": "stream",
     "text": [
      "---NOT ONE---\n",
      "{}\n"
     ]
    },
    {
     "name": "stderr",
     "output_type": "stream",
     "text": [
      "  7%|▋         | 7/100 [00:08<01:42,  1.10s/it]"
     ]
    },
    {
     "name": "stdout",
     "output_type": "stream",
     "text": [
      "---NOT ONE---\n",
      "{}\n"
     ]
    },
    {
     "name": "stderr",
     "output_type": "stream",
     "text": [
      "  8%|▊         | 8/100 [00:13<02:32,  1.66s/it]"
     ]
    },
    {
     "name": "stdout",
     "output_type": "stream",
     "text": [
      "---NOT ONE---\n",
      "{}\n"
     ]
    },
    {
     "name": "stderr",
     "output_type": "stream",
     "text": [
      "  9%|▉         | 9/100 [00:17<03:18,  2.18s/it]"
     ]
    },
    {
     "name": "stdout",
     "output_type": "stream",
     "text": [
      "---NOT ONE---\n",
      "{'上市公司名称:中国人寿': [{'query': \"SELECT * FROM ConstantDB.SecuMain WHERE '中国人寿' IN (ChiName, ChiNameAbbr, EngName, EngNameAbbr, SecuAbbr, ChiSpelling)\", 'result': []}, {'query': \"SELECT * FROM ConstantDB.HK_SecuMain WHERE '中国人寿' IN (ChiName, ChiNameAbbr, EngName, EngNameAbbr, SecuAbbr, ChiSpelling)\", 'result': [{'ID': 16808232845300, 'InnerCode': 1000872, 'CompanyCode': 4057, 'SecuCode': '02628', 'ChiName': '中国人寿保险股份有限公司', 'ChiNameAbbr': None, 'EngName': 'China Life Insurance Company Limited', 'EngNameAbbr': 'CHINA LIFE', 'SecuAbbr': '中国人寿', 'ChiSpelling': 'ZGRS', 'SecuMarket': 72, 'SecuCategory': 3, 'ListedDate': '2003-12-18 12:00:00.000', 'ListedSector': 1, 'ListedState': 1, 'XGRQ': '2018-11-29 11:24:25.720', 'JSID': 596805865723, 'DelistingDate': None, 'ISIN': 'CNE1000002L3', 'FormerName': None, 'TradingUnit': 1000.0, 'TraCurrUnit': 1100, 'InsertTime': '2005-10-12 02:23:57.983'}]}, {'query': \"SELECT * FROM ConstantDB.US_SecuMain WHERE '中国人寿' IN (SecuCode, SecuAbbr, ChiSpelling, EngName, ChiName)\", 'result': [{'ID': 694505747566, 'InnerCode': 7005304, 'SecuCode': 'LFC', 'SecuAbbr': '中国人寿', 'ChiSpelling': 'ZGRS', 'SecuCategory': 75, 'SecuMarket': 78, 'ListedSector': None, 'ListedDate': '2003-12-17 12:00:00.000', 'ListedState': 5, 'ISIN': None, 'CompanyCode': 4057, 'UpdateTime': '2022-12-18 10:06:10.113', 'JSID': 694708338161, 'DelistingDate': '2022-09-02 12:00:00.000', 'InsertTime': '2022-09-05 12:12:01.187', 'EngName': 'China Life Insurance Co. Ltd. Sponsored ADR Class H', 'ChiName': '中国人寿保险股份有限公司'}]}]}\n"
     ]
    },
    {
     "name": "stderr",
     "output_type": "stream",
     "text": [
      " 16%|█▌        | 16/100 [00:22<01:39,  1.18s/it]"
     ]
    },
    {
     "name": "stdout",
     "output_type": "stream",
     "text": [
      "---NOT ONE---\n",
      "{'上市公司名称:大唐国际发电股份有限公司': [{'query': \"SELECT * FROM ConstantDB.SecuMain WHERE '大唐国际发电股份有限公司' IN (ChiName, ChiNameAbbr, EngName, EngNameAbbr, SecuAbbr, ChiSpelling)\", 'result': [{'ID': 217614716484, 'InnerCode': 4874, 'CompanyCode': 3848, 'SecuCode': '601991', 'ChiName': '大唐国际发电股份有限公司', 'ChiNameAbbr': '大唐发电', 'EngName': 'Datang International Power Generation Co., Ltd.', 'EngNameAbbr': 'Datang Power', 'SecuAbbr': '大唐发电', 'ChiSpelling': 'DTFD', 'SecuMarket': 83, 'SecuCategory': 1, 'ListedDate': '2006-12-20 12:00:00.000', 'ListedSector': 1, 'ListedState': 1, 'XGRQ': '2017-03-16 04:30:01.650', 'JSID': 542953801666, 'ISIN': 'CNE000001Q02', 'ExtendedAbbr': None, 'ExtendedSpelling': None}]}, {'query': \"SELECT * FROM ConstantDB.HK_SecuMain WHERE '大唐国际发电股份有限公司' IN (ChiName, ChiNameAbbr, EngName, EngNameAbbr, SecuAbbr, ChiSpelling)\", 'result': []}, {'query': \"SELECT * FROM ConstantDB.US_SecuMain WHERE '大唐国际发电股份有限公司' IN (SecuCode, SecuAbbr, ChiSpelling, EngName, ChiName)\", 'result': [{'ID': 680237631238, 'InnerCode': 7103091, 'SecuCode': 'DIPGF', 'SecuAbbr': 'Datang International Power Generation Co., Ltd. Class H', 'ChiSpelling': None, 'SecuCategory': 74, 'SecuMarket': 460, 'ListedSector': None, 'ListedDate': None, 'ListedState': 1, 'ISIN': None, 'CompanyCode': 3848, 'UpdateTime': '2022-12-18 06:27:10.133', 'JSID': 694702124529, 'DelistingDate': None, 'InsertTime': '2021-09-07 01:36:57.043', 'EngName': 'Datang International Power Generation Co., Ltd. Class H', 'ChiName': '大唐国际发电股份有限公司'}, {'ID': 680237676430, 'InnerCode': 7088264, 'SecuCode': 'DIPFF', 'SecuAbbr': 'Datang International Power Generation Co., Ltd. Class A', 'ChiSpelling': None, 'SecuCategory': 74, 'SecuMarket': 460, 'ListedSector': None, 'ListedDate': None, 'ListedState': 5, 'ISIN': None, 'CompanyCode': 3848, 'UpdateTime': '2022-12-18 06:27:10.133', 'JSID': 694702116491, 'DelistingDate': None, 'InsertTime': '2021-09-07 01:36:57.043', 'EngName': 'Datang International Power Generation Co., Ltd. Class A', 'ChiName': '大唐国际发电股份有限公司'}, {'ID': 680237677489, 'InnerCode': 7071231, 'SecuCode': 'DIPGY', 'SecuAbbr': '大唐发电', 'ChiSpelling': 'DTFD', 'SecuCategory': 75, 'SecuMarket': 460, 'ListedSector': None, 'ListedDate': '1997-03-21 12:00:00.000', 'ListedState': 5, 'ISIN': None, 'CompanyCode': 3848, 'UpdateTime': '2022-10-23 02:54:01.250', 'JSID': 694567248666, 'DelistingDate': None, 'InsertTime': '2021-09-07 01:36:57.043', 'EngName': 'Datang International Power Generation Co., Ltd. Sponsored ADR Class H', 'ChiName': '大唐国际发电股份有限公司'}]}]}\n"
     ]
    },
    {
     "name": "stderr",
     "output_type": "stream",
     "text": [
      " 20%|██        | 20/100 [00:29<01:56,  1.45s/it]"
     ]
    },
    {
     "name": "stdout",
     "output_type": "stream",
     "text": [
      "---NOT ONE---\n",
      "{}\n"
     ]
    },
    {
     "name": "stderr",
     "output_type": "stream",
     "text": [
      " 21%|██        | 21/100 [00:33<02:17,  1.74s/it]"
     ]
    },
    {
     "name": "stdout",
     "output_type": "stream",
     "text": [
      "API ERROR\n",
      "---NOT ONE---\n",
      "{}\n"
     ]
    },
    {
     "name": "stderr",
     "output_type": "stream",
     "text": [
      " 22%|██▏       | 22/100 [00:39<02:53,  2.22s/it]"
     ]
    },
    {
     "name": "stdout",
     "output_type": "stream",
     "text": [
      "---NOT ONE---\n",
      "{'上市公司名称:中国联通': [{'query': \"SELECT * FROM ConstantDB.SecuMain WHERE '中国联通' IN (ChiName, ChiNameAbbr, EngName, EngNameAbbr, SecuAbbr, ChiSpelling)\", 'result': []}, {'query': \"SELECT * FROM ConstantDB.HK_SecuMain WHERE '中国联通' IN (ChiName, ChiNameAbbr, EngName, EngNameAbbr, SecuAbbr, ChiSpelling)\", 'result': [{'ID': 16808232655600, 'InnerCode': 1000593, 'CompanyCode': 1000593, 'SecuCode': '00762', 'ChiName': '中国联合网络通信(香港)股份有限公司', 'ChiNameAbbr': None, 'EngName': 'China Unicom (Hong Kong) Limited', 'EngNameAbbr': 'CHINA UNICOM', 'SecuAbbr': '中国联通', 'ChiSpelling': 'ZGLT', 'SecuMarket': 72, 'SecuCategory': 53, 'ListedDate': '2000-06-22 12:00:00.000', 'ListedSector': 1, 'ListedState': 1, 'XGRQ': '2019-12-12 01:03:05.373', 'JSID': 629427788469, 'DelistingDate': None, 'ISIN': 'HK0000049939', 'FormerName': None, 'TradingUnit': 2000.0, 'TraCurrUnit': 1100, 'InsertTime': '2005-10-12 02:23:28.437'}]}, {'query': \"SELECT * FROM ConstantDB.US_SecuMain WHERE '中国联通' IN (SecuCode, SecuAbbr, ChiSpelling, EngName, ChiName)\", 'result': [{'ID': 680237638998, 'InnerCode': 7005264, 'SecuCode': 'CHU', 'SecuAbbr': '中国联通', 'ChiSpelling': 'ZGLT', 'SecuCategory': 75, 'SecuMarket': 78, 'ListedSector': None, 'ListedDate': '2000-06-21 12:00:00.000', 'ListedState': 5, 'ISIN': None, 'CompanyCode': 1000593, 'UpdateTime': '2022-12-30 03:39:03.297', 'JSID': 694795388512, 'DelistingDate': '2021-05-07 12:00:00.000', 'InsertTime': '2021-09-07 01:36:57.043', 'EngName': 'China Unicom (Hong Kong) Limited Sponsored ADR', 'ChiName': '中国联合网络通信（香港）股份有限公司'}]}]}\n"
     ]
    },
    {
     "name": "stderr",
     "output_type": "stream",
     "text": [
      " 33%|███▎      | 33/100 [00:44<01:11,  1.06s/it]"
     ]
    },
    {
     "name": "stdout",
     "output_type": "stream",
     "text": [
      "---NOT ONE---\n",
      "{}\n"
     ]
    },
    {
     "name": "stderr",
     "output_type": "stream",
     "text": [
      " 34%|███▍      | 34/100 [00:49<01:26,  1.32s/it]"
     ]
    },
    {
     "name": "stdout",
     "output_type": "stream",
     "text": [
      "---NOT ONE---\n",
      "{}\n"
     ]
    },
    {
     "name": "stderr",
     "output_type": "stream",
     "text": [
      " 39%|███▉      | 39/100 [00:52<01:04,  1.06s/it]"
     ]
    },
    {
     "name": "stdout",
     "output_type": "stream",
     "text": [
      "---NOT ONE---\n",
      "{}\n"
     ]
    },
    {
     "name": "stderr",
     "output_type": "stream",
     "text": [
      " 40%|████      | 40/100 [00:55<01:17,  1.29s/it]"
     ]
    },
    {
     "name": "stdout",
     "output_type": "stream",
     "text": [
      "---NOT ONE---\n",
      "{}\n"
     ]
    },
    {
     "name": "stderr",
     "output_type": "stream",
     "text": [
      " 44%|████▍     | 44/100 [01:01<01:14,  1.33s/it]"
     ]
    },
    {
     "name": "stdout",
     "output_type": "stream",
     "text": [
      "---NOT ONE---\n",
      "{}\n"
     ]
    },
    {
     "name": "stderr",
     "output_type": "stream",
     "text": [
      " 46%|████▌     | 46/100 [01:05<01:19,  1.47s/it]"
     ]
    },
    {
     "name": "stdout",
     "output_type": "stream",
     "text": [
      "---NOT ONE---\n",
      "{'基金名称:嘉实超短债债券A': [{'query': \"SELECT * FROM PublicFundDB.MF_FundProdName WHERE DisclName = '嘉实超短债债券A' LIMIT 1\", 'result': [{'ID': 677756078394, 'InnerCode': 381528, 'InfoPublDate': '2021-06-23 12:00:00.000', 'InfoSource': '产品资料概要', 'InfoType': 6, 'DisclName': '嘉实超短债债券A', 'EffectiveDate': '2021-06-23 12:00:00.000', 'ExpiryDate': None, 'IfEffected': 1, 'Remark': None, 'UpdateTime': '2022-06-24 03:33:10.413', 'JSID': 709366159233, 'ChiSpelling': 'JSCDZZQA', 'TransCode': 381528, 'InsertTime': '2021-06-23 09:34:16.393'}]}, {'query': \"SELECT * FROM ConstantDB.SecuMain WHERE '嘉实超短债债券A' IN (ChiName, ChiNameAbbr, EngName, EngNameAbbr, SecuAbbr, ChiSpelling) LIMIT 1\", 'result': [{'ID': 677756000000, 'InnerCode': 381528, 'CompanyCode': 643820, 'SecuCode': '12773', 'ChiName': '嘉实超短债证券投资基金A类', 'ChiNameAbbr': '嘉实超短债A', 'EngName': 'Harvest Ultra Short-term Bond Fund-A', 'EngNameAbbr': None, 'SecuAbbr': '嘉实超短债债券A', 'ChiSpelling': 'JSCDZZQA', 'SecuMarket': None, 'SecuCategory': 8, 'ListedDate': None, 'ListedSector': 4, 'ListedState': 1, 'XGRQ': '06:11.0', 'JSID': 724757000000, 'ISIN': None, 'ExtendedAbbr': None, 'ExtendedSpelling': None}]}]}\n"
     ]
    },
    {
     "name": "stderr",
     "output_type": "stream",
     "text": [
      " 47%|████▋     | 47/100 [01:11<01:46,  2.01s/it]"
     ]
    },
    {
     "name": "stdout",
     "output_type": "stream",
     "text": [
      "---NOT ONE---\n",
      "{}\n"
     ]
    },
    {
     "name": "stderr",
     "output_type": "stream",
     "text": [
      " 52%|█████▏    | 52/100 [01:15<01:09,  1.46s/it]"
     ]
    },
    {
     "name": "stdout",
     "output_type": "stream",
     "text": [
      "---NOT ONE---\n",
      "{'上市公司名称:中兴通讯': [{'query': \"SELECT * FROM ConstantDB.SecuMain WHERE '中兴通讯' IN (ChiName, ChiNameAbbr, EngName, EngNameAbbr, SecuAbbr, ChiSpelling)\", 'result': []}, {'query': \"SELECT * FROM ConstantDB.HK_SecuMain WHERE '中兴通讯' IN (ChiName, ChiNameAbbr, EngName, EngNameAbbr, SecuAbbr, ChiSpelling)\", 'result': [{'ID': 16808232656300, 'InnerCode': 1000594, 'CompanyCode': 79, 'SecuCode': '00763', 'ChiName': '中兴通讯股份有限公司', 'ChiNameAbbr': None, 'EngName': 'ZTE Corporation', 'EngNameAbbr': 'ZTE', 'SecuAbbr': '中兴通讯', 'ChiSpelling': 'ZXTX', 'SecuMarket': 72, 'SecuCategory': 3, 'ListedDate': '2004-12-09 12:00:00.000', 'ListedSector': 1, 'ListedState': 1, 'XGRQ': '2018-06-19 05:01:54.580', 'JSID': 582742914581, 'DelistingDate': None, 'ISIN': 'CNE1000004Y2', 'FormerName': None, 'TradingUnit': 200.0, 'TraCurrUnit': 1100, 'InsertTime': '2005-10-12 02:23:28.513'}]}, {'query': \"SELECT * FROM ConstantDB.US_SecuMain WHERE '中兴通讯' IN (SecuCode, SecuAbbr, ChiSpelling, EngName, ChiName)\", 'result': [{'ID': 680237681884, 'InnerCode': 7096406, 'SecuCode': 'ZTCOF', 'SecuAbbr': 'ZTE Corporation Class H', 'ChiSpelling': None, 'SecuCategory': 74, 'SecuMarket': 460, 'ListedSector': None, 'ListedDate': None, 'ListedState': 1, 'ISIN': None, 'CompanyCode': 79, 'UpdateTime': '2022-12-18 06:27:10.133', 'JSID': 694702122090, 'DelistingDate': None, 'InsertTime': '2021-09-07 01:36:57.043', 'EngName': 'ZTE Corporation Class H', 'ChiName': '中兴通讯'}, {'ID': 680237686829, 'InnerCode': 7039860, 'SecuCode': 'ZTCOY', 'SecuAbbr': 'ZTE Corporation Unsponsored ADR Class H', 'ChiSpelling': None, 'SecuCategory': 75, 'SecuMarket': 460, 'ListedSector': None, 'ListedDate': None, 'ListedState': 5, 'ISIN': None, 'CompanyCode': 79, 'UpdateTime': '2022-12-18 06:27:10.133', 'JSID': 694702082323, 'DelistingDate': None, 'InsertTime': '2021-09-07 01:36:57.043', 'EngName': 'ZTE Corporation Unsponsored ADR Class H', 'ChiName': '中兴通讯'}]}]}\n"
     ]
    },
    {
     "name": "stderr",
     "output_type": "stream",
     "text": [
      " 54%|█████▍    | 54/100 [01:18<01:07,  1.48s/it]"
     ]
    },
    {
     "name": "stdout",
     "output_type": "stream",
     "text": [
      "---NOT ONE---\n",
      "{}\n"
     ]
    },
    {
     "name": "stderr",
     "output_type": "stream",
     "text": [
      " 57%|█████▋    | 57/100 [01:21<00:57,  1.33s/it]"
     ]
    },
    {
     "name": "stdout",
     "output_type": "stream",
     "text": [
      "---NOT ONE---\n",
      "{'上市公司名称:中国长城': [{'query': \"SELECT * FROM ConstantDB.SecuMain WHERE '中国长城' IN (ChiName, ChiNameAbbr, EngName, EngNameAbbr, SecuAbbr, ChiSpelling)\", 'result': [{'ID': 316488637204, 'InnerCode': 107, 'CompanyCode': 81, 'SecuCode': '000066', 'ChiName': '中国长城科技集团股份有限公司', 'ChiNameAbbr': '中国长城', 'EngName': 'China Greatwall Technology Group Co., Ltd.', 'EngNameAbbr': 'CGT Group', 'SecuAbbr': '中国长城', 'ChiSpelling': 'ZGCC', 'SecuMarket': 90, 'SecuCategory': 1, 'ListedDate': '1997-06-26 12:00:00.000', 'ListedSector': 1, 'ListedState': 1, 'XGRQ': '2017-04-28 08:25:01.723', 'JSID': 546726301724, 'ISIN': 'CNE000000RL7', 'ExtendedAbbr': None, 'ExtendedSpelling': None}]}, {'query': \"SELECT * FROM ConstantDB.HK_SecuMain WHERE '中国长城' IN (ChiName, ChiNameAbbr, EngName, EngNameAbbr, SecuAbbr, ChiSpelling)\", 'result': []}, {'query': \"SELECT * FROM ConstantDB.US_SecuMain WHERE '中国长城' IN (SecuCode, SecuAbbr, ChiSpelling, EngName, ChiName)\", 'result': []}], '代码:000066': [{'query': 'SELECT * FROM ConstantDB.SecuMain WHERE 66 IN (InnerCode, CompanyCode, SecuCode, ISIN, JSID)', 'result': [{'ID': 316488637204, 'InnerCode': 107, 'CompanyCode': 81, 'SecuCode': '000066', 'ChiName': '中国长城科技集团股份有限公司', 'ChiNameAbbr': '中国长城', 'EngName': 'China Greatwall Technology Group Co., Ltd.', 'EngNameAbbr': 'CGT Group', 'SecuAbbr': '中国长城', 'ChiSpelling': 'ZGCC', 'SecuMarket': 90, 'SecuCategory': 1, 'ListedDate': '1997-06-26 12:00:00.000', 'ListedSector': 1, 'ListedState': 1, 'XGRQ': '2017-04-28 08:25:01.723', 'JSID': 546726301724, 'ISIN': 'CNE000000RL7', 'ExtendedAbbr': None, 'ExtendedSpelling': None}]}, {'query': 'SELECT * FROM ConstantDB.HK_SecuMain WHERE 66 IN (InnerCode, CompanyCode, SecuCode, ISIN, JSID)', 'result': []}, {'query': 'SELECT * FROM ConstantDB.US_SecuMain WHERE 66 IN (InnerCode, CompanyCode, SecuCode, ISIN, JSID)', 'result': []}]}\n"
     ]
    },
    {
     "name": "stderr",
     "output_type": "stream",
     "text": [
      " 58%|█████▊    | 58/100 [01:27<01:20,  1.93s/it]"
     ]
    },
    {
     "name": "stdout",
     "output_type": "stream",
     "text": [
      "---NOT ONE---\n",
      "{'上市公司名称:公司名称全称变更的公司': [{'query': \"SELECT * FROM ConstantDB.SecuMain WHERE '公司名称全称变更的公司' IN (ChiName, ChiNameAbbr, EngName, EngNameAbbr, SecuAbbr, ChiSpelling)\", 'result': []}, {'query': \"SELECT * FROM ConstantDB.HK_SecuMain WHERE '公司名称全称变更的公司' IN (ChiName, ChiNameAbbr, EngName, EngNameAbbr, SecuAbbr, ChiSpelling)\", 'result': []}, {'query': \"SELECT * FROM ConstantDB.US_SecuMain WHERE '公司名称全称变更的公司' IN (SecuCode, SecuAbbr, ChiSpelling, EngName, ChiName)\", 'result': []}], '代码:公司代码': [{'query': None, 'result': None}]}\n"
     ]
    },
    {
     "name": "stderr",
     "output_type": "stream",
     "text": [
      " 59%|█████▉    | 59/100 [01:31<01:33,  2.28s/it]"
     ]
    },
    {
     "name": "stdout",
     "output_type": "stream",
     "text": [
      "---NOT ONE---\n",
      "{}\n"
     ]
    },
    {
     "name": "stderr",
     "output_type": "stream",
     "text": [
      " 61%|██████    | 61/100 [01:36<01:30,  2.33s/it]"
     ]
    },
    {
     "name": "stdout",
     "output_type": "stream",
     "text": [
      "---NOT ONE---\n",
      "{}\n"
     ]
    },
    {
     "name": "stderr",
     "output_type": "stream",
     "text": [
      " 62%|██████▏   | 62/100 [01:40<01:41,  2.66s/it]"
     ]
    },
    {
     "name": "stdout",
     "output_type": "stream",
     "text": [
      "---NOT ONE---\n",
      "{}\n"
     ]
    },
    {
     "name": "stderr",
     "output_type": "stream",
     "text": [
      " 71%|███████   | 71/100 [01:44<00:31,  1.07s/it]"
     ]
    },
    {
     "name": "stdout",
     "output_type": "stream",
     "text": [
      "---NOT ONE---\n",
      "{}\n"
     ]
    },
    {
     "name": "stderr",
     "output_type": "stream",
     "text": [
      " 73%|███████▎  | 73/100 [01:49<00:37,  1.37s/it]"
     ]
    },
    {
     "name": "stdout",
     "output_type": "stream",
     "text": [
      "---NOT ONE---\n",
      "{}\n"
     ]
    },
    {
     "name": "stderr",
     "output_type": "stream",
     "text": [
      " 75%|███████▌  | 75/100 [01:55<00:42,  1.68s/it]"
     ]
    },
    {
     "name": "stdout",
     "output_type": "stream",
     "text": [
      "---NOT ONE---\n",
      "{}\n"
     ]
    },
    {
     "name": "stderr",
     "output_type": "stream",
     "text": [
      " 84%|████████▍ | 84/100 [01:59<00:15,  1.02it/s]"
     ]
    },
    {
     "name": "stdout",
     "output_type": "stream",
     "text": [
      "---NOT ONE---\n",
      "{}\n"
     ]
    },
    {
     "name": "stderr",
     "output_type": "stream",
     "text": [
      " 85%|████████▌ | 85/100 [02:06<00:22,  1.50s/it]"
     ]
    },
    {
     "name": "stdout",
     "output_type": "stream",
     "text": [
      "---NOT ONE---\n",
      "{}\n"
     ]
    },
    {
     "name": "stderr",
     "output_type": "stream",
     "text": [
      " 96%|█████████▌| 96/100 [02:10<00:03,  1.21it/s]"
     ]
    },
    {
     "name": "stdout",
     "output_type": "stream",
     "text": [
      "---NOT ONE---\n",
      "{}\n"
     ]
    },
    {
     "name": "stderr",
     "output_type": "stream",
     "text": [
      " 97%|█████████▋| 97/100 [02:13<00:02,  1.03it/s]"
     ]
    },
    {
     "name": "stdout",
     "output_type": "stream",
     "text": [
      "---NOT ONE---\n",
      "{}\n"
     ]
    },
    {
     "name": "stderr",
     "output_type": "stream",
     "text": [
      "100%|██████████| 100/100 [02:16<00:00,  1.37s/it]\n"
     ]
    }
   ],
   "source": [
    "answers = []\n",
    "ner_max_tried = 6\n",
    "\n",
    "# remove usage\n",
    "if 'usage' in locals():\n",
    "    del locals()['usage']\n",
    "\n",
    "for question in tqdm(questions[:]):\n",
    "    \n",
    "    query = make_prompt_market(question)\n",
    "\n",
    "    ner_result = question['ner']['stage_1']['result']\n",
    "    ner_sql_result = question['ner']['stage_1']['sql']\n",
    "\n",
    "    res = question.copy()\n",
    "    res['market'] = {}\n",
    "\n",
    "    # if only one result, use that as market flag, others, run llm to judge\n",
    "    cnt = 0\n",
    "\n",
    "    for k, v in ner_sql_result.items():\n",
    "        for i in v:\n",
    "            if i.get('result', None):\n",
    "                cnt += 1\n",
    "\n",
    "    if cnt == 1:\n",
    "        for k, v in ner_sql_result.items():\n",
    "            for j in v:\n",
    "                if not j['result']:\n",
    "                    continue\n",
    "\n",
    "                sql_query = j['query']\n",
    "                # add database and table\n",
    "                table = parse_database_and_table(sql_query)\n",
    "        \n",
    "                # get market\n",
    "                if table['table'] == 'US_SecuMain':\n",
    "                    res['market'] = {\"query\": question['team'][0]['question'],\n",
    "                                    \"cot_thinking\": None,  \"market\": \"US\"}\n",
    "                elif table['table'] == 'HK_SecuMain':\n",
    "                    res['market'] = {\"query\": question['team'][0]['question'],\n",
    "                                    \"cot_thinking\": None,  \"market\": \"HK\"}\n",
    "                else:\n",
    "                    res['market'] = {\"query\": question['team'][0]['question'],\n",
    "                                    \"cot_thinking\": None,  \"market\": \"CN\"}\n",
    "    else:\n",
    "        print(\"---NOT ONE---\")\n",
    "        print(ner_sql_result)\n",
    "        tried = 0\n",
    "\n",
    "        while tried < ner_max_tried:\n",
    "            history = []\n",
    "            start_time = time.time()\n",
    "            try:\n",
    "                message = chat.create_message(query, history=history, system_prompt=system_prompt, temperature=0.1, top_p=1, response_format='text')\n",
    "            except:\n",
    "                print(f'API ERROR')\n",
    "                tried += 1\n",
    "            end_time = time.time()\n",
    "\n",
    "            execution_time = f\"{end_time - start_time:.2f}s\"\n",
    "            usage = chat.get_token_usage(message, False)\n",
    "            content = chat.get_content(message, False)\n",
    "\n",
    "            res = question.copy()\n",
    "            res['market'] = {}\n",
    "            try:\n",
    "                res['market'] = json.loads(content.strip('`json'))\n",
    "                break\n",
    "            except:\n",
    "                print(f\"JSON parsing error: {query}\")\n",
    "                tried += 1\n",
    "\n",
    "    res['token_usage']['market'] = locals().get('usage', 0)\n",
    "    res['time_usage']['market'] = locals().get('execution_time', 0)\n",
    "        \n",
    "    answers.append(res)\n",
    "\n",
    "saved_path = os.path.join(cwd, 'answer_tmp' + os.sep + f'{model}-{task}-{version}.json')\n",
    "parse_data.write_json(answers, saved_path)"
   ]
  },
  {
   "cell_type": "markdown",
   "metadata": {},
   "source": [
    "# WorkFlow"
   ]
  },
  {
   "cell_type": "markdown",
   "metadata": {},
   "source": [
    "## Craft Prompt"
   ]
  },
  {
   "cell_type": "code",
   "execution_count": 3,
   "metadata": {},
   "outputs": [],
   "source": [
    "prompt_dir = os.path.join(cwd, 'prompt')\n",
    "\n",
    "sql_1_fname = f'sql_generator-stage_1-v2.0.0.md'\n",
    "sql_2_fname = f'sql_generator-stage_2-v1.0.0.md'\n",
    "ans_fname = f'answer_generator-v1.0.0.md'\n",
    "\n",
    "with open(os.path.join(prompt_dir, sql_1_fname), 'r') as f:\n",
    "    sql_1_prompt_template = ''.join(f.readlines())\n",
    "\n",
    "with open(os.path.join(prompt_dir, sql_2_fname), 'r') as f:\n",
    "    sql_2_prompt_template = ''.join(f.readlines())\n",
    "\n",
    "with open(os.path.join(prompt_dir, ans_fname), 'r') as f:\n",
    "    ans_prompt_template = ''.join(f.readlines())"
   ]
  },
  {
   "cell_type": "code",
   "execution_count": 4,
   "metadata": {},
   "outputs": [],
   "source": [
    "# build sql prompt \n",
    "\n",
    "def make_prompt_sql_1(data: dict) -> str:\n",
    "    \n",
    "    prompt = sql_1_prompt_template\n",
    "\n",
    "    # Database-Table Pair(s)\n",
    "    table_finder_res = data['table_finder']['stage_1'][0]['data_source']\n",
    "    tables = [i['table'] for i in table_finder_res]\n",
    "    try:\n",
    "        del table_finder_res['question']\n",
    "    except:\n",
    "        pass\n",
    "    table_finder_res = json.dumps(table_finder_res, ensure_ascii=False, indent=2)\n",
    "    reg_p = re.compile('<Database and Table>')\n",
    "    prompt = re.sub(reg_p, table_finder_res, prompt)\n",
    "    \n",
    "    # Table Schema(s)\n",
    "    table_schema = ''\n",
    "    for table in tables:\n",
    "        table_fname = f'{table}-with_table_name.md'\n",
    "        table_dir = os.path.join(cwd, 'data' + os.sep + 'table-column')\n",
    "        table_fpath = os.path.join(table_dir, table_fname)\n",
    "        with open(table_fpath,'r') as f:\n",
    "            table_schema += ''.join(f.readlines())\n",
    "            table_schema += '\\n\\n'\n",
    "    reg_p = re.compile('<Table-Column Schema>')\n",
    "    prompt = re.sub(reg_p, table_schema, prompt)\n",
    "\n",
    "    # NER Result\n",
    "    if data['ner']['stage_1']['result']:\n",
    "        ner_res = [i for i in data['ner']['stage_1']['sql'].values() if i][0]\n",
    "        ner_res = [i['result'] for i in ner_res if i['result']][0][0]\n",
    "        ner_res = json.dumps(ner_res, ensure_ascii=False, indent=2)\n",
    "        reg_p = re.compile('<NER Result>')\n",
    "        prompt = re.sub(reg_p, ner_res, prompt)\n",
    "    else:\n",
    "        reg_p = re.compile('\\n<NER Result>\\n')\n",
    "        prompt = re.sub(reg_p, '', prompt)\n",
    "        reg_p = re.compile('\\n## NER Result\\n')\n",
    "        prompt = re.sub(reg_p, '', prompt)\n",
    "\n",
    "    # replace query\n",
    "    query = data['team'][0]['question']\n",
    "    reg_p = re.compile('<Current Query>')\n",
    "    prompt = re.sub(reg_p, query, prompt)\n",
    "\n",
    "    return prompt\n",
    "\n",
    "def make_prompt_sql_2(data: dict, idx: int) -> str:\n",
    "    \n",
    "    prompt = sql_2_prompt_template\n",
    "\n",
    "    # Database-Table Pair(s)\n",
    "    table_finder_res = data['table_finder'][f'stage_{idx+1}'][0]['data_source']\n",
    "    tables = [i['table'] for i in table_finder_res]\n",
    "    try:\n",
    "        del table_finder_res['question']\n",
    "    except:\n",
    "        pass\n",
    "    table_finder_res = json.dumps(table_finder_res, ensure_ascii=False, indent=2)\n",
    "    reg_p = re.compile('<Database and Table>')\n",
    "    prompt = re.sub(reg_p, table_finder_res, prompt)\n",
    "    \n",
    "    # Table Schema(s)\n",
    "    table_schema = ''\n",
    "    for table in tables:\n",
    "        table_fname = f'{table}-with_table_name.md'\n",
    "        table_dir = os.path.join(cwd, 'data' + os.sep + 'table-column')\n",
    "        table_fpath = os.path.join(table_dir, table_fname)\n",
    "        with open(table_fpath,'r') as f:\n",
    "            table_schema += ''.join(f.readlines())\n",
    "            table_schema += '\\n\\n'\n",
    "    reg_p = re.compile('<Table-Column Schema>')\n",
    "    prompt = re.sub(reg_p, table_schema, prompt)\n",
    "\n",
    "    # NER Result\n",
    "    if data['ner']['stage_1']['result']:\n",
    "        ner_res = [i for i in data['ner']['stage_1']['sql'].values() if i][0]\n",
    "        ner_res = [i['result'] for i in ner_res if i['result']][0][0]\n",
    "        ner_res = json.dumps(ner_res, ensure_ascii=False, indent=2)\n",
    "        reg_p = re.compile('<NER Result>')\n",
    "        prompt = re.sub(reg_p, ner_res, prompt)\n",
    "    else:\n",
    "        reg_p = re.compile('\\n<NER Result>\\n')\n",
    "        prompt = re.sub(reg_p, '', prompt)\n",
    "        reg_p = re.compile('\\n## NER Result\\n')\n",
    "        prompt = re.sub(reg_p, '', prompt)\n",
    "\n",
    "    # Query\n",
    "    query = data['team'][idx]['question']\n",
    "    reg_p = re.compile('<Current Query>')\n",
    "    prompt = re.sub(reg_p, query, prompt)\n",
    "\n",
    "    # Answers\n",
    "    history = []\n",
    "    answers = data['answer_generator']\n",
    "    for i in range(len(answers)):\n",
    "        ans = answers[i] # {'stage_n': ans}\n",
    "        ans = list(ans.values())[0]\n",
    "        query = data['team'][i]['question']\n",
    "        history.append({'previous_query': query, \"response\": ans})\n",
    "    history = json.dumps(history, ensure_ascii=False, indent=2)\n",
    "    reg_p = re.compile('<Chat History>')\n",
    "    prompt = re.sub(reg_p, history, prompt) \n",
    "\n",
    "    return prompt\n",
    "\n",
    "def make_prompt_answer(data: dict, idx: int) -> str:\n",
    "\n",
    "    prompt = ans_prompt_template\n",
    "\n",
    "    # SQL Query\n",
    "    if f'stage_{idx+1}' in data['sql_generator']:\n",
    "        sql_query = data['sql_generator'][f'stage_{idx+1}'][0]['sql_query']\n",
    "        reg_p = re.compile('<SQL Query>')\n",
    "        prompt = re.sub(reg_p, sql_query, prompt)\n",
    "    else:\n",
    "        reg_p = re.compile('\\n<SQL Query>\\n')\n",
    "        prompt = re.sub(reg_p, '', prompt)\n",
    "        reg_p = re.compile('\\n## SQL Query\\n')\n",
    "        prompt = re.sub(reg_p, '', prompt)\n",
    "\n",
    "    # SQL Result\n",
    "    if f'stage_{idx+1}' in data['sql_generator']:\n",
    "        sql_res = str(data['sql_generator'][f'stage_{idx+1}'][0]['sql_res'])\n",
    "        reg_p = re.compile('<SQL Result>')\n",
    "        prompt = re.sub(reg_p, sql_res, prompt)\n",
    "    else:\n",
    "        reg_p = re.compile('\\n<SQL Result>\\n')\n",
    "        prompt = re.sub(reg_p, '', prompt)\n",
    "        reg_p = re.compile('\\n## SQL Result\\n')\n",
    "        prompt = re.sub(reg_p, '', prompt)\n",
    "\n",
    "    # NER Result\n",
    "    if data['ner']['stage_1']['result']:\n",
    "        ner_res = [i for i in data['ner']['stage_1']['sql'].values() if i][0]\n",
    "        ner_res = [i['result'] for i in ner_res if i['result']][0][0]\n",
    "        ner_res = json.dumps(ner_res, ensure_ascii=False, indent=2)\n",
    "        reg_p = re.compile('<NER Result>')\n",
    "        prompt = re.sub(reg_p, ner_res, prompt)\n",
    "    else:\n",
    "        reg_p = re.compile('\\n<NER Result>\\n')\n",
    "        prompt = re.sub(reg_p, '', prompt)\n",
    "        reg_p = re.compile('\\n## NER Result\\n')\n",
    "        prompt = re.sub(reg_p, '', prompt)\n",
    "\n",
    "    # replace query\n",
    "    query = data['team'][idx]['question']\n",
    "    reg_p = re.compile('<Current Query>')\n",
    "    prompt = re.sub(reg_p, query, prompt)\n",
    "\n",
    "    return prompt"
   ]
  },
  {
   "cell_type": "markdown",
   "metadata": {},
   "source": [
    "## Process Query"
   ]
  },
  {
   "cell_type": "markdown",
   "metadata": {},
   "source": [
    "### Init Deepseek"
   ]
  },
  {
   "cell_type": "code",
   "execution_count": 5,
   "metadata": {},
   "outputs": [],
   "source": [
    "from openai import OpenAI\n",
    "\n",
    "# deepseek_api = 'sk-ba0f5eed3bea4fa6be16eb33b139c684'\n",
    "\n",
    "# client = OpenAI(api_key= deepseek_api, base_url=\"https://api.deepseek.com\")\n",
    "\n",
    "deepseek_api = 'db4a0fe1467d4456b3d83fe9bd413d84.shvUvvb2X9WkjRXW'\n",
    "\n",
    "client = OpenAI(api_key= deepseek_api, base_url=\"https://open.bigmodel.cn/api/paas/v4/\")"
   ]
  },
  {
   "cell_type": "markdown",
   "metadata": {},
   "source": [
    "## Tools"
   ]
  },
  {
   "cell_type": "code",
   "execution_count": 6,
   "metadata": {},
   "outputs": [],
   "source": [
    "api_key = \"6b90d15d9a234097bd56ac10c19f22fb\"\n",
    "\n",
    "import requests\n",
    "import json\n",
    "\n",
    "def fetch_data(data: dict):\n",
    "    url = \"https://comm.chatglm.cn/finglm2/api/query\"\n",
    "    headers = {\n",
    "        \"Content-Type\": \"application/json\",\n",
    "        \"Authorization\": f\"Bearer {api_key}\"\n",
    "    }\n",
    "    response = requests.post(url, headers=headers, json=data)\n",
    "\n",
    "    return response.json()"
   ]
  },
  {
   "cell_type": "code",
   "execution_count": 7,
   "metadata": {},
   "outputs": [
    {
     "data": {
      "text/plain": [
       "[{'FullName': '中炬高新技术实业(集团)股份有限公司',\n",
       "  'AShareAbbreviation': '中炬高新',\n",
       "  'LegalRepresentative': '余健华',\n",
       "  'LegalConsultant': '广东卓建(中山)律师事务所',\n",
       "  'AccountingFirm': '天职国际会计师事务所（特殊普通合伙）',\n",
       "  'BoardSecretary': '郭毅航'}]"
      ]
     },
     "execution_count": 7,
     "metadata": {},
     "output_type": "execute_result"
    }
   ],
   "source": [
    "t = {\n",
    "  \"sql\": \"SELECT sm.ChiName AS FullName, lsa.AShareAbbr AS AShareAbbreviation, lsa.LegalRepr AS LegalRepresentative, lsa.LegalConsultant AS LegalConsultant, lsa.AccountingFirm AS AccountingFirm, lsa.SecretaryBD AS BoardSecretary FROM ConstantDB.SecuMain sm JOIN AStockBasicInfoDB.LC_StockArchives lsa ON sm.CompanyCode = lsa.CompanyCode WHERE sm.SecuCode = '600872';\",\n",
    "  \"limit\": 100\n",
    "}\n",
    "\n",
    "t = fetch_data(t)\n",
    "t['data']"
   ]
  },
  {
   "cell_type": "markdown",
   "metadata": {},
   "source": [
    "## TEST"
   ]
  },
  {
   "cell_type": "code",
   "execution_count": null,
   "metadata": {},
   "outputs": [],
   "source": [
    "idx = 9\n",
    "\n",
    "sql_generator_history, answer_generator_history = [], []\n",
    "\n",
    "data = questions[idx].copy()\n",
    "data['sql_generator'] = {}\n",
    "data['answer_generator'] = []\n",
    "\n",
    "max_retries = 5\n",
    "\n",
    "retry_delay = 1  # 重试延迟时间（秒）\n",
    "\n",
    "for i in tqdm(range(len(data['team']))):\n",
    "    # sql generator\n",
    "    retries = 0\n",
    "\n",
    "    while retries < max_retries:\n",
    "        should_retry = False  # 标志变量，标记是否需要重试\n",
    "\n",
    "        if i == 0:\n",
    "            llm_sql_query = make_prompt_sql_1(data)\n",
    "        else:\n",
    "            llm_sql_query = make_prompt_sql_2(data, i)\n",
    "\n",
    "        tmp_sql_generator_history = sql_generator_history.copy()\n",
    "        tmp_sql_generator_history.append({'role': 'user', 'content': llm_sql_query})\n",
    "\n",
    "        start_time = time.time()\n",
    "\n",
    "        # API 调用（增加重试机制）\n",
    "        for attempt in range(max_retries):\n",
    "            try:\n",
    "                response = client.chat.completions.create(\n",
    "                    # model=\"deepseek-chat\",\n",
    "                    model='glm-4-plus',\n",
    "                    messages=tmp_sql_generator_history,\n",
    "                    stream=False,\n",
    "                    top_p=0.7,\n",
    "                    temperature=0.9\n",
    "                )\n",
    "                break  # 如果成功，跳出重试循环\n",
    "            except Exception as e:\n",
    "                print(f\"API call failed (attempt {attempt + 1}/{max_retries}): {e}\")\n",
    "                if attempt == max_retries - 1:\n",
    "                    raise  # 如果达到最大重试次数，抛出异常\n",
    "                time.sleep(retry_delay)  # 等待一段时间后重试\n",
    "\n",
    "        end_time = time.time()\n",
    "\n",
    "\n",
    "        response = json.loads(response.to_json())\n",
    "        raw_content = response['choices'][0]['message']['content']\n",
    "\n",
    "        # 第一个 try-except：处理 JSON 解析\n",
    "        try:\n",
    "            content = json.loads(raw_content.strip('`json'))\n",
    "        except Exception as e:\n",
    "            print(f\"Error processing JSON {data['team'][i]['id']} (attempt {retries + 1}/{max_retries}): {e}\")\n",
    "            should_retry = True  # 标记需要重试\n",
    "\n",
    "        # 如果 JSON 解析成功，继续执行后续逻辑\n",
    "        if not should_retry:\n",
    "            usage = response['usage']\n",
    "            execution_time = end_time - start_time\n",
    "\n",
    "            data['sql_generator'][f'stage_{i+1}'] = [content]\n",
    "            data['token_usage'][f'sql_generator-stage_{i+1}'] = [usage]\n",
    "            data['time_usage'][f'sql_generator-stage_{i+1}'] = [f\"{execution_time:.2f}s\"]\n",
    "\n",
    "            post_data = {\n",
    "                'sql': content['sql_query'],\n",
    "                'limit': 1000\n",
    "            }\n",
    "\n",
    "            # 第二个 try-except：处理 fetch_data\n",
    "            try:\n",
    "                sql_res = fetch_data(post_data)['data']\n",
    "                data['sql_generator'][f'stage_{i+1}'][0]['sql_res'] = sql_res\n",
    "            except Exception as e:\n",
    "                print(f\"Error fetching SQL data {data['team'][i]['id']} (attempt {retries + 1}/{max_retries}): {e}\")\n",
    "                should_retry = True  # 标记需要重试\n",
    "\n",
    "        # 根据 should_retry 决定是否重试\n",
    "        if should_retry:\n",
    "            retries += 1\n",
    "            if retries == max_retries:\n",
    "                print(f\"Failed to process question {data['team'][i]['id']} after {max_retries} attempts.\")\n",
    "                data['sql_generator'][f'stage_{i+1}'][0]['sql_res'] = []  # 设置默认值\n",
    "            continue  # 跳过本次循环，进入下一次重试\n",
    "\n",
    "        # 如果成功，跳出重试循环\n",
    "        break\n",
    "\n",
    "    # 更新历史记录\n",
    "    sql_generator_history.extend([\n",
    "        {'role': 'user', 'content': llm_sql_query},\n",
    "        {'role': 'assistant', 'content': raw_content}\n",
    "    ])\n",
    "\n",
    "    # answer generator（保持不变）\n",
    "    llm_answer_query = make_prompt_answer(data, i)\n",
    "    answer_generator_history.append({'role': 'user', 'content': llm_answer_query})\n",
    "\n",
    "    start_time = time.time()\n",
    "    response = client.chat.completions.create(\n",
    "        # model=\"deepseek-chat\",\n",
    "        model='glm-4-plus',\n",
    "        messages=answer_generator_history,\n",
    "        stream=False,\n",
    "        top_p=0.7,\n",
    "        temperature=0.9\n",
    "    )\n",
    "    end_time = time.time()\n",
    "\n",
    "    response = json.loads(response.to_json())\n",
    "    content = response['choices'][0]['message']['content']\n",
    "\n",
    "    data['answer_generator'].append({f'stage_{i+1}': content})\n",
    "    data['token_usage'][f'answer_generator-stage_{i+1}'] = [usage]\n",
    "    data['time_usage'][f'answer_generator-stage_{i+1}'] = [f\"{execution_time:.2f}s\"]\n",
    "\n",
    "    answer_generator_history.append({'role': 'assistant', 'content': content})\n",
    "\n",
    "    print(\"======llm_sql_query======\")\n",
    "    print(llm_sql_query)\n",
    "    print(\"======llm_sql_query======\")\n",
    "\n",
    "    print(\"======llm_answer_query======\")\n",
    "    print(llm_answer_query)\n",
    "    print(\"======llm_answer_query======\")"
   ]
  },
  {
   "cell_type": "code",
   "execution_count": 14,
   "metadata": {},
   "outputs": [
    {
     "name": "stdout",
     "output_type": "stream",
     "text": [
      "```json\n",
      "{\n",
      "  \"query\": \"000958公司2021年主营业务产品有哪些？（合并报表调整后的，金额保留2位小数）\",\n",
      "  \"sql_cot_reasoning\": \"To find the main business products of company 000958 in 2021, we need to select the 'Project' column from the 'LC_MainOperIncome' table in the 'AStockFinanceDB' database. We also need to ensure that the data is from the adjusted consolidated financial statements, so we will include conditions for 'IfMerged' and 'IfAdjusted'. Additionally, we need to filter the data for the year 2021, so we will use the 'EndDate' column with the 'LIKE' operator. Finally, we will round the 'MainOperIncome' to 2 decimal places using the 'ROUND' function.\",\n",
      "  \"sql_query\": \"SELECT Project, ROUND(MainOperIncome, 2) AS MainOperIncome FROM AStockFinanceDB.LC_MainOperIncome WHERE CompanyCode = '000958' AND IfMerged = 1 AND IfAdjusted = 1 AND EndDate LIKE '2021%'\",\n",
      "  \"sql_explanation\": \"This SQL query retrieves the main business products and their corresponding income for company 000958 in 2021 from the 'LC_MainOperIncome' table. The 'IfMerged' and 'IfAdjusted' conditions ensure that the data is from the adjusted consolidated financial statements. The 'EndDate' condition filters the data for the year 2021. The 'ROUND' function is used to round the 'MainOperIncome' to 2 decimal places.\"\n",
      "}\n",
      "```\n"
     ]
    }
   ],
   "source": [
    "print(sql_generator_history[1]['content'])"
   ]
  },
  {
   "cell_type": "markdown",
   "metadata": {},
   "source": [
    "# Generate Final Answer "
   ]
  },
  {
   "cell_type": "code",
   "execution_count": 193,
   "metadata": {},
   "outputs": [],
   "source": [
    "src_fname = 'glm-answer_generator-0127.json'\n",
    "saved_fname = 'submit-stage_1-250127.json'\n",
    "template_fname = 'submit_example.json'\n",
    "\n",
    "src_fpath = os.path.join('answer_tmp', src_fname)\n",
    "saved_fpath = os.path.join('answer', saved_fname)\n",
    "template_fpath = os.path.join('data', template_fname)\n",
    "\n",
    "raw_data = parse_data.read_json(src_fpath)\n",
    "answers = parse_data.read_json(template_fpath)\n",
    "\n",
    "# raw_data = sorted(raw_data, key=lambda x: int(x['tid'].split('-')[-1]))\n",
    "\n",
    "# raw_data[1]"
   ]
  },
  {
   "cell_type": "code",
   "execution_count": 199,
   "metadata": {},
   "outputs": [
    {
     "data": {
      "text/plain": [
       "{'stage_1': '美亚光电在2021年的减持计划中，最大可减持股份数量与最小可减持股份数量的差距是0。',\n",
       " 'stage_2': '美亚光电在2021年的减持计划中涉及了1名股东。',\n",
       " 'stage_3': '美亚光电在2021年的减持计划中，股东张建军的最大减持比例最高，为0.007027%。'}"
      ]
     },
     "execution_count": 199,
     "metadata": {},
     "output_type": "execute_result"
    }
   ],
   "source": [
    "raw_data[1]['answer_generator']"
   ]
  },
  {
   "cell_type": "code",
   "execution_count": 201,
   "metadata": {},
   "outputs": [
    {
     "name": "stdout",
     "output_type": "stream",
     "text": [
      "tttt----78\n",
      "tttt----84\n"
     ]
    }
   ],
   "source": [
    "for i in raw_data[:]:\n",
    "    tid = i['tid']\n",
    "    try:\n",
    "        for num in range(len(i['team'])):\n",
    "            answer = i['answer_generator'][f'stage_{num+1}']\n",
    "            \n",
    "            for j in answers:\n",
    "                if j['tid'] == tid:\n",
    "                    j['team'][num]['answer'] = answer\n",
    "    except:\n",
    "        print(tid)\n",
    "\n",
    "parse_data.write_json(answers, saved_fpath)"
   ]
  }
 ],
 "metadata": {
  "kernelspec": {
   "display_name": "llm_api",
   "language": "python",
   "name": "python3"
  },
  "language_info": {
   "codemirror_mode": {
    "name": "ipython",
    "version": 3
   },
   "file_extension": ".py",
   "mimetype": "text/x-python",
   "name": "python",
   "nbconvert_exporter": "python",
   "pygments_lexer": "ipython3",
   "version": "3.10.14"
  }
 },
 "nbformat": 4,
 "nbformat_minor": 2
}

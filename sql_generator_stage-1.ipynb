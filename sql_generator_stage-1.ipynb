{
 "cells": [
  {
   "cell_type": "markdown",
   "metadata": {},
   "source": [
    "# Init"
   ]
  },
  {
   "cell_type": "code",
   "execution_count": 1,
   "metadata": {},
   "outputs": [],
   "source": [
    "import sys\n",
    "import os\n",
    "import json\n",
    "import time\n",
    "import re\n",
    "\n",
    "from tqdm import tqdm\n",
    "\n",
    "cwd = os.getcwd()\n",
    "os.chdir(cwd)\n",
    "sys.path.append('tools')\n",
    "\n",
    "import chat\n",
    "import parse_data\n",
    "import sql"
   ]
  },
  {
   "cell_type": "code",
   "execution_count": 26,
   "metadata": {},
   "outputs": [],
   "source": [
    "api_key = \"43d1f290abf2441ea6b52b6e1ef95e79\"\n",
    "\n",
    "import requests\n",
    "import json\n",
    "\n",
    "def fetch_data(data: dict):\n",
    "    url = \"https://comm.chatglm.cn/finglm2/api/query\"\n",
    "    headers = {\n",
    "        \"Content-Type\": \"application/json\",\n",
    "        \"Authorization\": f\"Bearer {api_key}\"\n",
    "    }\n",
    "    response = requests.post(url, headers=headers, json=data)\n",
    "\n",
    "    return response.json()"
   ]
  },
  {
   "cell_type": "markdown",
   "metadata": {},
   "source": [
    "# Craft Prompt"
   ]
  },
  {
   "cell_type": "code",
   "execution_count": 9,
   "metadata": {},
   "outputs": [],
   "source": [
    "system_prompt = \"\"\n",
    "\n",
    "prompt_dir = os.path.join(cwd, 'prompt')\n",
    "version = 'v2.0.0'\n",
    "fname = f'sql_generator-stage_1-{version}.md'\n",
    "prompt_fpath = os.path.join(prompt_dir, fname)\n",
    "\n",
    "with open(prompt_fpath, 'r') as f:\n",
    "    prompt_template = ''.join(f.readlines())\n",
    "\n",
    "def make_prompt(data: dict) -> str:\n",
    "\n",
    "    prompt = prompt_template\n",
    "\n",
    "    # \n",
    "    table_finder_res = data['table_finder']['stage_1'][0]['data_source'][0]\n",
    "    try:\n",
    "        del table_finder_res['question']\n",
    "    except:\n",
    "        pass\n",
    "    table = table_finder_res['table']\n",
    "    table_finder_res = json.dumps(table_finder_res, ensure_ascii=False, indent=2)\n",
    "    reg_p = re.compile('<Database and Table>')\n",
    "    prompt = re.sub(reg_p, table_finder_res, prompt)\n",
    "\n",
    "    # \n",
    "    table_fname = f'{table}-with_table_name.md'\n",
    "    table_dir = os.path.join(cwd, 'data' + os.sep + 'table-column')\n",
    "    table_fpath = os.path.join(table_dir, table_fname)\n",
    "    with open(table_fpath,'r') as f:\n",
    "        table_schema = ''.join(f.readlines())\n",
    "    reg_p = re.compile('<Table-Column Schema>')\n",
    "    prompt = re.sub(reg_p, table_schema, prompt)\n",
    "\n",
    "    # \n",
    "    if data['ner']['stage_1']['result']:\n",
    "        ner_res = [i for i in data['ner']['stage_1']['sql'].values() if i][0]\n",
    "        ner_res = [i['result'] for i in ner_res if i['result']][0][0]\n",
    "        ner_res = json.dumps(ner_res, ensure_ascii=False, indent=2)\n",
    "        reg_p = re.compile('<Background Knowledge>')\n",
    "        prompt = re.sub(reg_p, ner_res, prompt)\n",
    "    else:\n",
    "        reg_p = re.compile('<Background Knowledge>')\n",
    "        prompt = re.sub(reg_p, '', prompt)\n",
    "        reg_p = re.compile('## Background Knowledge')\n",
    "        prompt = re.sub(reg_p, '', prompt)\n",
    "\n",
    "    # replace query\n",
    "    query = data['team'][0]['question']\n",
    "    reg_p = re.compile('<Current Query>')\n",
    "    prompt = re.sub(reg_p, query, prompt)\n",
    "\n",
    "    return prompt"
   ]
  },
  {
   "cell_type": "code",
   "execution_count": 3,
   "metadata": {},
   "outputs": [],
   "source": [
    "question_path = os.path.join(cwd, 'answer_tmp' + os.sep + 'stage_1-glm_4_plus-table_finder-v2.7.1.json')\n",
    "\n",
    "questions = parse_data.read_json(question_path)"
   ]
  },
  {
   "cell_type": "markdown",
   "metadata": {},
   "source": [
    "# GLM-4-Plus"
   ]
  },
  {
   "cell_type": "code",
   "execution_count": 4,
   "metadata": {},
   "outputs": [],
   "source": [
    "model = 'glm_4_plus'"
   ]
  },
  {
   "cell_type": "markdown",
   "metadata": {},
   "source": [
    "## Test"
   ]
  },
  {
   "cell_type": "code",
   "execution_count": null,
   "metadata": {},
   "outputs": [],
   "source": [
    "query = make_prompt(questions[1])\n",
    "\n",
    "history = []\n",
    "\n",
    "start_time = time.time()\n",
    "message = chat.create_message(query, history=history, system_prompt=system_prompt, temperature=0.7, top_p=0.9, response_format='text')\n",
    "end_time = time.time()\n",
    "\n",
    "execution_time = end_time - start_time\n",
    "usage = chat.get_token_usage(message, True)\n",
    "content = chat.get_content(message, True)\n",
    "history = chat.build_history(history, message=message)"
   ]
  },
  {
   "cell_type": "code",
   "execution_count": 6,
   "metadata": {},
   "outputs": [],
   "source": [
    "t = questions[1]\n",
    "t['sql_generator'] = {}\n",
    "t['sql_generator']['stage_1']= [json.loads(content.strip('`json'))]\n",
    "t['token_usage'] = {}\n",
    "t['token_usage']['sql_generator-stage_1'] = [usage]\n",
    "t['time_usage'] = {}\n",
    "t['time_usage']['sql_generator-stage_1'] = [f\"{execution_time:.2f}s\"]\n",
    "t = [t]\n",
    "\n",
    "saved_path = os.path.join(cwd, 'answer_tmp' + os.sep + f'stage_1-{model}-sql_generator-test-{version}.json')\n",
    "parse_data.write_json(t, saved_path)"
   ]
  },
  {
   "cell_type": "markdown",
   "metadata": {},
   "source": [
    "## ALL"
   ]
  },
  {
   "cell_type": "code",
   "execution_count": null,
   "metadata": {},
   "outputs": [],
   "source": [
    "answers = []\n",
    "\n",
    "for question in tqdm(questions[:]):\n",
    "    try:\n",
    "        # the first question\n",
    "        query = make_prompt(question)\n",
    "\n",
    "        history = []\n",
    "\n",
    "        start_time = time.time()\n",
    "        message = chat.create_message(query, history=history, system_prompt=system_prompt, temperature=0.7, top_p=0.9, response_format='text')\n",
    "        end_time = time.time()\n",
    "\n",
    "        execution_time = end_time - start_time\n",
    "        usage = chat.get_token_usage(message, False)\n",
    "        content = chat.get_content(message, False)\n",
    "\n",
    "        res = question\n",
    "        res['sql_generator'] = {}\n",
    "        res['sql_generator']['stage_1']= [json.loads(content.strip('`json'))]\n",
    "        res['token_usage']['sql_generator-stage_1'] = [usage]\n",
    "        res['time_usage']['sql_generator-stage_1'] = [f\"{execution_time:.2f}s\"]\n",
    "\n",
    "        answers.append(res)\n",
    "    except:\n",
    "        print(question['tid'])\n",
    "\n",
    "saved_path = os.path.join(cwd, 'answer_tmp' + os.sep + f'stage_1-{model}-sql_generator-{version}.json')\n",
    "parse_data.write_json(answers, saved_path)"
   ]
  },
  {
   "cell_type": "markdown",
   "metadata": {},
   "source": [
    "# Deepseek-chat"
   ]
  },
  {
   "cell_type": "code",
   "execution_count": 12,
   "metadata": {},
   "outputs": [],
   "source": [
    "model = 'deepseek_v3'"
   ]
  },
  {
   "cell_type": "code",
   "execution_count": 13,
   "metadata": {},
   "outputs": [],
   "source": [
    "deepseek_api = 'sk-ba0f5eed3bea4fa6be16eb33b139c684'"
   ]
  },
  {
   "cell_type": "markdown",
   "metadata": {},
   "source": [
    "## Test"
   ]
  },
  {
   "cell_type": "code",
   "execution_count": 14,
   "metadata": {},
   "outputs": [],
   "source": [
    "from openai import OpenAI\n",
    "\n",
    "query = make_prompt(questions[1])\n",
    "\n",
    "client = OpenAI(api_key= deepseek_api, base_url=\"https://api.deepseek.com\")\n",
    "\n",
    "start_time = time.time()\n",
    "response = client.chat.completions.create(\n",
    "    model=\"deepseek-chat\",\n",
    "    messages=[\n",
    "        {\"role\": \"user\", \"content\": query},\n",
    "    ],\n",
    "    stream=False,\n",
    "    top_p=0.7,\n",
    "    temperature=0.9\n",
    ")\n",
    "end_time = time.time()\n",
    "\n",
    "response = json.loads(response.to_json())\n",
    "content = response['choices'][0]['message']['content']\n",
    "\n",
    "content = content.strip('`json')\n",
    "usage = response['usage']\n",
    "execution_time = end_time - start_time"
   ]
  },
  {
   "cell_type": "code",
   "execution_count": 15,
   "metadata": {},
   "outputs": [],
   "source": [
    "t = questions[1]\n",
    "t['sql_generator'] = {}\n",
    "t['sql_generator']['stage_1']= [json.loads(content.strip('`json'))]\n",
    "t['token_usage'] = {}\n",
    "t['token_usage']['sql_generator-stage_1'] = [usage]\n",
    "t['time_usage'] = {}\n",
    "t['time_usage']['sql_generator-stage_1'] = [f\"{execution_time:.2f}s\"]\n",
    "t = [t]\n",
    "\n",
    "saved_path = os.path.join(cwd, 'answer_tmp' + os.sep + f'stage_1-{model}-sql_generator-test-{version}.json')\n",
    "parse_data.write_json(t, saved_path)"
   ]
  },
  {
   "cell_type": "markdown",
   "metadata": {},
   "source": [
    "# ALL"
   ]
  },
  {
   "cell_type": "code",
   "execution_count": 20,
   "metadata": {},
   "outputs": [
    {
     "name": "stderr",
     "output_type": "stream",
     "text": [
      " 14%|█▍        | 14/101 [05:57<17:20, 11.96s/it] "
     ]
    },
    {
     "name": "stdout",
     "output_type": "stream",
     "text": [
      "Error processing question tttt----9 (attempt 1/5): 'data'\n",
      "Error processing question tttt----9 (attempt 2/5): 'data'\n",
      "Error processing question tttt----9 (attempt 3/5): 'data'\n",
      "Error processing question tttt----9 (attempt 4/5): 'data'\n"
     ]
    },
    {
     "name": "stderr",
     "output_type": "stream",
     "text": [
      " 15%|█▍        | 15/101 [07:01<39:43, 27.72s/it]"
     ]
    },
    {
     "name": "stdout",
     "output_type": "stream",
     "text": [
      "Error processing question tttt----9 (attempt 5/5): 'data'\n",
      "Failed to process question tttt----9 after 5 attempts.\n"
     ]
    },
    {
     "name": "stderr",
     "output_type": "stream",
     "text": [
      " 16%|█▌        | 16/101 [07:09<30:43, 21.69s/it]"
     ]
    },
    {
     "name": "stdout",
     "output_type": "stream",
     "text": [
      "Error processing question tttt----13 (attempt 1/5): 'data'\n",
      "Error processing question tttt----13 (attempt 2/5): 'data'\n",
      "Error processing question tttt----13 (attempt 3/5): 'data'\n",
      "Error processing question tttt----13 (attempt 4/5): 'data'\n"
     ]
    },
    {
     "name": "stderr",
     "output_type": "stream",
     "text": [
      " 17%|█▋        | 17/101 [08:03<44:14, 31.60s/it]"
     ]
    },
    {
     "name": "stdout",
     "output_type": "stream",
     "text": [
      "Error processing question tttt----13 (attempt 5/5): 'data'\n",
      "Failed to process question tttt----13 after 5 attempts.\n"
     ]
    },
    {
     "name": "stderr",
     "output_type": "stream",
     "text": [
      " 19%|█▉        | 19/101 [08:22<27:44, 20.30s/it]"
     ]
    },
    {
     "name": "stdout",
     "output_type": "stream",
     "text": [
      "Error processing question tttt----8 (attempt 1/5): 'data'\n"
     ]
    },
    {
     "name": "stderr",
     "output_type": "stream",
     "text": [
      " 35%|███▍      | 35/101 [10:53<10:46,  9.79s/it]"
     ]
    },
    {
     "name": "stdout",
     "output_type": "stream",
     "text": [
      "Error processing question tttt----36 (attempt 1/5): 'data'\n",
      "Error processing question tttt----36 (attempt 2/5): 'data'\n",
      "Error processing question tttt----36 (attempt 3/5): 'data'\n"
     ]
    },
    {
     "name": "stderr",
     "output_type": "stream",
     "text": [
      " 36%|███▌      | 36/101 [11:48<25:08, 23.20s/it]"
     ]
    },
    {
     "name": "stdout",
     "output_type": "stream",
     "text": [
      "Error processing question tttt----38 (attempt 1/5): 'data'\n",
      "Error processing question tttt----38 (attempt 2/5): 'data'\n",
      "Error processing question tttt----38 (attempt 3/5): 'data'\n",
      "Error processing question tttt----38 (attempt 4/5): 'data'\n"
     ]
    },
    {
     "name": "stderr",
     "output_type": "stream",
     "text": [
      " 37%|███▋      | 37/101 [12:24<29:03, 27.24s/it]"
     ]
    },
    {
     "name": "stdout",
     "output_type": "stream",
     "text": [
      "Error processing question tttt----38 (attempt 5/5): 'data'\n",
      "Failed to process question tttt----38 after 5 attempts.\n"
     ]
    },
    {
     "name": "stderr",
     "output_type": "stream",
     "text": [
      " 50%|████▉     | 50/101 [14:12<07:13,  8.50s/it]"
     ]
    },
    {
     "name": "stdout",
     "output_type": "stream",
     "text": [
      "Error processing question tttt----49 (attempt 1/5): 'data'\n",
      "Error processing question tttt----49 (attempt 2/5): 'data'\n",
      "Error processing question tttt----49 (attempt 3/5): 'data'\n",
      "Error processing question tttt----49 (attempt 4/5): 'data'\n"
     ]
    },
    {
     "name": "stderr",
     "output_type": "stream",
     "text": [
      " 50%|█████     | 51/101 [14:50<14:19, 17.19s/it]"
     ]
    },
    {
     "name": "stdout",
     "output_type": "stream",
     "text": [
      "Error processing question tttt----49 (attempt 5/5): 'data'\n",
      "Failed to process question tttt----49 after 5 attempts.\n"
     ]
    },
    {
     "name": "stderr",
     "output_type": "stream",
     "text": [
      " 57%|█████▋    | 58/101 [15:51<06:57,  9.72s/it]"
     ]
    },
    {
     "name": "stdout",
     "output_type": "stream",
     "text": [
      "Error processing question tttt----58 (attempt 1/5): Invalid control character at: line 4 column 289 (char 337)\n",
      "Error processing question tttt----58 (attempt 2/5): Invalid control character at: line 4 column 252 (char 300)\n",
      "Error processing question tttt----58 (attempt 3/5): Invalid control character at: line 4 column 289 (char 337)\n",
      "Error processing question tttt----58 (attempt 4/5): Invalid control character at: line 4 column 252 (char 300)\n"
     ]
    },
    {
     "name": "stderr",
     "output_type": "stream",
     "text": [
      " 58%|█████▊    | 59/101 [16:45<16:00, 22.87s/it]"
     ]
    },
    {
     "name": "stdout",
     "output_type": "stream",
     "text": [
      "Error processing question tttt----58 (attempt 5/5): Invalid control character at: line 4 column 289 (char 337)\n",
      "Failed to process question tttt----58 after 5 attempts.\n"
     ]
    },
    {
     "name": "stderr",
     "output_type": "stream",
     "text": [
      " 61%|██████▏   | 62/101 [17:14<09:34, 14.72s/it]"
     ]
    },
    {
     "name": "stdout",
     "output_type": "stream",
     "text": [
      "Error processing question tttt----60 (attempt 1/5): Invalid control character at: line 4 column 255 (char 320)\n",
      "Error processing question tttt----60 (attempt 2/5): Invalid control character at: line 4 column 218 (char 283)\n",
      "Error processing question tttt----60 (attempt 3/5): Invalid control character at: line 4 column 236 (char 301)\n",
      "Error processing question tttt----60 (attempt 4/5): Invalid control character at: line 4 column 205 (char 270)\n"
     ]
    },
    {
     "name": "stderr",
     "output_type": "stream",
     "text": [
      " 62%|██████▏   | 63/101 [18:39<22:43, 35.88s/it]"
     ]
    },
    {
     "name": "stdout",
     "output_type": "stream",
     "text": [
      "Error processing question tttt----60 (attempt 5/5): Invalid control character at: line 4 column 195 (char 260)\n",
      "Failed to process question tttt----60 after 5 attempts.\n"
     ]
    },
    {
     "name": "stderr",
     "output_type": "stream",
     "text": [
      " 63%|██████▎   | 64/101 [19:11<21:18, 34.56s/it]"
     ]
    },
    {
     "name": "stdout",
     "output_type": "stream",
     "text": [
      "Error processing question tttt----72 (attempt 1/5): Invalid control character at: line 4 column 222 (char 269)\n",
      "Error processing question tttt----72 (attempt 2/5): Invalid control character at: line 4 column 222 (char 269)\n",
      "Error processing question tttt----72 (attempt 3/5): Invalid control character at: line 4 column 222 (char 269)\n",
      "Error processing question tttt----72 (attempt 4/5): Invalid control character at: line 4 column 222 (char 269)\n"
     ]
    },
    {
     "name": "stderr",
     "output_type": "stream",
     "text": [
      " 64%|██████▍   | 65/101 [20:29<28:39, 47.76s/it]"
     ]
    },
    {
     "name": "stdout",
     "output_type": "stream",
     "text": [
      "Error processing question tttt----72 (attempt 5/5): Invalid control character at: line 4 column 222 (char 269)\n",
      "Failed to process question tttt----72 after 5 attempts.\n",
      "Error processing question tttt----59 (attempt 1/5): Invalid control character at: line 4 column 218 (char 271)\n",
      "Error processing question tttt----59 (attempt 2/5): Invalid control character at: line 4 column 193 (char 246)\n",
      "Error processing question tttt----59 (attempt 3/5): Invalid control character at: line 4 column 205 (char 258)\n",
      "Error processing question tttt----59 (attempt 4/5): Invalid control character at: line 4 column 205 (char 258)\n"
     ]
    },
    {
     "name": "stderr",
     "output_type": "stream",
     "text": [
      " 65%|██████▌   | 66/101 [21:39<31:40, 54.31s/it]"
     ]
    },
    {
     "name": "stdout",
     "output_type": "stream",
     "text": [
      "Error processing question tttt----59 (attempt 5/5): Invalid control character at: line 4 column 193 (char 246)\n",
      "Failed to process question tttt----59 after 5 attempts.\n"
     ]
    },
    {
     "name": "stderr",
     "output_type": "stream",
     "text": [
      " 66%|██████▋   | 67/101 [22:15<27:43, 48.92s/it]"
     ]
    },
    {
     "name": "stdout",
     "output_type": "stream",
     "text": [
      "Error processing question tttt----64 (attempt 1/5): 'data'\n"
     ]
    },
    {
     "name": "stderr",
     "output_type": "stream",
     "text": [
      " 69%|██████▉   | 70/101 [23:09<14:14, 27.55s/it]"
     ]
    },
    {
     "name": "stdout",
     "output_type": "stream",
     "text": [
      "Error processing question tttt----67 (attempt 1/5): Invalid control character at: line 4 column 235 (char 295)\n"
     ]
    },
    {
     "name": "stderr",
     "output_type": "stream",
     "text": [
      " 87%|████████▋ | 88/101 [28:11<02:37, 12.09s/it]"
     ]
    },
    {
     "name": "stdout",
     "output_type": "stream",
     "text": [
      "Error processing question tttt----93 (attempt 1/5): Invalid control character at: line 4 column 346 (char 441)\n",
      "Error processing question tttt----93 (attempt 2/5): Invalid control character at: line 4 column 353 (char 448)\n",
      "Error processing question tttt----93 (attempt 3/5): Invalid control character at: line 4 column 346 (char 441)\n",
      "Error processing question tttt----93 (attempt 4/5): Invalid control character at: line 4 column 353 (char 448)\n"
     ]
    },
    {
     "name": "stderr",
     "output_type": "stream",
     "text": [
      " 88%|████████▊ | 89/101 [30:08<08:40, 43.40s/it]"
     ]
    },
    {
     "name": "stdout",
     "output_type": "stream",
     "text": [
      "Error processing question tttt----88 (attempt 1/5): Invalid control character at: line 4 column 394 (char 477)\n",
      "Error processing question tttt----88 (attempt 2/5): Invalid control character at: line 4 column 394 (char 477)\n",
      "Error processing question tttt----88 (attempt 3/5): Invalid control character at: line 4 column 394 (char 477)\n",
      "Error processing question tttt----88 (attempt 4/5): Invalid control character at: line 4 column 394 (char 477)\n"
     ]
    },
    {
     "name": "stderr",
     "output_type": "stream",
     "text": [
      " 89%|████████▉ | 90/101 [31:43<10:49, 59.04s/it]"
     ]
    },
    {
     "name": "stdout",
     "output_type": "stream",
     "text": [
      "Error processing question tttt----88 (attempt 5/5): Invalid control character at: line 4 column 394 (char 477)\n",
      "Failed to process question tttt----88 after 5 attempts.\n"
     ]
    },
    {
     "name": "stderr",
     "output_type": "stream",
     "text": [
      " 90%|█████████ | 91/101 [31:55<07:27, 44.75s/it]"
     ]
    },
    {
     "name": "stdout",
     "output_type": "stream",
     "text": [
      "Error processing question tttt----95 (attempt 1/5): Invalid control character at: line 4 column 256 (char 336)\n",
      "Error processing question tttt----95 (attempt 2/5): Invalid control character at: line 4 column 257 (char 337)\n"
     ]
    },
    {
     "name": "stderr",
     "output_type": "stream",
     "text": [
      " 91%|█████████ | 92/101 [32:46<07:01, 46.82s/it]"
     ]
    },
    {
     "name": "stdout",
     "output_type": "stream",
     "text": [
      "Error processing question tttt----96 (attempt 1/5): Invalid control character at: line 4 column 258 (char 319)\n",
      "Error processing question tttt----96 (attempt 2/5): Invalid control character at: line 4 column 270 (char 331)\n",
      "Error processing question tttt----96 (attempt 3/5): Invalid control character at: line 4 column 273 (char 334)\n",
      "Error processing question tttt----96 (attempt 4/5): Invalid control character at: line 4 column 270 (char 331)\n"
     ]
    },
    {
     "name": "stderr",
     "output_type": "stream",
     "text": [
      " 92%|█████████▏| 93/101 [34:00<07:18, 54.78s/it]"
     ]
    },
    {
     "name": "stdout",
     "output_type": "stream",
     "text": [
      "Error processing question tttt----96 (attempt 5/5): Invalid control character at: line 4 column 270 (char 331)\n",
      "Failed to process question tttt----96 after 5 attempts.\n"
     ]
    },
    {
     "name": "stderr",
     "output_type": "stream",
     "text": [
      " 93%|█████████▎| 94/101 [34:10<04:50, 41.47s/it]"
     ]
    },
    {
     "name": "stdout",
     "output_type": "stream",
     "text": [
      "Error processing question tttt----90 (attempt 1/5): Invalid control character at: line 4 column 323 (char 422)\n"
     ]
    },
    {
     "name": "stderr",
     "output_type": "stream",
     "text": [
      " 95%|█████████▌| 96/101 [34:53<02:31, 30.31s/it]"
     ]
    },
    {
     "name": "stdout",
     "output_type": "stream",
     "text": [
      "Error processing question tttt----91 (attempt 1/5): 'data'\n"
     ]
    },
    {
     "name": "stderr",
     "output_type": "stream",
     "text": [
      " 97%|█████████▋| 98/101 [35:40<01:17, 25.90s/it]"
     ]
    },
    {
     "name": "stdout",
     "output_type": "stream",
     "text": [
      "Error processing question tttt----98 (attempt 1/5): 'data'\n",
      "Error processing question tttt----98 (attempt 2/5): 'data'\n",
      "Error processing question tttt----98 (attempt 3/5): 'data'\n",
      "Error processing question tttt----98 (attempt 4/5): 'data'\n"
     ]
    },
    {
     "name": "stderr",
     "output_type": "stream",
     "text": [
      "100%|██████████| 101/101 [37:02<00:00, 22.00s/it]\n"
     ]
    }
   ],
   "source": [
    "answers = []\n",
    "\n",
    "for question in tqdm(questions[:]):\n",
    "\n",
    "    max_retries = 5\n",
    "    retries = 0\n",
    "\n",
    "    res = question\n",
    "    res['sql_generator'] = {}\n",
    "\n",
    "    while retries < max_retries:\n",
    "        try:\n",
    "            query = make_prompt(question)\n",
    "\n",
    "            start_time = time.time()\n",
    "            response = client.chat.completions.create(\n",
    "                model=\"deepseek-chat\",\n",
    "                messages=[\n",
    "                    {\"role\": \"user\", \"content\": query},\n",
    "                ],\n",
    "                stream=False,\n",
    "                top_p=0.7,\n",
    "                temperature=0.9\n",
    "            )\n",
    "            end_time = time.time()\n",
    "\n",
    "            response = json.loads(response.to_json())\n",
    "            content = response['choices'][0]['message']['content']\n",
    "\n",
    "            content = content.strip('`json')\n",
    "            usage = response['usage']\n",
    "            execution_time = end_time - start_time\n",
    "\n",
    "            res['sql_generator']['stage_1']= [json.loads(content.strip('`json'))]\n",
    "            res['token_usage']['sql_generator-stage_1'] = [usage]\n",
    "            res['time_usage']['sql_generator-stage_1'] = [f\"{execution_time:.2f}s\"]\n",
    "\n",
    "            data = {\n",
    "                \"sql\": json.loads(content.strip('`json'))['sql_query'],\n",
    "                \"limit\": 100\n",
    "            }\n",
    "            sql_res = fetch_data(data)['data']\n",
    "            \n",
    "            if sql_res:\n",
    "                answers.append(res)\n",
    "                break\n",
    "\n",
    "        except Exception as e:\n",
    "            retries += 1\n",
    "            print(f\"Error processing question {question['tid']} (attempt {retries}/{max_retries}): {e}\")\n",
    "            if retries == max_retries:\n",
    "                print(f\"Failed to process question {question['tid']} after {max_retries} attempts.\")\n",
    "                answers.append(res)\n",
    "        \n",
    "saved_path = os.path.join(cwd, 'answer_tmp' + os.sep + f'stage_1-{model}-sql_generator-{version}.json')\n",
    "parse_data.write_json(answers, saved_path)"
   ]
  },
  {
   "cell_type": "markdown",
   "metadata": {},
   "source": [
    "# Obtain SQL Results"
   ]
  },
  {
   "cell_type": "markdown",
   "metadata": {},
   "source": [
    "## GLM-4-Plus"
   ]
  },
  {
   "cell_type": "code",
   "execution_count": 17,
   "metadata": {},
   "outputs": [],
   "source": [
    "model = 'glm_4_plus'"
   ]
  },
  {
   "cell_type": "code",
   "execution_count": null,
   "metadata": {},
   "outputs": [],
   "source": [
    "fname = f'stage_1-{model}-sql_generator-{version}.json'\n",
    "fpath = os.path.join(cwd, 'answer_tmp' + os.sep + fname)\n",
    "data = parse_data.read_json(fpath)\n",
    "\n",
    "for i in tqdm(data[:]):\n",
    "    tmp = sql.process_sql_generator_res(i['sql_generator']['stage_1'][0])\n",
    "\n",
    "fname = f'stage_1-{model}-sql_generator-{version}-sql.json'\n",
    "fpath = os.path.join(cwd, 'answer_tmp' + os.sep + fname)\n",
    "data = parse_data.write_json(data, fpath)"
   ]
  },
  {
   "cell_type": "markdown",
   "metadata": {},
   "source": [
    "## Deepseek-v3"
   ]
  },
  {
   "cell_type": "code",
   "execution_count": 21,
   "metadata": {},
   "outputs": [],
   "source": [
    "model = 'deepseek_v3'"
   ]
  },
  {
   "cell_type": "code",
   "execution_count": 28,
   "metadata": {},
   "outputs": [
    {
     "name": "stderr",
     "output_type": "stream",
     "text": [
      "  0%|          | 0/101 [00:00<?, ?it/s]"
     ]
    },
    {
     "name": "stderr",
     "output_type": "stream",
     "text": [
      " 16%|█▌        | 16/101 [00:03<00:19,  4.37it/s]"
     ]
    },
    {
     "name": "stdout",
     "output_type": "stream",
     "text": [
      "Request failed: 500 Server Error: Internal Server Error for url: https://comm.chatglm.cn/finglm2/api/query\n"
     ]
    },
    {
     "name": "stderr",
     "output_type": "stream",
     "text": [
      " 17%|█▋        | 17/101 [00:03<00:19,  4.38it/s]"
     ]
    },
    {
     "name": "stdout",
     "output_type": "stream",
     "text": [
      "Request failed: 500 Server Error: Internal Server Error for url: https://comm.chatglm.cn/finglm2/api/query\n"
     ]
    },
    {
     "name": "stderr",
     "output_type": "stream",
     "text": [
      " 37%|███▋      | 37/101 [00:09<00:22,  2.89it/s]"
     ]
    },
    {
     "name": "stdout",
     "output_type": "stream",
     "text": [
      "Request failed: 500 Server Error: Internal Server Error for url: https://comm.chatglm.cn/finglm2/api/query\n"
     ]
    },
    {
     "name": "stderr",
     "output_type": "stream",
     "text": [
      " 50%|█████     | 51/101 [00:12<00:11,  4.22it/s]"
     ]
    },
    {
     "name": "stdout",
     "output_type": "stream",
     "text": [
      "Request failed: 500 Server Error: Internal Server Error for url: https://comm.chatglm.cn/finglm2/api/query\n"
     ]
    },
    {
     "name": "stderr",
     "output_type": "stream",
     "text": [
      " 57%|█████▋    | 58/101 [00:15<00:15,  2.81it/s]"
     ]
    },
    {
     "name": "stdout",
     "output_type": "stream",
     "text": [
      "'stage_1'\n"
     ]
    },
    {
     "name": "stderr",
     "output_type": "stream",
     "text": [
      " 61%|██████▏   | 62/101 [00:16<00:11,  3.53it/s]"
     ]
    },
    {
     "name": "stdout",
     "output_type": "stream",
     "text": [
      "'stage_1'\n"
     ]
    },
    {
     "name": "stderr",
     "output_type": "stream",
     "text": [
      " 64%|██████▍   | 65/101 [00:16<00:10,  3.42it/s]"
     ]
    },
    {
     "name": "stdout",
     "output_type": "stream",
     "text": [
      "'stage_1'\n"
     ]
    },
    {
     "name": "stderr",
     "output_type": "stream",
     "text": [
      " 91%|█████████ | 92/101 [00:24<00:02,  4.10it/s]"
     ]
    },
    {
     "name": "stdout",
     "output_type": "stream",
     "text": [
      "'stage_1'\n"
     ]
    },
    {
     "name": "stderr",
     "output_type": "stream",
     "text": [
      "100%|██████████| 101/101 [00:27<00:00,  3.63it/s]\n"
     ]
    }
   ],
   "source": [
    "fname = f'stage_1-{model}-sql_generator-{version}.json'\n",
    "fpath = os.path.join(cwd, 'answer_tmp' + os.sep + fname)\n",
    "data = parse_data.read_json(fpath)\n",
    "\n",
    "for i in tqdm(data[:]):\n",
    "    try:\n",
    "        tmp = sql.process_sql_generator_res(i['sql_generator']['stage_1'][0])\n",
    "    except Exception as e:\n",
    "        print(e)\n",
    "\n",
    "fname = f'stage_1-{model}-sql_generator-{version}-sql.json'\n",
    "fpath = os.path.join(cwd, 'answer_tmp' + os.sep + fname)\n",
    "data = parse_data.write_json(data, fpath)"
   ]
  }
 ],
 "metadata": {
  "kernelspec": {
   "display_name": "llm_api",
   "language": "python",
   "name": "python3"
  },
  "language_info": {
   "codemirror_mode": {
    "name": "ipython",
    "version": 3
   },
   "file_extension": ".py",
   "mimetype": "text/x-python",
   "name": "python",
   "nbconvert_exporter": "python",
   "pygments_lexer": "ipython3",
   "version": "3.10.14"
  }
 },
 "nbformat": 4,
 "nbformat_minor": 2
}

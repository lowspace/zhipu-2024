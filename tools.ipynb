{
 "cells": [
  {
   "cell_type": "markdown",
   "metadata": {},
   "source": [
    "# Init"
   ]
  },
  {
   "cell_type": "code",
   "execution_count": 1,
   "metadata": {},
   "outputs": [],
   "source": [
    "import sys\n",
    "import os\n",
    "import json\n",
    "import time\n",
    "import re\n",
    "\n",
    "from tqdm import tqdm\n",
    "\n",
    "cwd = os.getcwd()\n",
    "os.chdir(cwd)\n",
    "sys.path.append('tools')\n",
    "\n",
    "import chat\n",
    "import parse_data\n",
    "import sql"
   ]
  },
  {
   "cell_type": "markdown",
   "metadata": {},
   "source": [
    "# Generator Answer"
   ]
  },
  {
   "cell_type": "code",
   "execution_count": 13,
   "metadata": {},
   "outputs": [],
   "source": [
    "src_fname = 'stage_1-glm_4_plus-answer_generator-v1.0.0.json'\n",
    "saved_fname = 'submit-stage_1-250125.json'\n",
    "template_fname = 'submit_example.json'\n",
    "\n",
    "src_fpath = os.path.join('answer_tmp', src_fname)\n",
    "saved_fpath = os.path.join('answer', saved_fname)\n",
    "template_fpath = os.path.join('data', template_fname)"
   ]
  },
  {
   "cell_type": "code",
   "execution_count": 14,
   "metadata": {},
   "outputs": [],
   "source": [
    "raw_data = parse_data.read_json(src_fpath)\n",
    "answers = parse_data.read_json(template_fpath)\n",
    "\n",
    "for i in raw_data:\n",
    "    tid = i['tid']\n",
    "    try:\n",
    "        answer = i['answer_generator']['stage_1']\n",
    "        \n",
    "        for j in answers:\n",
    "            if j['tid'] == tid:\n",
    "                j['team'][0]['answer'] = answer\n",
    "    except:\n",
    "        print(tid)\n",
    "\n",
    "parse_data.write_json(answers, saved_fpath)"
   ]
  },
  {
   "cell_type": "markdown",
   "metadata": {},
   "source": [
    "## Tokenizer"
   ]
  },
  {
   "cell_type": "code",
   "execution_count": 13,
   "metadata": {},
   "outputs": [
    {
     "data": {
      "text/plain": [
       "{'SIGHAN2005_PKU_CONVSEG': 'https://file.hankcs.com/hanlp/tok/sighan2005-pku-convseg_20200110_153722.zip',\n",
       " 'SIGHAN2005_MSR_CONVSEG': 'https://file.hankcs.com/hanlp/tok/convseg-msr-nocrf-noembed_20200110_153524.zip',\n",
       " 'CTB6_CONVSEG': 'https://file.hankcs.com/hanlp/tok/ctb6_convseg_nowe_nocrf_20200110_004046.zip',\n",
       " 'PKU_NAME_MERGED_SIX_MONTHS_CONVSEG': 'https://file.hankcs.com/hanlp/tok/pku98_6m_conv_ngram_20200110_134736.zip',\n",
       " 'LARGE_ALBERT_BASE': 'https://file.hankcs.com/hanlp/tok/large_corpus_cws_albert_base_20211228_160926.zip',\n",
       " 'SIGHAN2005_PKU_BERT_BASE_ZH': 'https://file.hankcs.com/hanlp/tok/sighan2005_pku_bert_base_zh_20201231_141130.zip',\n",
       " 'COARSE_ELECTRA_SMALL_ZH': 'https://file.hankcs.com/hanlp/tok/coarse_electra_small_20220616_012050.zip',\n",
       " 'FINE_ELECTRA_SMALL_ZH': 'https://file.hankcs.com/hanlp/tok/fine_electra_small_20220615_231803.zip',\n",
       " 'CTB9_TOK_ELECTRA_SMALL': 'https://file.hankcs.com/hanlp/tok/ctb9_electra_small_20220215_205427.zip',\n",
       " 'CTB9_TOK_ELECTRA_BASE': 'http://download.hanlp.com/tok/extra/ctb9_tok_electra_base_20220426_111949.zip',\n",
       " 'CTB9_TOK_ELECTRA_BASE_CRF': 'http://download.hanlp.com/tok/extra/ctb9_tok_electra_base_crf_20220426_161255.zip',\n",
       " 'MSR_TOK_ELECTRA_BASE_CRF': 'http://download.hanlp.com/tok/extra/msra_crf_electra_base_20220507_113936.zip',\n",
       " 'KYOTO_EVAHAN_TOK_LZH': 'http://download.hanlp.com/tok/extra/kyoto_evahan_tok_bert-ancient-chinese_tau_0.5_20250111_234146.zip',\n",
       " 'UD_TOK_MMINILMV2L6': 'https://file.hankcs.com/hanlp/tok/ud_tok_mMiniLMv2L6_no_space_mul_20220619_091824.zip',\n",
       " 'UD_TOK_MMINILMV2L12': 'https://file.hankcs.com/hanlp/tok/ud_tok_mMiniLMv2L12_no_space_mul_20220619_091159.zip'}"
      ]
     },
     "execution_count": 13,
     "metadata": {},
     "output_type": "execute_result"
    },
    {
     "data": {
      "text/plain": [
       "{'OPEN_TOK_POS_NER_SRL_DEP_SDP_CON_ELECTRA_SMALL_ZH': 'https://file.hankcs.com/hanlp/mtl/open_tok_pos_ner_srl_dep_sdp_con_electra_small_20201223_035557.zip',\n",
       " 'OPEN_TOK_POS_NER_SRL_DEP_SDP_CON_ELECTRA_BASE_ZH': 'https://file.hankcs.com/hanlp/mtl/open_tok_pos_ner_srl_dep_sdp_con_electra_base_20201223_201906.zip',\n",
       " 'CLOSE_TOK_POS_NER_SRL_DEP_SDP_CON_ELECTRA_SMALL_ZH': 'https://file.hankcs.com/hanlp/mtl/close_tok_pos_ner_srl_dep_sdp_con_electra_small_20210111_124159.zip',\n",
       " 'CLOSE_TOK_POS_NER_SRL_UDEP_SDP_CON_ELECTRA_SMALL_ZH': 'https://file.hankcs.com/hanlp/mtl/close_tok_pos_ner_srl_dep_sdp_con_electra_small_20220626_175100.zip',\n",
       " 'CLOSE_TOK_POS_NER_SRL_DEP_SDP_CON_ELECTRA_BASE_ZH': 'https://file.hankcs.com/hanlp/mtl/close_tok_pos_ner_srl_dep_sdp_con_electra_base_20210111_124519.zip',\n",
       " 'CLOSE_TOK_POS_NER_SRL_DEP_SDP_CON_ERNIE_GRAM_ZH': 'https://file.hankcs.com/hanlp/mtl/close_tok_pos_ner_srl_dep_sdp_con_ernie_gram_base_aug_20210904_145403.zip',\n",
       " 'KYOTO_EVAHAN_TOK_LEM_POS_UDEP_LZH': 'https://file.hankcs.com/hanlp/mtl/kyoto_evahan_tok_lem_pos_udep_bert-ancient-chinese_lr_1_aug_dict_20250112_154422.zip',\n",
       " 'UD_ONTONOTES_TOK_POS_LEM_FEA_NER_SRL_DEP_SDP_CON_MMINILMV2L6': 'https://file.hankcs.com/hanlp/mtl/ud_ontonotes_tok_pos_lem_fea_ner_srl_dep_sdp_con_mMiniLMv2L6_no_space_20220731_161526.zip',\n",
       " 'UD_ONTONOTES_TOK_POS_LEM_FEA_NER_SRL_DEP_SDP_CON_MMINILMV2L12': 'https://file.hankcs.com/hanlp/mtl/ud_ontonotes_tok_pos_lem_fea_ner_srl_dep_sdp_con_mMiniLMv2L12_no_space_20220807_133143.zip',\n",
       " 'UD_ONTONOTES_TOK_POS_LEM_FEA_NER_SRL_DEP_SDP_CON_XLMR_BASE': 'https://file.hankcs.com/hanlp/mtl/ud_ontonotes_tok_pos_lem_fea_ner_srl_dep_sdp_con_xlm_base_20220608_003435.zip',\n",
       " 'NPCMJ_UD_KYOTO_TOK_POS_CON_BERT_BASE_CHAR_JA': 'https://file.hankcs.com/hanlp/mtl/npcmj_ud_kyoto_tok_pos_ner_dep_con_srl_bert_base_char_ja_20210914_133742.zip',\n",
       " 'EN_TOK_LEM_POS_NER_SRL_UDEP_SDP_CON_MODERNBERT_BASE': 'https://file.hankcs.com/hanlp/mtl/en_tok_lem_pos_ner_srl_udep_sdp_con_modernbert_base_prepend_false_20241229_053838.zip',\n",
       " 'EN_TOK_LEM_POS_NER_SRL_UDEP_SDP_CON_MODERNBERT_LARGE': 'https://file.hankcs.com/hanlp/mtl/en_tok_lem_pos_ner_srl_udep_sdp_con_modernbert_large_prepend_false_20250107_181612.zip'}"
      ]
     },
     "execution_count": 13,
     "metadata": {},
     "output_type": "execute_result"
    },
    {
     "data": {
      "text/plain": [
       "{'MSRA_NER_BERT_BASE_ZH': 'https://file.hankcs.com/hanlp/ner/ner_bert_base_msra_20211227_114712.zip',\n",
       " 'MSRA_NER_ALBERT_BASE_ZH': 'https://file.hankcs.com/hanlp/ner/msra_ner_albert_base_20211228_173323.zip',\n",
       " 'MSRA_NER_ELECTRA_SMALL_ZH': 'https://file.hankcs.com/hanlp/ner/msra_ner_electra_small_20220215_205503.zip',\n",
       " 'CONLL03_NER_BERT_BASE_CASED_EN': 'https://file.hankcs.com/hanlp/ner/ner_conll03_bert_base_cased_en_20211227_121443.zip'}"
      ]
     },
     "execution_count": 13,
     "metadata": {},
     "output_type": "execute_result"
    },
    {
     "name": "stderr",
     "output_type": "stream",
     "text": [
      "                                   \r"
     ]
    }
   ],
   "source": [
    "import hanlp\n",
    "\n",
    "hanlp.pretrained.tok.ALL # 语种见名称最后一个字段或相应语料库\n",
    "hanlp.pretrained.mtl.ALL\n",
    "hanlp.pretrained.ner.ALL # 语种见名称最后一个字段或相应语料库\n",
    "\n",
    "tok = hanlp.load(hanlp.pretrained.tok.COARSE_ELECTRA_SMALL_ZH)\n",
    "# ner = hanlp.load(hanlp.pretrained.ner.MSRA_NER_ELECTRA_SMALL_ZH)"
   ]
  },
  {
   "cell_type": "code",
   "execution_count": 15,
   "metadata": {},
   "outputs": [
    {
     "name": "stdout",
     "output_type": "stream",
     "text": [
      "[['600872', '的', '全称', '、', 'A股', '简称', '、', '法人', '、', '法律顾问', '、', '会计师', '事务所', '及', '董秘', '是', '？'], ['今天', '是', '2021年12月24日', '，', '创', '近', '半年', '新高', '的', '股票', '有', '几只', '？'], ['TOUR', '他', '是否', '已经', '退市', '了', '？', '（', '是', '或者', '否', '）'], ['铜陵有色金属集团股份有限公司', '的', '法人', '代表', '是', '谁', '？'], ['海信视像科技股份有限公司', '在', '什么', '时候', '成立', '的', '，', 'XXXX-XX-XX', '？'], ['截止', '2021-06-17', '上海建工', '的', '近', '一周', '成交', '金额', '（', '万元', '）', '是', '多少', '？'], ['JD.com, Inc.', '这', '家', '公司', '在', '美股', '英文', '名称', '是', '什么', '？']]\n"
     ]
    }
   ],
   "source": [
    "tok.dict_force = {'JD.com, Inc.', '上海建工'}\n",
    "\n",
    "print(tok(['600872的全称、A股简称、法人、法律顾问、会计师事务所及董秘是？', '今天是2021年12月24日，创近半年新高的股票有几只？', 'TOUR他是否已经退市了？（是或者否）', '铜陵有色金属集团股份有限公司的法人代表是谁？', '海信视像科技股份有限公司在什么时候成立的，XXXX-XX-XX？', '截止2021-06-17上海建工的近一周成交金额（万元）是多少？', 'JD.com, Inc.这家公司在美股英文名称是什么？']))"
   ]
  },
  {
   "cell_type": "code",
   "execution_count": 2,
   "metadata": {},
   "outputs": [
    {
     "name": "stdout",
     "output_type": "stream",
     "text": [
      "[['600872', '的', '全称', '、', 'A股', '简称', '、', '法人', '、', '法律顾问', '、', '会计师', '事务所', '及', '董秘', '是', '？'], ['今天', '是', '2021年12月24日', '，', '创', '近', '半年', '新高', '的', '股票', '有', '几只', '？'], ['TOUR', '他', '是否', '已经', '退市', '了', '？', '（', '是', '或者', '否', '）'], ['铜陵有色金属集团股份有限公司', '的', '法人', '代表', '是', '谁', '？'], ['海信视像科技股份有限公司', '在', '什么', '时候', '成立', '的', '，', 'XXXX-XX-XX', '？'], ['截止', '2021-06-17', '上海', '建工', '的', '近', '一周', '成交', '金额', '（', '万元', '）', '是', '多少', '？'], ['JD.com', ',', 'Inc.', '这', '家', '公司', '在', '美股', '英文', '名称', '是', '什么', '？']]\n"
     ]
    }
   ],
   "source": [
    "print(tok(['600872的全称、A股简称、法人、法律顾问、会计师事务所及董秘是？', '今天是2021年12月24日，创近半年新高的股票有几只？', 'TOUR他是否已经退市了？（是或者否）', '铜陵有色金属集团股份有限公司的法人代表是谁？', '海信视像科技股份有限公司在什么时候成立的，XXXX-XX-XX？', '截止2021-06-17上海建工的近一周成交金额（万元）是多少？', 'JD.com, Inc.这家公司在美股英文名称是什么？'], tasks='ner*'))"
   ]
  },
  {
   "cell_type": "code",
   "execution_count": 17,
   "metadata": {},
   "outputs": [
    {
     "name": "stdout",
     "output_type": "stream",
     "text": [
      "[['600872', '的', '全称', '、', 'A股', '简称', '、', '法人', '、', '法律顾问', '、', '会计师', '事务所', '及', '董秘', '是', '？'], ['今天', '是', '2021年12月24日', '，', '创', '近', '半年', '新高', '的', '股票', '有', '几只', '？'], ['TOUR', '他', '是否', '已经', '退市', '了', '？', '（', '是', '或者', '否', '）'], ['铜陵有色金属集团股份有限公司', '的', '法人', '代表', '是', '谁', '？'], ['海信视像科技股份有限公司', '在', '什么', '时候', '成立', '的', '，', 'XXXX-XX-XX', '？'], ['截止', '2021-06-17', '上海建工', '的', '近', '一周', '成交', '金额', '（', '万元', '）', '是', '多少', '？'], ['JD.com, Inc.', '这', '家', '公司', '在', '美股', '英文', '名称', '是', '什么', '？']]\n"
     ]
    }
   ],
   "source": [
    "tok.dict_force = {'JD.com, Inc.', '上海建工'}\n",
    "\n",
    "print(tok(['600872的全称、A股简称、法人、法律顾问、会计师事务所及董秘是？', '今天是2021年12月24日，创近半年新高的股票有几只？', 'TOUR他是否已经退市了？（是或者否）', '铜陵有色金属集团股份有限公司的法人代表是谁？', '海信视像科技股份有限公司在什么时候成立的，XXXX-XX-XX？', '截止2021-06-17上海建工的近一周成交金额（万元）是多少？', 'JD.com, Inc.这家公司在美股英文名称是什么？']))"
   ]
  },
  {
   "cell_type": "code",
   "execution_count": 7,
   "metadata": {},
   "outputs": [
    {
     "data": {
      "text/plain": [
       "['今天',\n",
       " '是',\n",
       " '2021',\n",
       " '年',\n",
       " '12',\n",
       " '月',\n",
       " '24',\n",
       " '日',\n",
       " '，',\n",
       " '创',\n",
       " '近半年',\n",
       " '新高',\n",
       " '的',\n",
       " '股票',\n",
       " '有',\n",
       " '几只',\n",
       " '？']"
      ]
     },
     "execution_count": 7,
     "metadata": {},
     "output_type": "execute_result"
    }
   ],
   "source": [
    "import jieba\n",
    "\n",
    "[word for word in jieba.cut('今天是2021年12月24日，创近半年新高的股票有几只？')]"
   ]
  }
 ],
 "metadata": {
  "kernelspec": {
   "display_name": "llm_api",
   "language": "python",
   "name": "python3"
  },
  "language_info": {
   "codemirror_mode": {
    "name": "ipython",
    "version": 3
   },
   "file_extension": ".py",
   "mimetype": "text/x-python",
   "name": "python",
   "nbconvert_exporter": "python",
   "pygments_lexer": "ipython3",
   "version": "3.10.14"
  }
 },
 "nbformat": 4,
 "nbformat_minor": 2
}
